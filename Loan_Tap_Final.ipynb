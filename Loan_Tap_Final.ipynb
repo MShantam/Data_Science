{
 "cells": [
  {
   "cell_type": "markdown",
   "id": "be86c65f",
   "metadata": {
    "id": "be86c65f"
   },
   "source": [
    "### Context:\n",
    "\n",
    "- A Non-Banking Finance Company like LoanTap is an online platform committed to delivering customized loan products to millennials.\n",
    "- They innovate in an otherwise dull loan segment, to deliver instant, flexible loans on consumer friendly terms to salaried professionals and businessmen.\n",
    "\n",
    "\n",
    "- The data science team is building an underwriting layer to determine the creditworthiness of MSMEs as well as individuals.\n",
    "\n",
    "- Company deploys formal credit to salaried individuals and businesses 4 main financial instruments:\n",
    "\n",
    "    - Personal Loan\n",
    "    - EMI Free Loan\n",
    "    - Personal Overdraft\n",
    "    - Advance Salary Loan\n",
    "\n",
    "- This case study will focus on the underwriting process behind Personal Loan only\n",
    "\n",
    "\n",
    "\n",
    "## Problem Statement:\n",
    "\n",
    "- Given a set of attributes for an Individual, determine if a credit line should be extended to them. If so, what should the repayment terms be in business recommendations?\n",
    "\n",
    "####  Tradeoff Questions:\n",
    "\n",
    "- How can we make sure that our model can detect real defaulters and there are less false positives? This is important as we can lose out on an opportunity to finance more individuals and earn interest on it.\n",
    "\n",
    "- Since NPA (non-performing asset) is a real problem in this industry, it’s important we play safe and shouldn’t disburse loans to anyone\n",
    "\n",
    "\n",
    "## Data dictionary:\n",
    "\n",
    "1. loan_amnt : The listed amount of the loan applied for by the borrower. If at some point in time, the credit department reduces the loan amount, then it will be reflected in this value.\n",
    "2. term : The number of payments on the loan. Values are in months and can be either 36 or 60.\n",
    "3. int_rate : Interest Rate on the loan\n",
    "4. installment : The monthly payment owed by the borrower if the loan originates.\n",
    "5. grade : Institution assigned loan grade\n",
    "6. sub_grade : Institution assigned loan subgrade\n",
    "7. emp_title :The job title supplied by the Borrower when applying for the loan.*\n",
    "8. emp_length : Employment length in years. Possible values are between 0 and 10 where 0 means less than one year and 10 means ten or more years.\n",
    "9. home_ownership : The home ownership status provided by the borrower during registration or obtained from the credit report.\n",
    "10. annual_inc : The self-reported annual income provided by the borrower during registration.\n",
    "11. verification_status : Indicates if income was verified by Institution, not verified, or if the income source was verified\n",
    "12. issue_d : The month which the loan was funded\n",
    "13. loan_status : Current status of the loan - Target Variable\n",
    "14. purpose : A category provided by the borrower for the loan request.\n",
    "15. title : The loan title provided by the borrower\n",
    "16. dti : A ratio calculated using the borrower’s total monthly debt payments on the total debt obligations, excluding mortgage and the requested Institution loan, divided by the borrower’s self-reported monthly income.\n",
    "17. earliest_cr_line :The month the borrower's earliest reported credit line was opened\n",
    "18. open_acc : The number of open credit lines in the borrower's credit file.\n",
    "19. pub_rec : Number of derogatory public records\n",
    "20. revol_bal : Total credit revolving balance\n",
    "21. revol_util : Revolving line utilization rate, or the amount of credit the borrower is using relative to all available revolving credit.\n",
    "22. total_acc : The total number of credit lines currently in the borrower's credit file\n",
    "23. initial_list_status : The initial listing status of the loan. Possible values are – W, F\n",
    "24. application_type : Indicates whether the loan is an individual application or a joint application with two co-borrowers\n",
    "25. mort_acc : Number of mortgage accounts.\n",
    "26. pub_rec_bankruptcies : Number of public record bankruptcies\n",
    "27. Address: Address of the individual\n",
    "\n",
    "\n",
    "\n",
    "\n",
    "\n",
    "\n",
    "\n"
   ]
  },
  {
   "cell_type": "code",
   "execution_count": 2,
   "id": "42e380ea",
   "metadata": {
    "id": "42e380ea"
   },
   "outputs": [],
   "source": [
    "\n",
    "import pandas as pd\n",
    "import numpy as np\n",
    "import seaborn as sns\n",
    "import matplotlib.pyplot as plt\n",
    "%matplotlib inline\n",
    "from matplotlib import figure\n",
    "\n",
    "import statsmodels.api as sm\n",
    "from scipy.stats import norm\n",
    "from scipy.stats import t\n",
    "\n",
    "import warnings\n",
    "warnings.filterwarnings('ignore')\n",
    "\n",
    "pd.set_option('display.max_rows', 500)\n",
    "pd.set_option('display.max_columns', 500)\n",
    "pd.set_option('display.width', 1000)"
   ]
  },
  {
   "cell_type": "code",
   "execution_count": 3,
   "id": "0ce8454c",
   "metadata": {
    "id": "0ce8454c"
   },
   "outputs": [],
   "source": [
    "df = pd.read_csv(\"https://d2beiqkhq929f0.cloudfront.net/public_assets/assets/000/003/549/original/logistic_regression.csv?1651045921\")"
   ]
  },
  {
   "cell_type": "code",
   "execution_count": 5,
   "id": "7fb69b59",
   "metadata": {
    "colab": {
     "base_uri": "https://localhost:8080/",
     "height": 783
    },
    "id": "7fb69b59",
    "outputId": "c7a2a7d5-89a0-4ecc-d546-d999df1084fe",
    "scrolled": true
   },
   "outputs": [
    {
     "data": {
      "text/html": [
       "<div>\n",
       "<style scoped>\n",
       "    .dataframe tbody tr th:only-of-type {\n",
       "        vertical-align: middle;\n",
       "    }\n",
       "\n",
       "    .dataframe tbody tr th {\n",
       "        vertical-align: top;\n",
       "    }\n",
       "\n",
       "    .dataframe thead th {\n",
       "        text-align: right;\n",
       "    }\n",
       "</style>\n",
       "<table border=\"1\" class=\"dataframe\">\n",
       "  <thead>\n",
       "    <tr style=\"text-align: right;\">\n",
       "      <th></th>\n",
       "      <th>loan_amnt</th>\n",
       "      <th>term</th>\n",
       "      <th>int_rate</th>\n",
       "      <th>installment</th>\n",
       "      <th>grade</th>\n",
       "      <th>sub_grade</th>\n",
       "      <th>emp_title</th>\n",
       "      <th>emp_length</th>\n",
       "      <th>home_ownership</th>\n",
       "      <th>annual_inc</th>\n",
       "      <th>verification_status</th>\n",
       "      <th>issue_d</th>\n",
       "      <th>loan_status</th>\n",
       "      <th>purpose</th>\n",
       "      <th>title</th>\n",
       "      <th>dti</th>\n",
       "      <th>earliest_cr_line</th>\n",
       "      <th>open_acc</th>\n",
       "      <th>pub_rec</th>\n",
       "      <th>revol_bal</th>\n",
       "      <th>revol_util</th>\n",
       "      <th>total_acc</th>\n",
       "      <th>initial_list_status</th>\n",
       "      <th>application_type</th>\n",
       "      <th>mort_acc</th>\n",
       "      <th>pub_rec_bankruptcies</th>\n",
       "      <th>address</th>\n",
       "    </tr>\n",
       "  </thead>\n",
       "  <tbody>\n",
       "    <tr>\n",
       "      <th>0</th>\n",
       "      <td>10000.0</td>\n",
       "      <td>36 months</td>\n",
       "      <td>11.44</td>\n",
       "      <td>329.48</td>\n",
       "      <td>B</td>\n",
       "      <td>B4</td>\n",
       "      <td>Marketing</td>\n",
       "      <td>10+ years</td>\n",
       "      <td>RENT</td>\n",
       "      <td>117000.0</td>\n",
       "      <td>Not Verified</td>\n",
       "      <td>Jan-2015</td>\n",
       "      <td>Fully Paid</td>\n",
       "      <td>vacation</td>\n",
       "      <td>Vacation</td>\n",
       "      <td>26.24</td>\n",
       "      <td>Jun-1990</td>\n",
       "      <td>16.0</td>\n",
       "      <td>0.0</td>\n",
       "      <td>36369.0</td>\n",
       "      <td>41.8</td>\n",
       "      <td>25.0</td>\n",
       "      <td>w</td>\n",
       "      <td>INDIVIDUAL</td>\n",
       "      <td>0.0</td>\n",
       "      <td>0.0</td>\n",
       "      <td>0174 Michelle Gateway\\r\\nMendozaberg, OK 22690</td>\n",
       "    </tr>\n",
       "    <tr>\n",
       "      <th>1</th>\n",
       "      <td>8000.0</td>\n",
       "      <td>36 months</td>\n",
       "      <td>11.99</td>\n",
       "      <td>265.68</td>\n",
       "      <td>B</td>\n",
       "      <td>B5</td>\n",
       "      <td>Credit analyst</td>\n",
       "      <td>4 years</td>\n",
       "      <td>MORTGAGE</td>\n",
       "      <td>65000.0</td>\n",
       "      <td>Not Verified</td>\n",
       "      <td>Jan-2015</td>\n",
       "      <td>Fully Paid</td>\n",
       "      <td>debt_consolidation</td>\n",
       "      <td>Debt consolidation</td>\n",
       "      <td>22.05</td>\n",
       "      <td>Jul-2004</td>\n",
       "      <td>17.0</td>\n",
       "      <td>0.0</td>\n",
       "      <td>20131.0</td>\n",
       "      <td>53.3</td>\n",
       "      <td>27.0</td>\n",
       "      <td>f</td>\n",
       "      <td>INDIVIDUAL</td>\n",
       "      <td>3.0</td>\n",
       "      <td>0.0</td>\n",
       "      <td>1076 Carney Fort Apt. 347\\r\\nLoganmouth, SD 05113</td>\n",
       "    </tr>\n",
       "  </tbody>\n",
       "</table>\n",
       "</div>"
      ],
      "text/plain": [
       "   loan_amnt        term  int_rate  installment grade sub_grade        emp_title emp_length home_ownership  annual_inc verification_status   issue_d loan_status             purpose               title    dti earliest_cr_line  open_acc  pub_rec  revol_bal  revol_util  total_acc initial_list_status application_type  mort_acc  pub_rec_bankruptcies                                            address\n",
       "0    10000.0   36 months     11.44       329.48     B        B4        Marketing  10+ years           RENT    117000.0        Not Verified  Jan-2015  Fully Paid            vacation            Vacation  26.24         Jun-1990      16.0      0.0    36369.0        41.8       25.0                   w       INDIVIDUAL       0.0                   0.0     0174 Michelle Gateway\\r\\nMendozaberg, OK 22690\n",
       "1     8000.0   36 months     11.99       265.68     B        B5  Credit analyst     4 years       MORTGAGE     65000.0        Not Verified  Jan-2015  Fully Paid  debt_consolidation  Debt consolidation  22.05         Jul-2004      17.0      0.0    20131.0        53.3       27.0                   f       INDIVIDUAL       3.0                   0.0  1076 Carney Fort Apt. 347\\r\\nLoganmouth, SD 05113"
      ]
     },
     "execution_count": 5,
     "metadata": {},
     "output_type": "execute_result"
    }
   ],
   "source": [
    "df.head(2)"
   ]
  },
  {
   "cell_type": "code",
   "execution_count": 6,
   "id": "073ba145",
   "metadata": {
    "colab": {
     "base_uri": "https://localhost:8080/"
    },
    "id": "073ba145",
    "outputId": "158b169c-e544-4ef1-e56e-90d125950df6"
   },
   "outputs": [
    {
     "data": {
      "text/plain": [
       "(396030, 27)"
      ]
     },
     "execution_count": 6,
     "metadata": {},
     "output_type": "execute_result"
    }
   ],
   "source": [
    "df.shape"
   ]
  },
  {
   "cell_type": "markdown",
   "id": "5b6a1bd1",
   "metadata": {
    "id": "5b6a1bd1"
   },
   "source": [
    "- #### 396030 data points , 26 features , 1 label."
   ]
  },
  {
   "cell_type": "markdown",
   "id": "1a5f64e5",
   "metadata": {
    "id": "1a5f64e5"
   },
   "source": [
    "## Missing Values Check:"
   ]
  },
  {
   "cell_type": "code",
   "execution_count": 7,
   "id": "6c22caad",
   "metadata": {
    "colab": {
     "base_uri": "https://localhost:8080/",
     "height": 238
    },
    "id": "6c22caad",
    "outputId": "cc30346d-eb8c-4eeb-bfd0-088ddb028f86",
    "scrolled": false
   },
   "outputs": [
    {
     "data": {
      "text/html": [
       "<div>\n",
       "<style scoped>\n",
       "    .dataframe tbody tr th:only-of-type {\n",
       "        vertical-align: middle;\n",
       "    }\n",
       "\n",
       "    .dataframe tbody tr th {\n",
       "        vertical-align: top;\n",
       "    }\n",
       "\n",
       "    .dataframe thead th {\n",
       "        text-align: right;\n",
       "    }\n",
       "</style>\n",
       "<table border=\"1\" class=\"dataframe\">\n",
       "  <thead>\n",
       "    <tr style=\"text-align: right;\">\n",
       "      <th></th>\n",
       "      <th>Total</th>\n",
       "      <th>Percent</th>\n",
       "    </tr>\n",
       "  </thead>\n",
       "  <tbody>\n",
       "    <tr>\n",
       "      <th>mort_acc</th>\n",
       "      <td>37795</td>\n",
       "      <td>9.543469</td>\n",
       "    </tr>\n",
       "    <tr>\n",
       "      <th>emp_title</th>\n",
       "      <td>22927</td>\n",
       "      <td>5.789208</td>\n",
       "    </tr>\n",
       "    <tr>\n",
       "      <th>emp_length</th>\n",
       "      <td>18301</td>\n",
       "      <td>4.621115</td>\n",
       "    </tr>\n",
       "    <tr>\n",
       "      <th>title</th>\n",
       "      <td>1756</td>\n",
       "      <td>0.443401</td>\n",
       "    </tr>\n",
       "    <tr>\n",
       "      <th>pub_rec_bankruptcies</th>\n",
       "      <td>535</td>\n",
       "      <td>0.135091</td>\n",
       "    </tr>\n",
       "    <tr>\n",
       "      <th>revol_util</th>\n",
       "      <td>276</td>\n",
       "      <td>0.069692</td>\n",
       "    </tr>\n",
       "  </tbody>\n",
       "</table>\n",
       "</div>"
      ],
      "text/plain": [
       "                      Total   Percent\n",
       "mort_acc              37795  9.543469\n",
       "emp_title             22927  5.789208\n",
       "emp_length            18301  4.621115\n",
       "title                  1756  0.443401\n",
       "pub_rec_bankruptcies    535  0.135091\n",
       "revol_util              276  0.069692"
      ]
     },
     "execution_count": 7,
     "metadata": {},
     "output_type": "execute_result"
    }
   ],
   "source": [
    "def missing_df(data):\n",
    "    total_missing_df = data.isna().sum().sort_values(ascending = False)\n",
    "    percentage_missing_df = ((data.isna().sum()/len(data)*100)).sort_values(ascending = False)\n",
    "    missingDF = pd.concat([total_missing_df, percentage_missing_df],axis = 1, keys=['Total', 'Percent'])\n",
    "    return missingDF\n",
    "\n",
    "\n",
    "missing_data = missing_df(df)\n",
    "missing_data[missing_data[\"Total\"]>0]\n"
   ]
  },
  {
   "cell_type": "code",
   "execution_count": 8,
   "id": "b5918738",
   "metadata": {
    "colab": {
     "base_uri": "https://localhost:8080/"
    },
    "collapsed": true,
    "id": "b5918738",
    "outputId": "c5e0f5ee-58db-4d6d-c881-41b7ebefeff0"
   },
   "outputs": [
    {
     "data": {
      "text/plain": [
       "loan_amnt               0.000000\n",
       "term                    0.000000\n",
       "int_rate                0.000000\n",
       "installment             0.000000\n",
       "grade                   0.000000\n",
       "sub_grade               0.000000\n",
       "emp_title               5.789208\n",
       "emp_length              4.621115\n",
       "home_ownership          0.000000\n",
       "annual_inc              0.000000\n",
       "verification_status     0.000000\n",
       "issue_d                 0.000000\n",
       "loan_status             0.000000\n",
       "purpose                 0.000000\n",
       "title                   0.443401\n",
       "dti                     0.000000\n",
       "earliest_cr_line        0.000000\n",
       "open_acc                0.000000\n",
       "pub_rec                 0.000000\n",
       "revol_bal               0.000000\n",
       "revol_util              0.069692\n",
       "total_acc               0.000000\n",
       "initial_list_status     0.000000\n",
       "application_type        0.000000\n",
       "mort_acc                9.543469\n",
       "pub_rec_bankruptcies    0.135091\n",
       "address                 0.000000\n",
       "dtype: float64"
      ]
     },
     "execution_count": 8,
     "metadata": {},
     "output_type": "execute_result"
    }
   ],
   "source": [
    "(df.isna().sum() / df.shape[0] ) * 100"
   ]
  },
  {
   "cell_type": "markdown",
   "id": "31b2ca5f",
   "metadata": {
    "id": "31b2ca5f"
   },
   "source": [
    "### Descriptive Statistics :"
   ]
  },
  {
   "cell_type": "code",
   "execution_count": 9,
   "id": "c9092f26",
   "metadata": {
    "colab": {
     "base_uri": "https://localhost:8080/",
     "height": 300
    },
    "id": "c9092f26",
    "outputId": "64d4eac1-f190-4b99-f86b-c2719f748df4"
   },
   "outputs": [
    {
     "data": {
      "text/html": [
       "<div>\n",
       "<style scoped>\n",
       "    .dataframe tbody tr th:only-of-type {\n",
       "        vertical-align: middle;\n",
       "    }\n",
       "\n",
       "    .dataframe tbody tr th {\n",
       "        vertical-align: top;\n",
       "    }\n",
       "\n",
       "    .dataframe thead th {\n",
       "        text-align: right;\n",
       "    }\n",
       "</style>\n",
       "<table border=\"1\" class=\"dataframe\">\n",
       "  <thead>\n",
       "    <tr style=\"text-align: right;\">\n",
       "      <th></th>\n",
       "      <th>loan_amnt</th>\n",
       "      <th>int_rate</th>\n",
       "      <th>installment</th>\n",
       "      <th>annual_inc</th>\n",
       "      <th>dti</th>\n",
       "      <th>open_acc</th>\n",
       "      <th>pub_rec</th>\n",
       "      <th>revol_bal</th>\n",
       "      <th>revol_util</th>\n",
       "      <th>total_acc</th>\n",
       "      <th>mort_acc</th>\n",
       "      <th>pub_rec_bankruptcies</th>\n",
       "    </tr>\n",
       "  </thead>\n",
       "  <tbody>\n",
       "    <tr>\n",
       "      <th>count</th>\n",
       "      <td>396030.0</td>\n",
       "      <td>396030.0</td>\n",
       "      <td>396030.0</td>\n",
       "      <td>396030.0</td>\n",
       "      <td>396030.0</td>\n",
       "      <td>396030.0</td>\n",
       "      <td>396030.0</td>\n",
       "      <td>396030.0</td>\n",
       "      <td>395754.0</td>\n",
       "      <td>396030.0</td>\n",
       "      <td>358235.0</td>\n",
       "      <td>395495.0</td>\n",
       "    </tr>\n",
       "    <tr>\n",
       "      <th>mean</th>\n",
       "      <td>14113.9</td>\n",
       "      <td>13.6</td>\n",
       "      <td>431.8</td>\n",
       "      <td>74203.2</td>\n",
       "      <td>17.4</td>\n",
       "      <td>11.3</td>\n",
       "      <td>0.2</td>\n",
       "      <td>15844.5</td>\n",
       "      <td>53.8</td>\n",
       "      <td>25.4</td>\n",
       "      <td>1.8</td>\n",
       "      <td>0.1</td>\n",
       "    </tr>\n",
       "    <tr>\n",
       "      <th>std</th>\n",
       "      <td>8357.4</td>\n",
       "      <td>4.5</td>\n",
       "      <td>250.7</td>\n",
       "      <td>61637.6</td>\n",
       "      <td>18.0</td>\n",
       "      <td>5.1</td>\n",
       "      <td>0.5</td>\n",
       "      <td>20591.8</td>\n",
       "      <td>24.5</td>\n",
       "      <td>11.9</td>\n",
       "      <td>2.1</td>\n",
       "      <td>0.4</td>\n",
       "    </tr>\n",
       "    <tr>\n",
       "      <th>min</th>\n",
       "      <td>500.0</td>\n",
       "      <td>5.3</td>\n",
       "      <td>16.1</td>\n",
       "      <td>0.0</td>\n",
       "      <td>0.0</td>\n",
       "      <td>0.0</td>\n",
       "      <td>0.0</td>\n",
       "      <td>0.0</td>\n",
       "      <td>0.0</td>\n",
       "      <td>2.0</td>\n",
       "      <td>0.0</td>\n",
       "      <td>0.0</td>\n",
       "    </tr>\n",
       "    <tr>\n",
       "      <th>25%</th>\n",
       "      <td>8000.0</td>\n",
       "      <td>10.5</td>\n",
       "      <td>250.3</td>\n",
       "      <td>45000.0</td>\n",
       "      <td>11.3</td>\n",
       "      <td>8.0</td>\n",
       "      <td>0.0</td>\n",
       "      <td>6025.0</td>\n",
       "      <td>35.8</td>\n",
       "      <td>17.0</td>\n",
       "      <td>0.0</td>\n",
       "      <td>0.0</td>\n",
       "    </tr>\n",
       "    <tr>\n",
       "      <th>50%</th>\n",
       "      <td>12000.0</td>\n",
       "      <td>13.3</td>\n",
       "      <td>375.4</td>\n",
       "      <td>64000.0</td>\n",
       "      <td>16.9</td>\n",
       "      <td>10.0</td>\n",
       "      <td>0.0</td>\n",
       "      <td>11181.0</td>\n",
       "      <td>54.8</td>\n",
       "      <td>24.0</td>\n",
       "      <td>1.0</td>\n",
       "      <td>0.0</td>\n",
       "    </tr>\n",
       "    <tr>\n",
       "      <th>75%</th>\n",
       "      <td>20000.0</td>\n",
       "      <td>16.5</td>\n",
       "      <td>567.3</td>\n",
       "      <td>90000.0</td>\n",
       "      <td>23.0</td>\n",
       "      <td>14.0</td>\n",
       "      <td>0.0</td>\n",
       "      <td>19620.0</td>\n",
       "      <td>72.9</td>\n",
       "      <td>32.0</td>\n",
       "      <td>3.0</td>\n",
       "      <td>0.0</td>\n",
       "    </tr>\n",
       "    <tr>\n",
       "      <th>max</th>\n",
       "      <td>40000.0</td>\n",
       "      <td>31.0</td>\n",
       "      <td>1533.8</td>\n",
       "      <td>8706582.0</td>\n",
       "      <td>9999.0</td>\n",
       "      <td>90.0</td>\n",
       "      <td>86.0</td>\n",
       "      <td>1743266.0</td>\n",
       "      <td>892.3</td>\n",
       "      <td>151.0</td>\n",
       "      <td>34.0</td>\n",
       "      <td>8.0</td>\n",
       "    </tr>\n",
       "  </tbody>\n",
       "</table>\n",
       "</div>"
      ],
      "text/plain": [
       "       loan_amnt  int_rate  installment  annual_inc       dti  open_acc   pub_rec  revol_bal  revol_util  total_acc  mort_acc  pub_rec_bankruptcies\n",
       "count   396030.0  396030.0     396030.0    396030.0  396030.0  396030.0  396030.0   396030.0    395754.0   396030.0  358235.0              395495.0\n",
       "mean     14113.9      13.6        431.8     74203.2      17.4      11.3       0.2    15844.5        53.8       25.4       1.8                   0.1\n",
       "std       8357.4       4.5        250.7     61637.6      18.0       5.1       0.5    20591.8        24.5       11.9       2.1                   0.4\n",
       "min        500.0       5.3         16.1         0.0       0.0       0.0       0.0        0.0         0.0        2.0       0.0                   0.0\n",
       "25%       8000.0      10.5        250.3     45000.0      11.3       8.0       0.0     6025.0        35.8       17.0       0.0                   0.0\n",
       "50%      12000.0      13.3        375.4     64000.0      16.9      10.0       0.0    11181.0        54.8       24.0       1.0                   0.0\n",
       "75%      20000.0      16.5        567.3     90000.0      23.0      14.0       0.0    19620.0        72.9       32.0       3.0                   0.0\n",
       "max      40000.0      31.0       1533.8   8706582.0    9999.0      90.0      86.0  1743266.0       892.3      151.0      34.0                   8.0"
      ]
     },
     "execution_count": 9,
     "metadata": {},
     "output_type": "execute_result"
    }
   ],
   "source": [
    "df.describe().round(1)"
   ]
  },
  {
   "cell_type": "markdown",
   "id": "beba003e",
   "metadata": {
    "id": "beba003e"
   },
   "source": [
    "- #### Loan Amount, Installments, Annual Income , revol_bal : all these columns have large differnece in mean and median . That means outliers are present in the data."
   ]
  },
  {
   "cell_type": "code",
   "execution_count": 10,
   "id": "6793ec63",
   "metadata": {
    "colab": {
     "base_uri": "https://localhost:8080/"
    },
    "id": "6793ec63",
    "outputId": "fad20d39-a57f-44cc-9ec7-7c719021562f"
   },
   "outputs": [
    {
     "data": {
      "text/plain": [
       "loan_amnt                 1397\n",
       "term                         2\n",
       "int_rate                   566\n",
       "installment              55706\n",
       "grade                        7\n",
       "sub_grade                   35\n",
       "emp_title               173105\n",
       "emp_length                  11\n",
       "home_ownership               6\n",
       "annual_inc               27197\n",
       "verification_status          3\n",
       "issue_d                    115\n",
       "loan_status                  2\n",
       "purpose                     14\n",
       "title                    48816\n",
       "dti                       4262\n",
       "earliest_cr_line           684\n",
       "open_acc                    61\n",
       "pub_rec                     20\n",
       "revol_bal                55622\n",
       "revol_util                1226\n",
       "total_acc                  118\n",
       "initial_list_status          2\n",
       "application_type             3\n",
       "mort_acc                    33\n",
       "pub_rec_bankruptcies         9\n",
       "address                 393700\n",
       "dtype: int64"
      ]
     },
     "execution_count": 10,
     "metadata": {},
     "output_type": "execute_result"
    }
   ],
   "source": [
    "df.nunique()"
   ]
  },
  {
   "cell_type": "code",
   "execution_count": null,
   "id": "d098cc05",
   "metadata": {
    "colab": {
     "base_uri": "https://localhost:8080/"
    },
    "id": "d098cc05",
    "outputId": "94283d8f-05bc-4400-f387-aabc27ec2d5f"
   },
   "outputs": [],
   "source": [
    "df.info()"
   ]
  },
  {
   "cell_type": "code",
   "execution_count": null,
   "id": "2a1ce08e",
   "metadata": {
    "id": "2a1ce08e"
   },
   "outputs": [],
   "source": [
    "columns_type = df.dtypes"
   ]
  },
  {
   "cell_type": "code",
   "execution_count": null,
   "id": "58648906",
   "metadata": {
    "colab": {
     "base_uri": "https://localhost:8080/"
    },
    "id": "58648906",
    "outputId": "96ca488d-804b-4ad9-fb5c-36a4efba7307"
   },
   "outputs": [],
   "source": [
    "columns_type[columns_type==\"object\"]"
   ]
  },
  {
   "cell_type": "code",
   "execution_count": null,
   "id": "f5fd7a85",
   "metadata": {
    "colab": {
     "base_uri": "https://localhost:8080/",
     "height": 274
    },
    "id": "f5fd7a85",
    "outputId": "4ca47c41-1eff-4ab8-c13c-0226624818a6"
   },
   "outputs": [],
   "source": [
    "df.describe(include=\"object\")"
   ]
  },
  {
   "cell_type": "code",
   "execution_count": null,
   "id": "7c40cb04",
   "metadata": {
    "colab": {
     "base_uri": "https://localhost:8080/"
    },
    "id": "7c40cb04",
    "outputId": "7b3ab46b-62d8-4347-b33d-055c74dc4c35"
   },
   "outputs": [],
   "source": [
    "len(columns_type[columns_type==\"object\"])"
   ]
  },
  {
   "cell_type": "code",
   "execution_count": null,
   "id": "14edd9aa",
   "metadata": {
    "colab": {
     "base_uri": "https://localhost:8080/"
    },
    "id": "14edd9aa",
    "outputId": "af9f7cff-a2f7-4854-8c5f-88cd5b518523"
   },
   "outputs": [],
   "source": [
    "26-15\n"
   ]
  },
  {
   "cell_type": "markdown",
   "id": "0b50c4e3",
   "metadata": {
    "id": "0b50c4e3"
   },
   "source": [
    "- #### 15 Non-numerical (categorical/date time) features present in the dataset."
   ]
  },
  {
   "cell_type": "code",
   "execution_count": null,
   "id": "dfbfa9f2",
   "metadata": {
    "colab": {
     "base_uri": "https://localhost:8080/"
    },
    "id": "dfbfa9f2",
    "outputId": "0dc547a7-60b1-4222-d094-7f379d307798",
    "scrolled": true
   },
   "outputs": [],
   "source": [
    "df[\"loan_status\"].value_counts(normalize=True)*100"
   ]
  },
  {
   "cell_type": "markdown",
   "id": "ed219093",
   "metadata": {
    "id": "ed219093"
   },
   "source": [
    "- #### As we can see, there is an imbalance in the data.\n",
    "- 80% belongs to the class 0 : which is loan fully paid.\n",
    "- 20% belongs to the class 1 : which were charged off."
   ]
  },
  {
   "cell_type": "code",
   "execution_count": null,
   "id": "6d83cd4d",
   "metadata": {
    "id": "6d83cd4d"
   },
   "outputs": [],
   "source": []
  },
  {
   "cell_type": "code",
   "execution_count": null,
   "id": "3eea0284",
   "metadata": {
    "colab": {
     "base_uri": "https://localhost:8080/",
     "height": 820
    },
    "id": "3eea0284",
    "outputId": "e00bb626-7d5e-426d-fc07-0779938b7e35"
   },
   "outputs": [],
   "source": [
    "plt.figure(figsize=(12, 8))\n",
    "sns.heatmap(df.corr(method='spearman'), annot=True)\n",
    "plt.show()"
   ]
  },
  {
   "cell_type": "code",
   "execution_count": null,
   "id": "c2b7c6f4",
   "metadata": {
    "id": "c2b7c6f4"
   },
   "outputs": [],
   "source": []
  },
  {
   "cell_type": "markdown",
   "id": "780705eb",
   "metadata": {
    "id": "780705eb"
   },
   "source": [
    "## loan_amnt :\n",
    "\n",
    "- #### The listed amount of the loan applied for by the borrower. If at some point in time, the credit department reduces the loan amount, then it will be reflected in this value.\n"
   ]
  },
  {
   "cell_type": "code",
   "execution_count": null,
   "id": "ad934454",
   "metadata": {
    "colab": {
     "base_uri": "https://localhost:8080/",
     "height": 143
    },
    "id": "ad934454",
    "outputId": "800f9bea-db3d-4289-9388-a2062e051826"
   },
   "outputs": [],
   "source": [
    "df.groupby(by = \"loan_status\")[\"loan_amnt\"].describe()"
   ]
  },
  {
   "cell_type": "code",
   "execution_count": null,
   "id": "8a891cff",
   "metadata": {
    "colab": {
     "base_uri": "https://localhost:8080/",
     "height": 636
    },
    "id": "8a891cff",
    "outputId": "c75b3881-55ca-4247-f8d2-cb1ad205baa6"
   },
   "outputs": [],
   "source": [
    "plt.figure(figsize=(5,7))\n",
    "sns.boxplot(y=df[\"loan_amnt\"],\n",
    "            x=df[\"loan_status\"])"
   ]
  },
  {
   "cell_type": "code",
   "execution_count": null,
   "id": "a29ce41f",
   "metadata": {
    "colab": {
     "base_uri": "https://localhost:8080/",
     "height": 467
    },
    "id": "a29ce41f",
    "outputId": "dc90bb80-743c-4bdf-9c29-91a2eff7c1aa"
   },
   "outputs": [],
   "source": [
    "sns.histplot(df[\"loan_amnt\"],bins = 15)"
   ]
  },
  {
   "cell_type": "markdown",
   "id": "358bd6a4",
   "metadata": {
    "id": "358bd6a4"
   },
   "source": [
    "- ####  for loan status Charged_off, the mean and median of loan_amount is higher than fully paid.\n",
    "- #### also the distribution of loan_amnt is right skewed, which says it has outlier presence.\n"
   ]
  },
  {
   "cell_type": "code",
   "execution_count": null,
   "id": "d3e86502",
   "metadata": {
    "id": "d3e86502"
   },
   "outputs": [],
   "source": []
  },
  {
   "cell_type": "markdown",
   "id": "42260067",
   "metadata": {
    "id": "42260067"
   },
   "source": [
    "##  term :\n",
    "\n",
    "- #### The number of payments on the loan. Values are in months and can be either 36 or 60.\n"
   ]
  },
  {
   "cell_type": "code",
   "execution_count": null,
   "id": "38712b80",
   "metadata": {
    "colab": {
     "base_uri": "https://localhost:8080/"
    },
    "id": "38712b80",
    "outputId": "0b8f4886-8b53-4cb4-8479-dcfd792f12ae"
   },
   "outputs": [],
   "source": [
    "df[\"term\"].value_counts(dropna=False)"
   ]
  },
  {
   "cell_type": "markdown",
   "id": "6dc3f205",
   "metadata": {
    "id": "6dc3f205"
   },
   "source": [
    "####  P[loan_statis | term]"
   ]
  },
  {
   "cell_type": "code",
   "execution_count": null,
   "id": "fa355e49",
   "metadata": {
    "colab": {
     "base_uri": "https://localhost:8080/",
     "height": 175
    },
    "id": "fa355e49",
    "outputId": "d8a2c2cb-394d-434b-8812-4a309dda2599",
    "scrolled": true
   },
   "outputs": [],
   "source": [
    "pd.crosstab(index=df[\"term\"],\n",
    "            columns=df[\"loan_status\"], normalize=\"index\" , margins  = True\n",
    "           ) * 100"
   ]
  },
  {
   "cell_type": "code",
   "execution_count": null,
   "id": "66c418c0",
   "metadata": {
    "colab": {
     "base_uri": "https://localhost:8080/",
     "height": 531
    },
    "id": "66c418c0",
    "outputId": "e0f2549d-5ed6-4c74-8407-5acb422b985d"
   },
   "outputs": [],
   "source": [
    "pd.crosstab(index=df[\"term\"],\n",
    "            columns =df[\"loan_status\"], normalize=\"columns\"\n",
    "           ).plot(kind = \"bar\")"
   ]
  },
  {
   "cell_type": "code",
   "execution_count": null,
   "id": "ecdfc1be",
   "metadata": {
    "id": "ecdfc1be"
   },
   "outputs": [],
   "source": [
    "# as we can observe\n",
    "# the conditional probability\n",
    "# of loan fully paid given that its 36 month term is higher then charged off.\n",
    "\n",
    "# loan fully paid probability when 60 month term is lower than charged off."
   ]
  },
  {
   "cell_type": "code",
   "execution_count": null,
   "id": "7433a7b5",
   "metadata": {
    "id": "7433a7b5"
   },
   "outputs": [],
   "source": [
    "term_values = {' 36 months': 36, ' 60 months': 60}\n",
    "df['term'] = df['term'].map(term_values)\n"
   ]
  },
  {
   "cell_type": "code",
   "execution_count": null,
   "id": "ac4c2787",
   "metadata": {
    "id": "ac4c2787"
   },
   "outputs": [],
   "source": []
  },
  {
   "cell_type": "markdown",
   "id": "f5f12575",
   "metadata": {
    "id": "f5f12575"
   },
   "source": [
    "##  int_rate :\n",
    "\n",
    "- #### Interest Rate on the loan\n"
   ]
  },
  {
   "cell_type": "code",
   "execution_count": null,
   "id": "9c93648f",
   "metadata": {
    "colab": {
     "base_uri": "https://localhost:8080/",
     "height": 143
    },
    "id": "9c93648f",
    "outputId": "050537b5-b84d-4d7a-f59d-a6246edf7bd4"
   },
   "outputs": [],
   "source": [
    "df.groupby(by = \"loan_status\")[\"int_rate\"].describe()"
   ]
  },
  {
   "cell_type": "code",
   "execution_count": null,
   "id": "4832a52c",
   "metadata": {
    "colab": {
     "base_uri": "https://localhost:8080/",
     "height": 467
    },
    "id": "4832a52c",
    "outputId": "d94a4f80-a4e6-4d4c-93b5-ff572bd17bf8"
   },
   "outputs": [],
   "source": [
    "sns.histplot(df[\"int_rate\"],bins = 15)"
   ]
  },
  {
   "cell_type": "code",
   "execution_count": null,
   "id": "9f0e5e40",
   "metadata": {
    "colab": {
     "base_uri": "https://localhost:8080/",
     "height": 467
    },
    "id": "9f0e5e40",
    "outputId": "1f1ef6d4-c6c2-41ea-840d-8e87ce8d3832"
   },
   "outputs": [],
   "source": [
    "sns.boxplot(x=df[\"int_rate\"],\n",
    "            y=df[\"loan_status\"])"
   ]
  },
  {
   "cell_type": "code",
   "execution_count": null,
   "id": "bd627cfb",
   "metadata": {
    "colab": {
     "base_uri": "https://localhost:8080/"
    },
    "id": "bd627cfb",
    "outputId": "5561c85f-c18a-468f-9df8-5f243909fa32"
   },
   "outputs": [],
   "source": [
    "df[df[\"loan_status\"] == \"Charged Off\"][\"int_rate\"].median(),df[df[\"loan_status\"] == \"Charged Off\"][\"int_rate\"].mean()\n"
   ]
  },
  {
   "cell_type": "code",
   "execution_count": null,
   "id": "7c398d78",
   "metadata": {
    "colab": {
     "base_uri": "https://localhost:8080/"
    },
    "id": "7c398d78",
    "outputId": "750036d6-7a6c-4cb7-ef5a-cc2989a77ed4"
   },
   "outputs": [],
   "source": [
    "df[df[\"loan_status\"] == \"Fully Paid\"][\"int_rate\"].median(),df[df[\"loan_status\"] == \"Fully Paid\"][\"int_rate\"].mean()"
   ]
  },
  {
   "cell_type": "code",
   "execution_count": null,
   "id": "1fd46f6c",
   "metadata": {
    "id": "1fd46f6c"
   },
   "outputs": [],
   "source": [
    "# for charge_off Loan Status ,\n",
    "# interest_rate median and mean is higher than fully paid.\n"
   ]
  },
  {
   "cell_type": "markdown",
   "id": "69f43a94",
   "metadata": {
    "id": "69f43a94"
   },
   "source": [
    "- ####  for loan status Charged_off, the mean and median of interest_rate is higher than fully paid.\n",
    "- #### also the distribution of interest_rate is right skewed, which says it has outlier presence.\n"
   ]
  },
  {
   "cell_type": "markdown",
   "id": "5e7bfcb9",
   "metadata": {
    "id": "5e7bfcb9"
   },
   "source": [
    "##  grade :\n",
    "\n",
    "- #### LoanTap assigned loan grade\n",
    "\n",
    "- #### Loan grades are set based on both the borrower's credit profile and the nature of the contract.\n"
   ]
  },
  {
   "cell_type": "code",
   "execution_count": null,
   "id": "7a35b092",
   "metadata": {
    "colab": {
     "base_uri": "https://localhost:8080/",
     "height": 444
    },
    "id": "7a35b092",
    "outputId": "30a3eb7d-49ca-48ef-ea94-4ec14e247cbd"
   },
   "outputs": [],
   "source": [
    "df[\"grade\"].value_counts().sort_values().plot(kind = \"bar\")"
   ]
  },
  {
   "cell_type": "code",
   "execution_count": null,
   "id": "70a968ff",
   "metadata": {
    "colab": {
     "base_uri": "https://localhost:8080/"
    },
    "id": "70a968ff",
    "outputId": "a8d39550-11dc-4995-a559-463eabada4db"
   },
   "outputs": [],
   "source": [
    "df[\"grade\"].value_counts(dropna=False)"
   ]
  },
  {
   "cell_type": "code",
   "execution_count": null,
   "id": "40e190a3",
   "metadata": {
    "colab": {
     "base_uri": "https://localhost:8080/",
     "height": 332
    },
    "id": "40e190a3",
    "outputId": "14c160ce-7832-47b1-fa4f-d95ec594830c"
   },
   "outputs": [],
   "source": [
    "pd.crosstab(index = df[\"grade\"],\n",
    "            columns= df[\"loan_status\"],normalize= \"index\", margins = True)"
   ]
  },
  {
   "cell_type": "code",
   "execution_count": null,
   "id": "01785937",
   "metadata": {
    "colab": {
     "base_uri": "https://localhost:8080/",
     "height": 463
    },
    "id": "01785937",
    "outputId": "a82de4ef-ecbe-4114-beb6-f7dbd01a3799"
   },
   "outputs": [],
   "source": [
    "pd.crosstab(index = df[\"grade\"],\n",
    "            columns= df[\"loan_status\"],normalize= \"columns\").plot(kind  = \"bar\")"
   ]
  },
  {
   "cell_type": "code",
   "execution_count": null,
   "id": "a54d71e3",
   "metadata": {
    "id": "a54d71e3"
   },
   "outputs": [],
   "source": [
    "#  probability of loan_status as fully_paid decreases with grade is E,F,G"
   ]
  },
  {
   "cell_type": "code",
   "execution_count": null,
   "id": "398c6d0c",
   "metadata": {
    "id": "398c6d0c"
   },
   "outputs": [],
   "source": [
    "## we can conclude the relationship exists\n",
    "## between loan_status and LoanTap assigned loan grade.\n",
    "\n"
   ]
  },
  {
   "cell_type": "markdown",
   "id": "96eace77",
   "metadata": {
    "id": "96eace77"
   },
   "source": [
    "## sub_grade :\n",
    "\n",
    "- #### LoanTap assigned loan subgrade\n"
   ]
  },
  {
   "cell_type": "code",
   "execution_count": null,
   "id": "51fb64c7",
   "metadata": {
    "id": "51fb64c7"
   },
   "outputs": [],
   "source": [
    "# pd.crosstab(index = df[\"sub_grade\"],\n",
    "#             columns= df[\"loan_status\"],normalize= \"index\", margins = True)*100"
   ]
  },
  {
   "cell_type": "code",
   "execution_count": null,
   "id": "41dae28c",
   "metadata": {
    "colab": {
     "base_uri": "https://localhost:8080/",
     "height": 472
    },
    "id": "41dae28c",
    "outputId": "c228f2f7-c3f4-48cd-9730-0fc3cbf46435"
   },
   "outputs": [],
   "source": [
    "pd.crosstab(index = df[\"sub_grade\"],\n",
    "            columns= df[\"loan_status\"],normalize= \"columns\", ).plot(kind = \"bar\")"
   ]
  },
  {
   "cell_type": "code",
   "execution_count": null,
   "id": "c6396bb5",
   "metadata": {
    "id": "c6396bb5",
    "scrolled": true
   },
   "outputs": [],
   "source": [
    "# Similar pattern is observed for sub_grade as grade .\n",
    "\n",
    "#  later target encoding"
   ]
  },
  {
   "cell_type": "code",
   "execution_count": null,
   "id": "8c895a94",
   "metadata": {
    "id": "8c895a94"
   },
   "outputs": [],
   "source": []
  },
  {
   "cell_type": "markdown",
   "id": "eb10c7e0",
   "metadata": {
    "id": "eb10c7e0"
   },
   "source": [
    "##   emp_title :\n",
    "\n",
    "- #### The job title supplied by the Borrower when applying for the loan.*\n"
   ]
  },
  {
   "cell_type": "code",
   "execution_count": null,
   "id": "7a897935",
   "metadata": {
    "colab": {
     "base_uri": "https://localhost:8080/"
    },
    "id": "7a897935",
    "outputId": "f26d44ad-100d-4204-d4a6-9d2faacf71f8"
   },
   "outputs": [],
   "source": [
    "df[\"emp_title\"].value_counts(dropna=False).sort_values(ascending=False).head(15)"
   ]
  },
  {
   "cell_type": "code",
   "execution_count": null,
   "id": "3a05e44d",
   "metadata": {
    "colab": {
     "base_uri": "https://localhost:8080/"
    },
    "id": "3a05e44d",
    "outputId": "90c7d81e-29b7-4bd2-e4fc-11499db4efdd"
   },
   "outputs": [],
   "source": [
    "df[\"emp_title\"].nunique()"
   ]
  },
  {
   "cell_type": "code",
   "execution_count": null,
   "id": "40920f75",
   "metadata": {
    "id": "40920f75"
   },
   "outputs": [],
   "source": [
    "# missing values need to be treated with model based imputation .\n",
    "\n",
    "\n",
    "# total unique job_titles are 173,105.\n",
    "# target encoding while creating model."
   ]
  },
  {
   "cell_type": "code",
   "execution_count": null,
   "id": "2ee16ec7",
   "metadata": {
    "id": "2ee16ec7"
   },
   "outputs": [],
   "source": []
  },
  {
   "cell_type": "code",
   "execution_count": null,
   "id": "7260b0b7",
   "metadata": {
    "id": "7260b0b7"
   },
   "outputs": [],
   "source": []
  },
  {
   "cell_type": "markdown",
   "id": "9aee7faf",
   "metadata": {
    "id": "9aee7faf"
   },
   "source": [
    "##  emp_length :\n",
    "\n",
    "- #### Employment length in years. Possible values are between 0 and 10 where 0 means less than one year and 10 means ten or more years.\n"
   ]
  },
  {
   "cell_type": "code",
   "execution_count": null,
   "id": "4832d88e",
   "metadata": {
    "colab": {
     "base_uri": "https://localhost:8080/"
    },
    "id": "4832d88e",
    "outputId": "84303a1c-8ea6-4cbe-9156-0910f667c9ea"
   },
   "outputs": [],
   "source": [
    "df[\"emp_length\"].value_counts(dropna=False)"
   ]
  },
  {
   "cell_type": "code",
   "execution_count": null,
   "id": "aecea8bf",
   "metadata": {
    "colab": {
     "base_uri": "https://localhost:8080/",
     "height": 457
    },
    "id": "aecea8bf",
    "outputId": "63009d18-bf12-470f-c16e-ed916674aee7"
   },
   "outputs": [],
   "source": [
    "pd.crosstab(index = df[\"emp_length\"],\n",
    "            columns= df[\"loan_status\"],normalize= \"index\", margins = True)*100"
   ]
  },
  {
   "cell_type": "code",
   "execution_count": null,
   "id": "f58c0fdc",
   "metadata": {
    "colab": {
     "base_uri": "https://localhost:8080/",
     "height": 524
    },
    "id": "f58c0fdc",
    "outputId": "02c39674-821f-4ea7-b710-57caff749033"
   },
   "outputs": [],
   "source": [
    "pd.crosstab(index = df[\"emp_length\"],\n",
    "            columns= df[\"loan_status\"],normalize= \"index\").plot(kind = \"bar\")"
   ]
  },
  {
   "cell_type": "code",
   "execution_count": null,
   "id": "e7e2c7f0",
   "metadata": {
    "id": "e7e2c7f0"
   },
   "outputs": [],
   "source": [
    "# visually there doent seems to be much correlation between employement length\n",
    "# and loan_status.\n"
   ]
  },
  {
   "cell_type": "code",
   "execution_count": null,
   "id": "0292a63b",
   "metadata": {
    "id": "0292a63b"
   },
   "outputs": [],
   "source": [
    "from scipy import stats"
   ]
  },
  {
   "cell_type": "code",
   "execution_count": null,
   "id": "b84db6e2",
   "metadata": {
    "colab": {
     "base_uri": "https://localhost:8080/"
    },
    "id": "b84db6e2",
    "outputId": "ab733dea-3f92-4397-8c50-fdcb18297f6c"
   },
   "outputs": [],
   "source": [
    "stats.chi2_contingency(pd.crosstab(index = df[\"emp_length\"],\n",
    "            columns= df[\"loan_status\"]))"
   ]
  },
  {
   "cell_type": "code",
   "execution_count": null,
   "id": "ac6a508b",
   "metadata": {
    "id": "ac6a508b"
   },
   "outputs": [],
   "source": []
  },
  {
   "cell_type": "markdown",
   "id": "04b22ebe",
   "metadata": {
    "id": "04b22ebe"
   },
   "source": [
    "##  home_ownership :\n",
    "\n",
    "- #### The home ownership status provided by the borrower during registration or obtained from the credit report.\n"
   ]
  },
  {
   "cell_type": "code",
   "execution_count": null,
   "id": "754860d5",
   "metadata": {
    "colab": {
     "base_uri": "https://localhost:8080/"
    },
    "id": "754860d5",
    "outputId": "f70dcfa3-89d2-4b0f-8c96-e0b4a420e169"
   },
   "outputs": [],
   "source": [
    "df[\"home_ownership\"].value_counts(dropna=False)"
   ]
  },
  {
   "cell_type": "code",
   "execution_count": null,
   "id": "773ba6ba",
   "metadata": {
    "id": "773ba6ba"
   },
   "outputs": [],
   "source": [
    "df[\"home_ownership\"] = df[\"home_ownership\"].replace({\"NONE\":\"OTHER\", \"ANY\":\"OTHER\"})"
   ]
  },
  {
   "cell_type": "code",
   "execution_count": null,
   "id": "dc36fd6a",
   "metadata": {
    "colab": {
     "base_uri": "https://localhost:8080/",
     "height": 238
    },
    "id": "dc36fd6a",
    "outputId": "703d8e7c-895a-441a-af08-b185e4ca175f"
   },
   "outputs": [],
   "source": [
    "pd.crosstab(index = df[\"home_ownership\"],\n",
    "            columns= df[\"loan_status\"],normalize= \"index\", margins = True)*100"
   ]
  },
  {
   "cell_type": "code",
   "execution_count": null,
   "id": "273295e6",
   "metadata": {
    "colab": {
     "base_uri": "https://localhost:8080/",
     "height": 532
    },
    "id": "273295e6",
    "outputId": "d87e9a44-7859-4f8e-df48-72773e7fbc6b",
    "scrolled": true
   },
   "outputs": [],
   "source": [
    "pd.crosstab(index = df[\"home_ownership\"],\n",
    "            columns= df[\"loan_status\"],normalize= \"index\").plot(kind= \"bar\")"
   ]
  },
  {
   "cell_type": "code",
   "execution_count": null,
   "id": "1b3d3ffa",
   "metadata": {
    "id": "1b3d3ffa"
   },
   "outputs": [],
   "source": [
    "# visually there doent seems to be much correlation between home_ownership\n",
    "# and loan_status.\n",
    "# later target encoding or label encoding .\n"
   ]
  },
  {
   "cell_type": "code",
   "execution_count": null,
   "id": "8fee8427",
   "metadata": {
    "id": "8fee8427"
   },
   "outputs": [],
   "source": []
  },
  {
   "cell_type": "code",
   "execution_count": null,
   "id": "b5dfd485",
   "metadata": {
    "id": "b5dfd485"
   },
   "outputs": [],
   "source": []
  },
  {
   "cell_type": "markdown",
   "id": "b72e5f81",
   "metadata": {
    "id": "b72e5f81"
   },
   "source": [
    "## annual_inc :\n",
    "\n",
    "- #### The self-reported annual income provided by the borrower during registration.\n"
   ]
  },
  {
   "cell_type": "code",
   "execution_count": null,
   "id": "f171bb73",
   "metadata": {
    "colab": {
     "base_uri": "https://localhost:8080/",
     "height": 482
    },
    "id": "f171bb73",
    "outputId": "325578b3-0db5-496e-f3f6-2dc3f2418012"
   },
   "outputs": [],
   "source": [
    "sns.distplot(df[\"annual_inc\"])"
   ]
  },
  {
   "cell_type": "code",
   "execution_count": null,
   "id": "0e2a5ea0",
   "metadata": {
    "colab": {
     "base_uri": "https://localhost:8080/"
    },
    "id": "0e2a5ea0",
    "outputId": "7cb78a4d-b16f-46c4-f9cc-9df49e86a780"
   },
   "outputs": [],
   "source": [
    "df[\"annual_inc\"].describe()"
   ]
  },
  {
   "cell_type": "code",
   "execution_count": null,
   "id": "c9dfcb7b",
   "metadata": {
    "colab": {
     "base_uri": "https://localhost:8080/",
     "height": 467
    },
    "id": "c9dfcb7b",
    "outputId": "317b97d4-6ae3-4c18-9968-c5166a826d2d"
   },
   "outputs": [],
   "source": [
    "sns.distplot(np.log(df[df[\"annual_inc\"]>0][\"annual_inc\"]))"
   ]
  },
  {
   "cell_type": "code",
   "execution_count": null,
   "id": "0ed28044",
   "metadata": {
    "colab": {
     "base_uri": "https://localhost:8080/",
     "height": 636
    },
    "id": "0ed28044",
    "outputId": "6230d6a2-5abd-449b-df88-3236c6c18ffd"
   },
   "outputs": [],
   "source": [
    "plt.figure(figsize=(5,7))\n",
    "sns.boxplot(y=np.log(df[df[\"annual_inc\"]>0][\"annual_inc\"]),\n",
    "            x=df[\"loan_status\"])"
   ]
  },
  {
   "cell_type": "code",
   "execution_count": null,
   "id": "b80c49d5",
   "metadata": {
    "id": "b80c49d5"
   },
   "outputs": [],
   "source": [
    "##from above boxplot, there seems to be no difference between annual income,\n",
    "# for loan status categories\n"
   ]
  },
  {
   "cell_type": "code",
   "execution_count": null,
   "id": "831f9ae1",
   "metadata": {
    "id": "831f9ae1"
   },
   "outputs": [],
   "source": []
  },
  {
   "cell_type": "markdown",
   "id": "70b290cc",
   "metadata": {
    "id": "70b290cc"
   },
   "source": [
    "##  verification_status :\n",
    "\n",
    "- #### Indicates if income was verified by LoanTap, not verified, or if the income source was verified\n"
   ]
  },
  {
   "cell_type": "code",
   "execution_count": null,
   "id": "3bd71a25",
   "metadata": {
    "colab": {
     "base_uri": "https://localhost:8080/"
    },
    "id": "3bd71a25",
    "outputId": "990f0d1b-f330-4053-b8e8-f51e07d3f8de"
   },
   "outputs": [],
   "source": [
    "df[\"verification_status\"].value_counts(dropna=False)"
   ]
  },
  {
   "cell_type": "code",
   "execution_count": null,
   "id": "1f83e49c",
   "metadata": {
    "colab": {
     "base_uri": "https://localhost:8080/",
     "height": 206
    },
    "id": "1f83e49c",
    "outputId": "94fa05f2-3aee-48ee-c526-58284e400b3a"
   },
   "outputs": [],
   "source": [
    "pd.crosstab(index = df[\"verification_status\"],\n",
    "            columns= df[\"loan_status\"],normalize= \"index\", margins = True)*100"
   ]
  },
  {
   "cell_type": "code",
   "execution_count": null,
   "id": "2f3bbbad",
   "metadata": {
    "colab": {
     "base_uri": "https://localhost:8080/",
     "height": 557
    },
    "id": "2f3bbbad",
    "outputId": "bd315b68-1c93-47c4-ace4-365d582d34d1"
   },
   "outputs": [],
   "source": [
    "pd.crosstab(index = df[\"verification_status\"],\n",
    "            columns= df[\"loan_status\"],normalize= \"index\").plot(kind = \"bar\")"
   ]
  },
  {
   "cell_type": "code",
   "execution_count": null,
   "id": "f399f0d5",
   "metadata": {
    "id": "f399f0d5"
   },
   "outputs": [],
   "source": []
  },
  {
   "cell_type": "code",
   "execution_count": null,
   "id": "57e009b7",
   "metadata": {
    "id": "57e009b7"
   },
   "outputs": [],
   "source": [
    "\n",
    "\n",
    "# later  label encoding\n",
    "# .\n",
    "# Verified           1\n",
    "# Source Verified    2\n",
    "# Not Verified       0\n"
   ]
  },
  {
   "cell_type": "code",
   "execution_count": null,
   "id": "226616b3",
   "metadata": {
    "id": "226616b3"
   },
   "outputs": [],
   "source": []
  },
  {
   "cell_type": "markdown",
   "id": "f333e6ed",
   "metadata": {
    "id": "f333e6ed"
   },
   "source": [
    "## purpose :\n",
    "- #### A category provided by the borrower for the loan request.\n"
   ]
  },
  {
   "cell_type": "code",
   "execution_count": null,
   "id": "cb0fc595",
   "metadata": {
    "colab": {
     "base_uri": "https://localhost:8080/"
    },
    "id": "cb0fc595",
    "outputId": "d0ed5bc8-303a-4b32-e354-dd22c78ced84"
   },
   "outputs": [],
   "source": [
    "df[\"purpose\"].nunique()"
   ]
  },
  {
   "cell_type": "code",
   "execution_count": null,
   "id": "200ce475",
   "metadata": {
    "id": "200ce475"
   },
   "outputs": [],
   "source": []
  },
  {
   "cell_type": "code",
   "execution_count": null,
   "id": "1cbd813d",
   "metadata": {
    "colab": {
     "base_uri": "https://localhost:8080/",
     "height": 853
    },
    "id": "1cbd813d",
    "outputId": "4a86445a-6fd7-403c-c736-ef32114efe1a"
   },
   "outputs": [],
   "source": [
    "print(df[\"purpose\"].value_counts(dropna=False))\n",
    "pd.crosstab(index = df[\"purpose\"],\n",
    "            columns= df[\"loan_status\"],normalize= \"index\", margins = True)*100\n",
    "pd.crosstab(index = df[\"purpose\"],\n",
    "            columns= df[\"loan_status\"],normalize= \"index\").plot(kind = \"bar\")\n"
   ]
  },
  {
   "cell_type": "code",
   "execution_count": null,
   "id": "77d0f2bb",
   "metadata": {
    "colab": {
     "base_uri": "https://localhost:8080/",
     "height": 572
    },
    "id": "77d0f2bb",
    "outputId": "a6531293-bb57-4c7c-f3b8-b44174f88cb5"
   },
   "outputs": [],
   "source": [
    "(df[\"purpose\"].value_counts(dropna=False,normalize=True)).plot(kind = \"bar\")\n"
   ]
  },
  {
   "cell_type": "markdown",
   "id": "11f779d2",
   "metadata": {
    "id": "11f779d2"
   },
   "source": [
    "### 13.\n",
    "\n",
    "###  loan_status : Current status of the loan - Target Variable\n"
   ]
  },
  {
   "cell_type": "code",
   "execution_count": null,
   "id": "b2c0dabd",
   "metadata": {
    "colab": {
     "base_uri": "https://localhost:8080/",
     "height": 517
    },
    "id": "b2c0dabd",
    "outputId": "67701a33-a62a-4436-f1e5-2fbfb493ff8b"
   },
   "outputs": [],
   "source": [
    "df[\"loan_status\"].value_counts(dropna=False).plot(kind = \"bar\")\n"
   ]
  },
  {
   "cell_type": "code",
   "execution_count": null,
   "id": "fece7b71",
   "metadata": {
    "colab": {
     "base_uri": "https://localhost:8080/"
    },
    "id": "fece7b71",
    "outputId": "14ca5dc5-0667-46dc-b476-f7fcfdaf2a0b"
   },
   "outputs": [],
   "source": [
    "df[\"loan_status\"].value_counts(dropna=False, normalize=True)  * 100"
   ]
  },
  {
   "cell_type": "code",
   "execution_count": null,
   "id": "154117ca",
   "metadata": {
    "id": "154117ca"
   },
   "outputs": [],
   "source": [
    "# Imbalanced data.\n",
    "\n",
    "# 80% loans are fully paid.\n",
    "# 20% loans are charged_off"
   ]
  },
  {
   "cell_type": "markdown",
   "id": "621d63e7",
   "metadata": {
    "id": "621d63e7"
   },
   "source": [
    "    ## most of the loans are taken for\n",
    "        debit_card,\n",
    "        dept_consolidation ,\n",
    "        home_improvement and others category.\n",
    "    ## number of loan applications and amount per purpose category are highest in  above category.\n",
    "\n"
   ]
  },
  {
   "cell_type": "markdown",
   "id": "f79093ba",
   "metadata": {
    "id": "f79093ba"
   },
   "source": [
    "##  title :\n",
    "\n",
    "- #### The loan title provided by the borrower\n",
    "\n",
    "\n"
   ]
  },
  {
   "cell_type": "code",
   "execution_count": null,
   "id": "a7e51d98",
   "metadata": {
    "colab": {
     "base_uri": "https://localhost:8080/"
    },
    "id": "a7e51d98",
    "outputId": "c2e94eb8-6e65-4d2b-e14f-7565e309071c"
   },
   "outputs": [],
   "source": [
    "df[\"title\"].nunique()"
   ]
  },
  {
   "cell_type": "code",
   "execution_count": null,
   "id": "dcb18d3d",
   "metadata": {
    "colab": {
     "base_uri": "https://localhost:8080/"
    },
    "id": "dcb18d3d",
    "outputId": "164912be-21d8-4ae3-cabb-62b4f13c8673"
   },
   "outputs": [],
   "source": [
    "df[\"title\"]"
   ]
  },
  {
   "cell_type": "code",
   "execution_count": null,
   "id": "5eb00761",
   "metadata": {
    "id": "5eb00761"
   },
   "outputs": [],
   "source": [
    "# title and purpose are in a way same features.\n",
    "# later needs to drop this feature.\n"
   ]
  },
  {
   "cell_type": "code",
   "execution_count": null,
   "id": "bc0b24f9",
   "metadata": {
    "id": "bc0b24f9"
   },
   "outputs": [],
   "source": []
  },
  {
   "cell_type": "markdown",
   "id": "5156b382",
   "metadata": {
    "id": "5156b382"
   },
   "source": [
    "##  dti :\n",
    "- #### A ratio calculated using the borrower’s total monthly debt payments on the total debt obligations, excluding mortgage and the requested LoanTap loan, divided by the borrower’s self-reported monthly income.\n"
   ]
  },
  {
   "cell_type": "markdown",
   "id": "9aeea128",
   "metadata": {
    "id": "9aeea128"
   },
   "source": [
    "    dti = monthly total dept payment / monthly income excluding mortgages"
   ]
  },
  {
   "cell_type": "code",
   "execution_count": null,
   "id": "aaaf82ed",
   "metadata": {
    "colab": {
     "base_uri": "https://localhost:8080/"
    },
    "id": "aaaf82ed",
    "outputId": "46eea28a-ad62-4a45-8826-e426868bc68c"
   },
   "outputs": [],
   "source": [
    "df[\"dti\"].describe()"
   ]
  },
  {
   "cell_type": "code",
   "execution_count": null,
   "id": "698389c7",
   "metadata": {
    "colab": {
     "base_uri": "https://localhost:8080/",
     "height": 447
    },
    "id": "698389c7",
    "outputId": "7b23e651-f4c4-4b8e-931a-a998024d0bbd"
   },
   "outputs": [],
   "source": [
    "sns.boxenplot((df[\"dti\"]))"
   ]
  },
  {
   "cell_type": "code",
   "execution_count": null,
   "id": "570c8c68",
   "metadata": {
    "id": "570c8c68"
   },
   "outputs": [],
   "source": [
    "# looks like there are lots of outliers in dti column ."
   ]
  },
  {
   "cell_type": "code",
   "execution_count": null,
   "id": "109209c5",
   "metadata": {
    "colab": {
     "base_uri": "https://localhost:8080/",
     "height": 636
    },
    "id": "109209c5",
    "outputId": "8a4d6f1a-2778-4339-d6bc-1377e7c35827"
   },
   "outputs": [],
   "source": [
    "plt.figure(figsize=(5,7))\n",
    "sns.boxplot(y=np.log(df[df[\"dti\"]>0][\"dti\"]),\n",
    "            x=df[\"loan_status\"])"
   ]
  },
  {
   "cell_type": "code",
   "execution_count": null,
   "id": "0590b918",
   "metadata": {
    "id": "0590b918"
   },
   "outputs": [],
   "source": []
  },
  {
   "cell_type": "markdown",
   "id": "b0c1d7d4",
   "metadata": {
    "id": "b0c1d7d4"
   },
   "source": [
    "     issue_d :\n",
    "    The month which the loan was funded¶"
   ]
  },
  {
   "cell_type": "code",
   "execution_count": null,
   "id": "41f63253",
   "metadata": {
    "id": "41f63253"
   },
   "outputs": [],
   "source": []
  },
  {
   "cell_type": "markdown",
   "id": "b5fe7216",
   "metadata": {
    "id": "b5fe7216"
   },
   "source": [
    "### issue_d :\n",
    "- #### The month which the loan was funded\n"
   ]
  },
  {
   "cell_type": "code",
   "execution_count": null,
   "id": "75f7c486",
   "metadata": {
    "id": "75f7c486",
    "scrolled": false
   },
   "outputs": [],
   "source": [
    "# df[\"issue_d\"].value_counts(dropna=False)\n",
    "\n",
    "# later use in feature engineering !"
   ]
  },
  {
   "cell_type": "markdown",
   "id": "43fa3caf",
   "metadata": {
    "id": "43fa3caf"
   },
   "source": [
    "## earliest_cr_line :\n",
    "- #### The month the borrower's earliest reported credit line was opened\n"
   ]
  },
  {
   "cell_type": "code",
   "execution_count": null,
   "id": "121261e2",
   "metadata": {
    "id": "121261e2"
   },
   "outputs": [],
   "source": [
    "df[\"Loan_Tenure\"] = ((pd.to_datetime(df[\"issue_d\"]) -pd.to_datetime(df[\"earliest_cr_line\"]))/np.timedelta64(1, 'M'))"
   ]
  },
  {
   "cell_type": "code",
   "execution_count": null,
   "id": "c6824732",
   "metadata": {
    "id": "c6824732",
    "scrolled": true
   },
   "outputs": [],
   "source": [
    "# pd.to_datetime(df[\"earliest_cr_line\"])"
   ]
  },
  {
   "cell_type": "code",
   "execution_count": null,
   "id": "cbd84958",
   "metadata": {
    "id": "cbd84958"
   },
   "outputs": [],
   "source": [
    "# The month which the loan was funded"
   ]
  },
  {
   "cell_type": "code",
   "execution_count": null,
   "id": "b76db56c",
   "metadata": {
    "id": "b76db56c"
   },
   "outputs": [],
   "source": [
    "# pd.to_datetime(df[\"issue_d\"])"
   ]
  },
  {
   "cell_type": "code",
   "execution_count": null,
   "id": "34a0dc9e",
   "metadata": {
    "colab": {
     "base_uri": "https://localhost:8080/",
     "height": 447
    },
    "id": "34a0dc9e",
    "outputId": "0150138c-38fd-4269-f9ac-99e092976d1c"
   },
   "outputs": [],
   "source": [
    " sns.histplot(((pd.to_datetime(df[\"issue_d\"]) -pd.to_datetime(df[\"earliest_cr_line\"]))/np.timedelta64(1, 'M')))\n"
   ]
  },
  {
   "cell_type": "code",
   "execution_count": null,
   "id": "cd03087b",
   "metadata": {
    "id": "cd03087b"
   },
   "outputs": [],
   "source": []
  },
  {
   "cell_type": "code",
   "execution_count": null,
   "id": "43c08e26",
   "metadata": {
    "colab": {
     "base_uri": "https://localhost:8080/",
     "height": 636
    },
    "id": "43c08e26",
    "outputId": "616a5d08-7e12-4d61-837e-d04a90fc1c65"
   },
   "outputs": [],
   "source": [
    "plt.figure(figsize=(5,7))\n",
    "sns.boxplot(y=np.log(((pd.to_datetime(df[\"issue_d\"]) -pd.to_datetime(df[\"earliest_cr_line\"]))/np.timedelta64(1, 'M'))),\n",
    "            x=df[\"loan_status\"])"
   ]
  },
  {
   "cell_type": "code",
   "execution_count": null,
   "id": "b04c6b0c",
   "metadata": {
    "id": "b04c6b0c"
   },
   "outputs": [],
   "source": []
  },
  {
   "cell_type": "code",
   "execution_count": null,
   "id": "cd3dcded",
   "metadata": {
    "id": "cd3dcded"
   },
   "outputs": [],
   "source": []
  },
  {
   "cell_type": "markdown",
   "id": "4bf931f9",
   "metadata": {
    "id": "4bf931f9"
   },
   "source": [
    "## open_acc :\n",
    "\n",
    "- #### The number of open credit lines in the borrower's credit file.\n"
   ]
  },
  {
   "cell_type": "code",
   "execution_count": null,
   "id": "05d3c0c5",
   "metadata": {
    "colab": {
     "base_uri": "https://localhost:8080/",
     "height": 143
    },
    "id": "05d3c0c5",
    "outputId": "d2f6bdb7-06a1-480f-8f29-fd3d1041c763"
   },
   "outputs": [],
   "source": [
    "df.groupby(\"loan_status\")[\"open_acc\"].describe()"
   ]
  },
  {
   "cell_type": "code",
   "execution_count": null,
   "id": "1b741503",
   "metadata": {
    "colab": {
     "base_uri": "https://localhost:8080/"
    },
    "id": "1b741503",
    "outputId": "3750bf8c-1268-46be-85de-ece7d93dfb5c"
   },
   "outputs": [],
   "source": [
    "df[\"open_acc\"].nunique()"
   ]
  },
  {
   "cell_type": "code",
   "execution_count": null,
   "id": "4c1afaa0",
   "metadata": {
    "colab": {
     "base_uri": "https://localhost:8080/",
     "height": 466
    },
    "id": "4c1afaa0",
    "outputId": "a101b202-c970-4f1e-d3aa-5492f4b16120"
   },
   "outputs": [],
   "source": [
    "sns.histplot(df[\"open_acc\"],bins = 25)\n"
   ]
  },
  {
   "cell_type": "code",
   "execution_count": null,
   "id": "0dd4cfbf",
   "metadata": {
    "colab": {
     "base_uri": "https://localhost:8080/",
     "height": 636
    },
    "id": "0dd4cfbf",
    "outputId": "3ee08304-bada-4069-c865-fd8ca00d978e"
   },
   "outputs": [],
   "source": [
    "plt.figure(figsize=(5,7))\n",
    "sns.boxplot(y= df[\"open_acc\"],\n",
    "            x=df[\"loan_status\"])"
   ]
  },
  {
   "cell_type": "code",
   "execution_count": null,
   "id": "0edcde30",
   "metadata": {
    "id": "0edcde30"
   },
   "outputs": [],
   "source": []
  },
  {
   "cell_type": "code",
   "execution_count": null,
   "id": "fca9b08f",
   "metadata": {
    "id": "fca9b08f"
   },
   "outputs": [],
   "source": []
  },
  {
   "cell_type": "code",
   "execution_count": null,
   "id": "2478efd1",
   "metadata": {
    "id": "2478efd1"
   },
   "outputs": [],
   "source": []
  },
  {
   "cell_type": "code",
   "execution_count": null,
   "id": "c6d8d0e2",
   "metadata": {
    "id": "c6d8d0e2"
   },
   "outputs": [],
   "source": []
  },
  {
   "cell_type": "code",
   "execution_count": null,
   "id": "13c9bcc8",
   "metadata": {
    "id": "13c9bcc8"
   },
   "outputs": [],
   "source": []
  },
  {
   "cell_type": "code",
   "execution_count": null,
   "id": "3e0309b0",
   "metadata": {
    "id": "3e0309b0"
   },
   "outputs": [],
   "source": []
  },
  {
   "cell_type": "code",
   "execution_count": null,
   "id": "4187107b",
   "metadata": {
    "id": "4187107b"
   },
   "outputs": [],
   "source": []
  },
  {
   "cell_type": "markdown",
   "id": "4597d3e4",
   "metadata": {
    "id": "4597d3e4"
   },
   "source": [
    "## pub_rec :\n",
    "\n",
    "- #### Number of derogatory public records\n",
    "\n",
    "\n",
    "\n",
    "- “Derogatory” is seen as negative to lenders, and can include late payments, collection accounts, bankruptcy, charge-offs and other negative marks on your credit report. This can impact your ability to qualify for new credit."
   ]
  },
  {
   "cell_type": "code",
   "execution_count": null,
   "id": "a20ba58f",
   "metadata": {
    "colab": {
     "base_uri": "https://localhost:8080/",
     "height": 143
    },
    "id": "a20ba58f",
    "outputId": "b0a5aed3-50d6-4bd8-aed7-af1793d5a987"
   },
   "outputs": [],
   "source": [
    "df.groupby(\"loan_status\")[\"pub_rec\"].describe()"
   ]
  },
  {
   "cell_type": "code",
   "execution_count": null,
   "id": "b90cac02",
   "metadata": {
    "colab": {
     "base_uri": "https://localhost:8080/",
     "height": 636
    },
    "id": "b90cac02",
    "outputId": "23f9d70c-3637-4ad0-a484-bdbd3af681d3"
   },
   "outputs": [],
   "source": [
    "plt.figure(figsize=(5,7))\n",
    "sns.boxplot(y= df[\"pub_rec\"],\n",
    "            x=df[\"loan_status\"])"
   ]
  },
  {
   "cell_type": "code",
   "execution_count": null,
   "id": "c4ccaf09",
   "metadata": {
    "colab": {
     "base_uri": "https://localhost:8080/",
     "height": 848
    },
    "id": "c4ccaf09",
    "outputId": "1e303958-3357-4f0c-c490-90681e7d30c7"
   },
   "outputs": [],
   "source": [
    "print(df[\"pub_rec\"].value_counts(dropna=False))\n",
    "pd.crosstab(index = df[\"pub_rec\"],\n",
    "            columns= df[\"loan_status\"],normalize= \"index\", margins = True)*100\n",
    "pd.crosstab(index = df[\"pub_rec\"],\n",
    "            columns= df[\"loan_status\"],normalize= \"index\").plot(kind = \"bar\")\n"
   ]
  },
  {
   "cell_type": "code",
   "execution_count": null,
   "id": "51bbd630",
   "metadata": {
    "id": "51bbd630"
   },
   "outputs": [],
   "source": []
  },
  {
   "cell_type": "code",
   "execution_count": null,
   "id": "3373dc91",
   "metadata": {
    "id": "3373dc91"
   },
   "outputs": [],
   "source": []
  },
  {
   "cell_type": "markdown",
   "id": "6a50bfb6",
   "metadata": {
    "id": "6a50bfb6"
   },
   "source": [
    "## revol_bal :\n",
    "\n",
    "- #### Total credit revolving balance\n",
    "\n",
    "\n",
    "With revolving credit, a consumer has a line of credit he can keep using and repaying over and over. The balance that carries over from one month to the next is the revolving balance on that loan.\n",
    "\n",
    "\n"
   ]
  },
  {
   "cell_type": "code",
   "execution_count": null,
   "id": "297d5efa",
   "metadata": {
    "colab": {
     "base_uri": "https://localhost:8080/",
     "height": 143
    },
    "id": "297d5efa",
    "outputId": "3b0ebee4-72ad-43de-eb9e-a35952675792"
   },
   "outputs": [],
   "source": [
    "df.groupby(\"loan_status\")[\"revol_bal\"].describe()"
   ]
  },
  {
   "cell_type": "code",
   "execution_count": null,
   "id": "889edc55",
   "metadata": {
    "id": "889edc55"
   },
   "outputs": [],
   "source": []
  },
  {
   "cell_type": "code",
   "execution_count": null,
   "id": "1dbc8605",
   "metadata": {
    "colab": {
     "base_uri": "https://localhost:8080/",
     "height": 467
    },
    "id": "1dbc8605",
    "outputId": "aed0f01d-a412-4c27-c398-b583dad914c4"
   },
   "outputs": [],
   "source": [
    "sns.histplot(np.log(df[\"revol_bal\"]))\n"
   ]
  },
  {
   "cell_type": "code",
   "execution_count": null,
   "id": "06c8d51c",
   "metadata": {
    "colab": {
     "base_uri": "https://localhost:8080/",
     "height": 636
    },
    "id": "06c8d51c",
    "outputId": "ccaaec97-0a36-498f-84d4-b3b505a6a419"
   },
   "outputs": [],
   "source": [
    "plt.figure(figsize=(5,7))\n",
    "sns.boxplot(y= np.log(df[\"revol_bal\"]),\n",
    "            x=df[\"loan_status\"])"
   ]
  },
  {
   "cell_type": "code",
   "execution_count": null,
   "id": "d3d94925",
   "metadata": {
    "id": "d3d94925"
   },
   "outputs": [],
   "source": []
  },
  {
   "cell_type": "code",
   "execution_count": null,
   "id": "a365bacd",
   "metadata": {
    "id": "a365bacd"
   },
   "outputs": [],
   "source": []
  },
  {
   "cell_type": "code",
   "execution_count": null,
   "id": "f83efe79",
   "metadata": {
    "id": "f83efe79"
   },
   "outputs": [],
   "source": []
  },
  {
   "cell_type": "markdown",
   "id": "db89c1f4",
   "metadata": {
    "id": "db89c1f4"
   },
   "source": [
    "##  revol_util :\n",
    "- #### Revolving line utilization rate, or the amount of credit the borrower is using relative to all available revolving credit.\n",
    "\n",
    "\n",
    "Your credit utilization rate, sometimes called your credit utilization ratio, is the amount of revolving credit you're currently using divided by the total amount of revolving credit you have available. In other words, it's how much you currently owe divided by your credit limit. It is generally expressed as a percent."
   ]
  },
  {
   "cell_type": "code",
   "execution_count": null,
   "id": "ab85054e",
   "metadata": {
    "colab": {
     "base_uri": "https://localhost:8080/",
     "height": 143
    },
    "id": "ab85054e",
    "outputId": "f8d2773c-5390-469e-d839-9c97162e0c60"
   },
   "outputs": [],
   "source": [
    "df.groupby(\"loan_status\")[\"revol_util\"].describe()"
   ]
  },
  {
   "cell_type": "code",
   "execution_count": null,
   "id": "2447798f",
   "metadata": {
    "colab": {
     "base_uri": "https://localhost:8080/",
     "height": 636
    },
    "id": "2447798f",
    "outputId": "6074d144-412e-46e2-9ff4-1d4ea6f70054"
   },
   "outputs": [],
   "source": [
    "plt.figure(figsize=(5,7))\n",
    "sns.boxplot(y= np.log(df[\"revol_util\"]),\n",
    "            x=df[\"loan_status\"])"
   ]
  },
  {
   "cell_type": "code",
   "execution_count": null,
   "id": "ba03391c",
   "metadata": {
    "id": "ba03391c"
   },
   "outputs": [],
   "source": []
  },
  {
   "cell_type": "code",
   "execution_count": null,
   "id": "a06e19a5",
   "metadata": {
    "id": "a06e19a5"
   },
   "outputs": [],
   "source": []
  },
  {
   "cell_type": "code",
   "execution_count": null,
   "id": "aa293a3d",
   "metadata": {
    "id": "aa293a3d"
   },
   "outputs": [],
   "source": []
  },
  {
   "cell_type": "code",
   "execution_count": null,
   "id": "d19f9ce0",
   "metadata": {
    "id": "d19f9ce0"
   },
   "outputs": [],
   "source": []
  },
  {
   "cell_type": "code",
   "execution_count": null,
   "id": "313b030a",
   "metadata": {
    "id": "313b030a"
   },
   "outputs": [],
   "source": []
  },
  {
   "cell_type": "markdown",
   "id": "ea320d72",
   "metadata": {
    "id": "ea320d72"
   },
   "source": [
    "##  total_acc :\n",
    "\n",
    "- #### The total number of credit lines currently in the borrower's credit file\n"
   ]
  },
  {
   "cell_type": "code",
   "execution_count": null,
   "id": "ce7925ea",
   "metadata": {
    "id": "ce7925ea",
    "scrolled": false
   },
   "outputs": [],
   "source": [
    "# df[\"total_acc\"].value_counts()"
   ]
  },
  {
   "cell_type": "code",
   "execution_count": null,
   "id": "78abc6c8",
   "metadata": {
    "colab": {
     "base_uri": "https://localhost:8080/",
     "height": 143
    },
    "id": "78abc6c8",
    "outputId": "6f07891c-edf5-44b6-cc9d-7839b4070ef6"
   },
   "outputs": [],
   "source": [
    "df.groupby(\"loan_status\")[\"total_acc\"].describe()"
   ]
  },
  {
   "cell_type": "code",
   "execution_count": null,
   "id": "ee4f105b",
   "metadata": {
    "colab": {
     "base_uri": "https://localhost:8080/",
     "height": 636
    },
    "id": "ee4f105b",
    "outputId": "d29e15eb-f3c2-4775-9c0a-72fd8d79fd7e"
   },
   "outputs": [],
   "source": [
    "plt.figure(figsize=(5,7))\n",
    "sns.boxplot(y= np.log(df[\"total_acc\"]),\n",
    "            x=df[\"loan_status\"])"
   ]
  },
  {
   "cell_type": "code",
   "execution_count": null,
   "id": "25e47553",
   "metadata": {
    "id": "25e47553"
   },
   "outputs": [],
   "source": []
  },
  {
   "cell_type": "code",
   "execution_count": null,
   "id": "ecaa0794",
   "metadata": {
    "id": "ecaa0794"
   },
   "outputs": [],
   "source": []
  },
  {
   "cell_type": "markdown",
   "id": "4624144e",
   "metadata": {
    "id": "4624144e"
   },
   "source": [
    "## initial_list_status :\n",
    "\n",
    "- #### The initial listing status of the loan. Possible values are – W, F\n"
   ]
  },
  {
   "cell_type": "code",
   "execution_count": null,
   "id": "a4099cd5",
   "metadata": {
    "colab": {
     "base_uri": "https://localhost:8080/"
    },
    "id": "a4099cd5",
    "outputId": "77df31f7-9068-4c3c-d6df-7d1d4869224b"
   },
   "outputs": [],
   "source": [
    "df[\"initial_list_status\"].value_counts()"
   ]
  },
  {
   "cell_type": "code",
   "execution_count": null,
   "id": "09594eef",
   "metadata": {
    "colab": {
     "base_uri": "https://localhost:8080/",
     "height": 516
    },
    "id": "09594eef",
    "outputId": "068b2a78-196d-4565-c05b-87b609524354"
   },
   "outputs": [],
   "source": [
    "print(df[\"initial_list_status\"].value_counts(dropna=False))\n",
    "\n",
    "pd.crosstab(index = df[\"initial_list_status\"],\n",
    "            columns= df[\"loan_status\"],normalize= \"columns\").plot(kind = \"bar\")\n"
   ]
  },
  {
   "cell_type": "code",
   "execution_count": null,
   "id": "5a4d7e72",
   "metadata": {
    "id": "5a4d7e72"
   },
   "outputs": [],
   "source": []
  },
  {
   "cell_type": "code",
   "execution_count": null,
   "id": "28c4045b",
   "metadata": {
    "id": "28c4045b"
   },
   "outputs": [],
   "source": []
  },
  {
   "cell_type": "code",
   "execution_count": null,
   "id": "8f5059c7",
   "metadata": {
    "id": "8f5059c7"
   },
   "outputs": [],
   "source": []
  },
  {
   "cell_type": "markdown",
   "id": "6982ebab",
   "metadata": {
    "id": "6982ebab"
   },
   "source": [
    "## application_type :\n",
    "\n",
    "- #### Indicates whether the loan is an individual application or a joint application with two co-borrowers\n"
   ]
  },
  {
   "cell_type": "code",
   "execution_count": null,
   "id": "006dc22f",
   "metadata": {
    "colab": {
     "base_uri": "https://localhost:8080/"
    },
    "id": "006dc22f",
    "outputId": "cfc3352f-57f1-4037-d4f3-a71bd831c2b7"
   },
   "outputs": [],
   "source": [
    "df[\"application_type\"].value_counts()"
   ]
  },
  {
   "cell_type": "code",
   "execution_count": null,
   "id": "a1381301",
   "metadata": {
    "colab": {
     "base_uri": "https://localhost:8080/",
     "height": 605
    },
    "id": "a1381301",
    "outputId": "20387253-d732-4463-a909-5c8bfebae1cd"
   },
   "outputs": [],
   "source": [
    "print(df[\"application_type\"].value_counts(dropna=False))\n",
    "\n",
    "pd.crosstab(index = df[\"application_type\"],\n",
    "            columns= df[\"loan_status\"],normalize= \"index\").plot(kind = \"bar\")\n"
   ]
  },
  {
   "cell_type": "markdown",
   "id": "d3d9bf71",
   "metadata": {
    "id": "d3d9bf71"
   },
   "source": [
    "## mort_acc :\n",
    "\n",
    "- #### Number of mortgage accounts.\n"
   ]
  },
  {
   "cell_type": "code",
   "execution_count": null,
   "id": "5ca03fbf",
   "metadata": {
    "id": "5ca03fbf"
   },
   "outputs": [],
   "source": [
    "# df[\"mort_acc\"].value_counts(dropna=False)"
   ]
  },
  {
   "cell_type": "code",
   "execution_count": null,
   "id": "8bc303f6",
   "metadata": {
    "colab": {
     "base_uri": "https://localhost:8080/",
     "height": 143
    },
    "id": "8bc303f6",
    "outputId": "6f9c0738-1c94-461b-a695-a25b2e614718"
   },
   "outputs": [],
   "source": [
    "df.groupby(\"loan_status\")[\"mort_acc\"].describe()"
   ]
  },
  {
   "cell_type": "code",
   "execution_count": null,
   "id": "6866d2e2",
   "metadata": {
    "colab": {
     "base_uri": "https://localhost:8080/",
     "height": 636
    },
    "id": "6866d2e2",
    "outputId": "5d2cfc19-d0d4-4bdc-dd10-0c07f4f26043",
    "scrolled": true
   },
   "outputs": [],
   "source": [
    "plt.figure(figsize=(5,7))\n",
    "sns.boxplot(y= np.log(df[\"mort_acc\"]),\n",
    "            x=df[\"loan_status\"])"
   ]
  },
  {
   "cell_type": "code",
   "execution_count": null,
   "id": "ce174ce3",
   "metadata": {
    "colab": {
     "base_uri": "https://localhost:8080/",
     "height": 483
    },
    "id": "ce174ce3",
    "outputId": "198b87e3-c896-4d80-8308-7d29e4cee31c"
   },
   "outputs": [],
   "source": [
    "pd.crosstab(index = df[\"mort_acc\"],\n",
    "            columns= df[\"loan_status\"],normalize= \"index\").plot(kind = \"bar\")"
   ]
  },
  {
   "cell_type": "code",
   "execution_count": null,
   "id": "19fea181",
   "metadata": {
    "id": "19fea181"
   },
   "outputs": [],
   "source": []
  },
  {
   "cell_type": "markdown",
   "id": "71f2c3f9",
   "metadata": {
    "id": "71f2c3f9"
   },
   "source": [
    "## pub_rec_bankruptcies :\n",
    "- #### Number of public record bankruptcies\n"
   ]
  },
  {
   "cell_type": "code",
   "execution_count": null,
   "id": "ac318e98",
   "metadata": {
    "colab": {
     "base_uri": "https://localhost:8080/"
    },
    "id": "ac318e98",
    "outputId": "5dfeb038-fe5b-4370-d841-8dd052e83ed7"
   },
   "outputs": [],
   "source": [
    "df[\"pub_rec_bankruptcies\"].value_counts()"
   ]
  },
  {
   "cell_type": "code",
   "execution_count": null,
   "id": "f3d80090",
   "metadata": {
    "colab": {
     "base_uri": "https://localhost:8080/",
     "height": 875
    },
    "id": "f3d80090",
    "outputId": "d2e70bfb-fd4a-4ff2-9250-25eee72a0d8d"
   },
   "outputs": [],
   "source": [
    "print(df[\"pub_rec_bankruptcies\"].value_counts(dropna=False))\n",
    "print(pd.crosstab(index = df[\"pub_rec_bankruptcies\"],\n",
    "            columns= df[\"loan_status\"],normalize= \"index\", margins = True)*100)\n",
    "pd.crosstab(index = df[\"pub_rec_bankruptcies\"],\n",
    "            columns= df[\"loan_status\"],normalize= \"index\").plot(kind = \"bar\")\n"
   ]
  },
  {
   "cell_type": "code",
   "execution_count": null,
   "id": "f816018d",
   "metadata": {
    "id": "f816018d"
   },
   "outputs": [],
   "source": []
  },
  {
   "cell_type": "code",
   "execution_count": null,
   "id": "1703143d",
   "metadata": {
    "id": "1703143d"
   },
   "outputs": [],
   "source": []
  },
  {
   "cell_type": "code",
   "execution_count": null,
   "id": "e71eb466",
   "metadata": {
    "id": "e71eb466"
   },
   "outputs": [],
   "source": []
  },
  {
   "cell_type": "markdown",
   "id": "09345b69",
   "metadata": {
    "id": "09345b69"
   },
   "source": [
    "## Address:\n",
    "\n",
    "- #### Address of the individual"
   ]
  },
  {
   "cell_type": "code",
   "execution_count": null,
   "id": "131a7b83",
   "metadata": {
    "colab": {
     "base_uri": "https://localhost:8080/",
     "height": 35
    },
    "id": "131a7b83",
    "outputId": "160ca6f7-a655-4002-f656-dd3eb868e4c8"
   },
   "outputs": [],
   "source": [
    "df[\"address\"][10]"
   ]
  },
  {
   "cell_type": "code",
   "execution_count": null,
   "id": "8fa8591f",
   "metadata": {
    "id": "8fa8591f"
   },
   "outputs": [],
   "source": [
    "df[\"address\"] = df[\"address\"].str.split().apply(lambda x:x[-1])"
   ]
  },
  {
   "cell_type": "code",
   "execution_count": null,
   "id": "abb0b802",
   "metadata": {
    "colab": {
     "base_uri": "https://localhost:8080/"
    },
    "id": "abb0b802",
    "outputId": "2782c569-6211-4653-814d-7976c32ee38d"
   },
   "outputs": [],
   "source": [
    "df[\"address\"].value_counts()"
   ]
  },
  {
   "cell_type": "code",
   "execution_count": null,
   "id": "2b360e9e",
   "metadata": {
    "colab": {
     "base_uri": "https://localhost:8080/",
     "height": 497
    },
    "id": "2b360e9e",
    "outputId": "ba33024a-8617-4b42-c795-a999936e48e3"
   },
   "outputs": [],
   "source": [
    "pd.crosstab(index = df[\"address\"],\n",
    "            columns= df[\"loan_status\"],normalize= \"index\").plot(kind = \"bar\")\n"
   ]
  },
  {
   "cell_type": "code",
   "execution_count": null,
   "id": "6d02cc70",
   "metadata": {
    "id": "6d02cc70"
   },
   "outputs": [],
   "source": [
    "df[\"pin_code\"] = df[\"address\"]\n",
    "df.drop([\"address\"],axis = 1  ,inplace=True)"
   ]
  },
  {
   "cell_type": "code",
   "execution_count": null,
   "id": "7a8868f5",
   "metadata": {
    "id": "7a8868f5"
   },
   "outputs": [],
   "source": []
  },
  {
   "cell_type": "markdown",
   "id": "ead4dd5f",
   "metadata": {
    "id": "ead4dd5f"
   },
   "source": [
    "# dropping unimportant columns"
   ]
  },
  {
   "cell_type": "code",
   "execution_count": null,
   "id": "b28097d6",
   "metadata": {
    "id": "b28097d6"
   },
   "outputs": [],
   "source": []
  },
  {
   "cell_type": "code",
   "execution_count": null,
   "id": "0519f9f8",
   "metadata": {
    "id": "0519f9f8"
   },
   "outputs": [],
   "source": [
    "df.drop([\"title\",\"issue_d\",\"earliest_cr_line\",\"initial_list_status\"],axis = 1, inplace=True)"
   ]
  },
  {
   "cell_type": "code",
   "execution_count": null,
   "id": "08dd0f6b",
   "metadata": {
    "id": "08dd0f6b"
   },
   "outputs": [],
   "source": []
  },
  {
   "cell_type": "code",
   "execution_count": null,
   "id": "fa026e3f",
   "metadata": {
    "id": "fa026e3f"
   },
   "outputs": [],
   "source": [
    "df.drop([\"pin_code\"],axis=1,inplace=True)"
   ]
  },
  {
   "cell_type": "code",
   "execution_count": null,
   "id": "813a63b1",
   "metadata": {
    "id": "813a63b1"
   },
   "outputs": [],
   "source": [
    "df.drop([\"Loan_Tenure\"],axis=1,inplace=True)"
   ]
  },
  {
   "cell_type": "code",
   "execution_count": null,
   "id": "10c85145",
   "metadata": {
    "id": "10c85145"
   },
   "outputs": [],
   "source": []
  },
  {
   "cell_type": "markdown",
   "id": "e6e2752d",
   "metadata": {
    "id": "e6e2752d"
   },
   "source": [
    "## Missing value treatment"
   ]
  },
  {
   "cell_type": "code",
   "execution_count": null,
   "id": "ee9e0b9e",
   "metadata": {
    "colab": {
     "base_uri": "https://localhost:8080/",
     "height": 238
    },
    "id": "ee9e0b9e",
    "outputId": "d8de1cfb-9d9b-496c-e503-d88bc495637b"
   },
   "outputs": [],
   "source": [
    "missing_data[missing_data[\"Percent\"]>0]"
   ]
  },
  {
   "cell_type": "code",
   "execution_count": null,
   "id": "af77a21d",
   "metadata": {
    "id": "af77a21d"
   },
   "outputs": [],
   "source": [
    "from sklearn.impute import SimpleImputer\n",
    "Imputer = SimpleImputer(strategy=\"most_frequent\")\n",
    "df[\"mort_acc\"] = Imputer.fit_transform(df[\"mort_acc\"].values.reshape(-1,1))"
   ]
  },
  {
   "cell_type": "code",
   "execution_count": null,
   "id": "3555d4e8",
   "metadata": {
    "id": "3555d4e8"
   },
   "outputs": [],
   "source": []
  },
  {
   "cell_type": "code",
   "execution_count": null,
   "id": "be604cf8",
   "metadata": {
    "id": "be604cf8"
   },
   "outputs": [],
   "source": [
    "df.dropna(inplace=True)"
   ]
  },
  {
   "cell_type": "code",
   "execution_count": null,
   "id": "f01c4ee1",
   "metadata": {
    "colab": {
     "base_uri": "https://localhost:8080/",
     "height": 739
    },
    "id": "f01c4ee1",
    "outputId": "d4e699ac-8afa-42a6-8ff7-08adbe50a0d2"
   },
   "outputs": [],
   "source": [
    "missing_df(df)"
   ]
  },
  {
   "cell_type": "markdown",
   "id": "68ec420e",
   "metadata": {
    "id": "68ec420e"
   },
   "source": [
    "## Pre-proccessing :\n"
   ]
  },
  {
   "cell_type": "markdown",
   "id": "12f783d4",
   "metadata": {
    "id": "12f783d4"
   },
   "source": [
    "### Feature Engineering"
   ]
  },
  {
   "cell_type": "code",
   "execution_count": null,
   "id": "tSZU9f88oqbG",
   "metadata": {
    "colab": {
     "base_uri": "https://localhost:8080/"
    },
    "id": "tSZU9f88oqbG",
    "outputId": "99e004d7-5d77-43f7-9e31-8b9b6cd26e59"
   },
   "outputs": [],
   "source": [
    "!pip install category_encoders\n"
   ]
  },
  {
   "cell_type": "code",
   "execution_count": null,
   "id": "4fccd87c",
   "metadata": {
    "id": "4fccd87c"
   },
   "outputs": [],
   "source": [
    "from category_encoders import TargetEncoder"
   ]
  },
  {
   "cell_type": "code",
   "execution_count": null,
   "id": "11ee4b68",
   "metadata": {
    "id": "11ee4b68"
   },
   "outputs": [],
   "source": [
    "TE = TargetEncoder()"
   ]
  },
  {
   "cell_type": "code",
   "execution_count": null,
   "id": "169db5d4",
   "metadata": {
    "id": "169db5d4"
   },
   "outputs": [],
   "source": []
  },
  {
   "cell_type": "code",
   "execution_count": null,
   "id": "603d3594",
   "metadata": {
    "id": "603d3594"
   },
   "outputs": [],
   "source": [
    "df[\"loan_status\"].replace({\"Fully Paid\":0,\n",
    "                          \"Charged Off\" : 1},inplace=True)"
   ]
  },
  {
   "cell_type": "code",
   "execution_count": null,
   "id": "ebe78f48",
   "metadata": {
    "colab": {
     "base_uri": "https://localhost:8080/",
     "height": 294
    },
    "id": "ebe78f48",
    "outputId": "18cffd5c-cac7-4132-c19b-e9057eae36bf"
   },
   "outputs": [],
   "source": [
    "df.sample(3)"
   ]
  },
  {
   "cell_type": "code",
   "execution_count": null,
   "id": "a35fee8e",
   "metadata": {
    "colab": {
     "base_uri": "https://localhost:8080/"
    },
    "id": "a35fee8e",
    "outputId": "024bfa14-a10e-4ef0-d021-eb18715cbabc"
   },
   "outputs": [],
   "source": [
    "df.columns"
   ]
  },
  {
   "cell_type": "code",
   "execution_count": null,
   "id": "eb325066",
   "metadata": {
    "id": "eb325066"
   },
   "outputs": [],
   "source": [
    "target_enc = [\"sub_grade\",\"grade\",'term', 'emp_title', 'emp_length', 'home_ownership', 'verification_status', 'purpose', 'application_type']"
   ]
  },
  {
   "cell_type": "code",
   "execution_count": null,
   "id": "e80239aa",
   "metadata": {
    "colab": {
     "base_uri": "https://localhost:8080/"
    },
    "id": "e80239aa",
    "outputId": "fc275b02-c51c-41a2-fa62-fc45c1d27b08"
   },
   "outputs": [],
   "source": [
    "for col in target_enc:\n",
    "    from category_encoders import TargetEncoder\n",
    "    TEncoder = TargetEncoder()\n",
    "\n",
    "    df[col] = TEncoder.fit_transform(df[col],df[\"loan_status\"])"
   ]
  },
  {
   "cell_type": "code",
   "execution_count": null,
   "id": "ead59dbf",
   "metadata": {
    "colab": {
     "base_uri": "https://localhost:8080/",
     "height": 488
    },
    "id": "ead59dbf",
    "outputId": "1b4776d0-e5b8-4b45-d1e7-8645c0b1b713"
   },
   "outputs": [],
   "source": [
    "df"
   ]
  },
  {
   "cell_type": "markdown",
   "id": "86846ab3",
   "metadata": {
    "id": "86846ab3"
   },
   "source": [
    "## Outlier treatment :"
   ]
  },
  {
   "cell_type": "code",
   "execution_count": null,
   "id": "15ceac39",
   "metadata": {
    "id": "15ceac39"
   },
   "outputs": [],
   "source": []
  },
  {
   "cell_type": "code",
   "execution_count": null,
   "id": "a61d6f5a",
   "metadata": {
    "id": "a61d6f5a"
   },
   "outputs": [],
   "source": [
    "def outlier_remover(a,df):\n",
    "\n",
    "    q1 = a.quantile(.25)\n",
    "    q3 = a.quantile(.75)\n",
    "    iqr = q3 - q1\n",
    "\n",
    "    maxx = q3 + 1.5 * iqr\n",
    "    minn = q1 - 1.5 * iqr\n",
    "\n",
    "    return df.loc[(a>=minn) & (a<=maxx)]"
   ]
  },
  {
   "cell_type": "code",
   "execution_count": null,
   "id": "495a0799",
   "metadata": {
    "id": "495a0799"
   },
   "outputs": [],
   "source": [
    "floats = ['loan_amnt', 'int_rate', 'annual_inc', 'dti', 'open_acc','revol_bal', 'revol_util', 'total_acc']\n"
   ]
  },
  {
   "cell_type": "code",
   "execution_count": null,
   "id": "c0aa411a",
   "metadata": {
    "colab": {
     "base_uri": "https://localhost:8080/",
     "height": 207
    },
    "id": "c0aa411a",
    "outputId": "aa8d9e53-d143-4cb8-f5a9-776d79b67c32"
   },
   "outputs": [],
   "source": [
    "df.sample(3)"
   ]
  },
  {
   "cell_type": "code",
   "execution_count": null,
   "id": "712c7dcb",
   "metadata": {
    "id": "712c7dcb"
   },
   "outputs": [],
   "source": [
    "for i in floats:\n",
    "    df = outlier_remover(df[i],df)"
   ]
  },
  {
   "cell_type": "code",
   "execution_count": null,
   "id": "3ae09670",
   "metadata": {
    "colab": {
     "base_uri": "https://localhost:8080/",
     "height": 1000
    },
    "id": "3ae09670",
    "outputId": "b596ddaa-c2d2-420a-ddf3-cab1d0d26136",
    "scrolled": true
   },
   "outputs": [],
   "source": [
    "for i in floats:\n",
    "    plt.figure(figsize=(15, 3))\n",
    "    plt.subplot(121)\n",
    "    sns.boxplot(y=df[i])\n",
    "    plt.title(f\"Boxplot of {i} before removing outliers\")\n",
    "    plt.subplot(122)\n",
    "    sns.boxplot(y=df[i])\n",
    "    plt.title(f\"Boxplot of {i} after removing outliers\")\n",
    "\n",
    "    plt.show()"
   ]
  },
  {
   "cell_type": "markdown",
   "id": "5d1cb1d8",
   "metadata": {
    "id": "5d1cb1d8"
   },
   "source": [
    "# Missing value check :"
   ]
  },
  {
   "cell_type": "code",
   "execution_count": null,
   "id": "8cd8f9e7",
   "metadata": {
    "colab": {
     "base_uri": "https://localhost:8080/",
     "height": 49
    },
    "id": "8cd8f9e7",
    "outputId": "771d96b8-53ef-444d-a250-ebc6430d04f5"
   },
   "outputs": [],
   "source": [
    "def missing_df(data):\n",
    "    total_missing_df = data.isna().sum().sort_values(ascending = False)\n",
    "    percentage_missing_df = ((data.isna().sum()/len(data)*100)).sort_values(ascending = False)\n",
    "    missingDF = pd.concat([total_missing_df, percentage_missing_df],axis = 1, keys=['Total', 'Percent'])\n",
    "    return missingDF\n",
    "\n",
    "\n",
    "missing_data = missing_df(df)\n",
    "missing_data[missing_data[\"Total\"]>0]\n"
   ]
  },
  {
   "cell_type": "code",
   "execution_count": null,
   "id": "9aac4642",
   "metadata": {
    "colab": {
     "base_uri": "https://localhost:8080/"
    },
    "id": "9aac4642",
    "outputId": "c45903c2-e8fa-40c9-f1f7-d4768e25255c"
   },
   "outputs": [],
   "source": [
    "df.columns"
   ]
  },
  {
   "cell_type": "code",
   "execution_count": null,
   "id": "1321912e",
   "metadata": {
    "id": "1321912e"
   },
   "outputs": [],
   "source": [
    "df.drop([\"mort_acc\",\"pub_rec_bankruptcies\"],axis = 1 , inplace=True)"
   ]
  },
  {
   "cell_type": "code",
   "execution_count": null,
   "id": "4ceabf3b",
   "metadata": {
    "id": "4ceabf3b"
   },
   "outputs": [],
   "source": [
    "df.drop([\"pub_rec\"],axis = 1 , inplace=True)"
   ]
  },
  {
   "cell_type": "code",
   "execution_count": null,
   "id": "3dc1577d",
   "metadata": {
    "colab": {
     "base_uri": "https://localhost:8080/",
     "height": 1000
    },
    "id": "3dc1577d",
    "outputId": "bbff7747-09b6-4357-cf23-5c26d204a4ab",
    "scrolled": true
   },
   "outputs": [],
   "source": [
    "plt.figure(figsize=(24,15))\n",
    "sns.heatmap(df.corr(),annot=True,cmap='BrBG_r')\n",
    "\n",
    "plt.show()"
   ]
  },
  {
   "cell_type": "markdown",
   "id": "55db65e4",
   "metadata": {
    "id": "55db65e4"
   },
   "source": [
    "## Train-test split :"
   ]
  },
  {
   "cell_type": "code",
   "execution_count": null,
   "id": "9f5bb68a",
   "metadata": {
    "id": "9f5bb68a"
   },
   "outputs": [],
   "source": [
    "X = df.drop([\"loan_status\"],axis = 1)\n",
    "y = df[\"loan_status\"]"
   ]
  },
  {
   "cell_type": "code",
   "execution_count": null,
   "id": "65518065",
   "metadata": {
    "id": "65518065"
   },
   "outputs": [],
   "source": []
  },
  {
   "cell_type": "code",
   "execution_count": null,
   "id": "30672e7a",
   "metadata": {
    "id": "30672e7a"
   },
   "outputs": [],
   "source": [
    "from sklearn.model_selection import train_test_split"
   ]
  },
  {
   "cell_type": "code",
   "execution_count": null,
   "id": "c1683dc3",
   "metadata": {
    "id": "c1683dc3"
   },
   "outputs": [],
   "source": [
    "X_train , X_test , y_train , y_test = train_test_split(X,y,\n",
    "                                                      random_state=3,\n",
    "                                                      test_size=0.2)"
   ]
  },
  {
   "cell_type": "markdown",
   "id": "495ab8ce",
   "metadata": {
    "id": "495ab8ce"
   },
   "source": [
    "### Logistic Regression on Non-Standardised Data :"
   ]
  },
  {
   "cell_type": "code",
   "execution_count": null,
   "id": "9486e598",
   "metadata": {
    "id": "9486e598"
   },
   "outputs": [],
   "source": [
    "from sklearn.linear_model import LogisticRegression\n",
    "LR1st = LogisticRegression(class_weight=None)"
   ]
  },
  {
   "cell_type": "code",
   "execution_count": null,
   "id": "f5da520f",
   "metadata": {
    "colab": {
     "base_uri": "https://localhost:8080/",
     "height": 75
    },
    "id": "f5da520f",
    "outputId": "b3e25844-7c4c-474c-c051-e13403783003"
   },
   "outputs": [],
   "source": [
    "LR1st.fit(X_train,y_train)"
   ]
  },
  {
   "cell_type": "code",
   "execution_count": null,
   "id": "95af9bef",
   "metadata": {
    "colab": {
     "base_uri": "https://localhost:8080/"
    },
    "id": "95af9bef",
    "outputId": "2024f54c-5b27-419e-cd07-aad2afbb0b05"
   },
   "outputs": [],
   "source": [
    "LR1st.score(X_test,y_test)"
   ]
  },
  {
   "cell_type": "code",
   "execution_count": null,
   "id": "1f8cc6ae",
   "metadata": {
    "id": "1f8cc6ae"
   },
   "outputs": [],
   "source": [
    "from sklearn.metrics import f1_score,recall_score,precision_score"
   ]
  },
  {
   "cell_type": "code",
   "execution_count": null,
   "id": "2efe1874",
   "metadata": {
    "colab": {
     "base_uri": "https://localhost:8080/"
    },
    "id": "2efe1874",
    "outputId": "0e9ead5f-98a7-455d-c4b7-ea942a37f035"
   },
   "outputs": [],
   "source": [
    "f1_score(y_test,LR1st.predict(X_test))"
   ]
  },
  {
   "cell_type": "code",
   "execution_count": null,
   "id": "82dc6789",
   "metadata": {
    "colab": {
     "base_uri": "https://localhost:8080/"
    },
    "id": "82dc6789",
    "outputId": "63399ada-34d7-4c2c-b82e-0a6387d737cc"
   },
   "outputs": [],
   "source": [
    "recall_score(y_test,LR1st.predict(X_test))"
   ]
  },
  {
   "cell_type": "code",
   "execution_count": null,
   "id": "56c69263",
   "metadata": {
    "colab": {
     "base_uri": "https://localhost:8080/"
    },
    "id": "56c69263",
    "outputId": "1ec1e495-d643-42aa-90d3-ef76cddfa518"
   },
   "outputs": [],
   "source": [
    "precision_score(y_test,LR1st.predict(X_test))"
   ]
  },
  {
   "cell_type": "code",
   "execution_count": null,
   "id": "8d858637",
   "metadata": {
    "id": "8d858637"
   },
   "outputs": [],
   "source": []
  },
  {
   "cell_type": "markdown",
   "id": "e1f14b67",
   "metadata": {
    "id": "e1f14b67"
   },
   "source": [
    "## Standardizing  - preprocessing"
   ]
  },
  {
   "cell_type": "code",
   "execution_count": null,
   "id": "faeab4bd",
   "metadata": {
    "id": "faeab4bd"
   },
   "outputs": [],
   "source": [
    "from sklearn.preprocessing import StandardScaler\n",
    "StandardScaler = StandardScaler()\n",
    "\n"
   ]
  },
  {
   "cell_type": "code",
   "execution_count": null,
   "id": "cc7ddfae",
   "metadata": {
    "colab": {
     "base_uri": "https://localhost:8080/",
     "height": 75
    },
    "id": "cc7ddfae",
    "outputId": "22654a0e-7273-428f-d10c-d93574bbd502"
   },
   "outputs": [],
   "source": [
    "StandardScaler.fit(X_train)"
   ]
  },
  {
   "cell_type": "code",
   "execution_count": null,
   "id": "e20b1341",
   "metadata": {
    "id": "e20b1341"
   },
   "outputs": [],
   "source": []
  },
  {
   "cell_type": "code",
   "execution_count": null,
   "id": "8a77c07c",
   "metadata": {
    "id": "8a77c07c",
    "scrolled": true
   },
   "outputs": [],
   "source": [
    "X_train = StandardScaler.transform(X_train)\n",
    "X_test = StandardScaler.transform(X_test)\n"
   ]
  },
  {
   "cell_type": "code",
   "execution_count": null,
   "id": "c5e7313c",
   "metadata": {
    "colab": {
     "base_uri": "https://localhost:8080/"
    },
    "id": "c5e7313c",
    "outputId": "a165492f-8c07-42a6-e008-107f47c94189"
   },
   "outputs": [],
   "source": [
    "from sklearn.linear_model import LogisticRegression\n",
    "LR_Std = LogisticRegression(C=1.0)\n",
    "LR_Std.fit(X_train,y_train)\n",
    "print(\"Accuracy: \",LR_Std.score(X_test,y_test))\n",
    "print(\"f1_score: \",f1_score(y_test,LR_Std.predict(X_test)))\n",
    "print(\"recall_score: \",recall_score(y_test,LR_Std.predict(X_test)))\n",
    "print(\"precision_score: \",precision_score(y_test,LR_Std.predict(X_test)))"
   ]
  },
  {
   "cell_type": "code",
   "execution_count": null,
   "id": "61a6d7fe",
   "metadata": {
    "colab": {
     "base_uri": "https://localhost:8080/",
     "height": 614
    },
    "id": "61a6d7fe",
    "outputId": "c8a7f6e8-5634-4ca5-bd91-8d5b51e0b213"
   },
   "outputs": [],
   "source": [
    "pd.DataFrame(data=LR_Std.coef_,columns=X.columns).T"
   ]
  },
  {
   "cell_type": "code",
   "execution_count": null,
   "id": "08c7c59b",
   "metadata": {
    "colab": {
     "base_uri": "https://localhost:8080/",
     "height": 561
    },
    "id": "08c7c59b",
    "outputId": "d203fa68-5734-4193-f869-aa941a6add23"
   },
   "outputs": [],
   "source": [
    "pd.DataFrame(data=LR_Std.coef_,columns=X.columns).T.plot(kind = \"bar\")"
   ]
  },
  {
   "cell_type": "markdown",
   "id": "f2798d71",
   "metadata": {
    "id": "f2798d71"
   },
   "source": [
    "## Data Balancing :"
   ]
  },
  {
   "cell_type": "code",
   "execution_count": null,
   "id": "5f91f66b",
   "metadata": {
    "id": "5f91f66b"
   },
   "outputs": [],
   "source": [
    "from imblearn.over_sampling import SMOTE"
   ]
  },
  {
   "cell_type": "code",
   "execution_count": null,
   "id": "bfd71d84",
   "metadata": {
    "id": "bfd71d84",
    "scrolled": false
   },
   "outputs": [],
   "source": [
    "SmoteBL = SMOTE(k_neighbors=7)"
   ]
  },
  {
   "cell_type": "code",
   "execution_count": null,
   "id": "3d7ea429",
   "metadata": {
    "id": "3d7ea429"
   },
   "outputs": [],
   "source": [
    "X_smote , y_smote = SmoteBL.fit_resample(X_train,y_train)"
   ]
  },
  {
   "cell_type": "code",
   "execution_count": null,
   "id": "78a51a80",
   "metadata": {
    "colab": {
     "base_uri": "https://localhost:8080/"
    },
    "id": "78a51a80",
    "outputId": "fde6aaa5-279a-4295-d69f-466ac36ef3fc"
   },
   "outputs": [],
   "source": [
    "X_smote.shape,  y_smote.shape"
   ]
  },
  {
   "cell_type": "code",
   "execution_count": null,
   "id": "415e3682",
   "metadata": {
    "id": "415e3682"
   },
   "outputs": [],
   "source": [
    "# y_smote.value_counts()\n"
   ]
  },
  {
   "cell_type": "code",
   "execution_count": null,
   "id": "27e06c40",
   "metadata": {
    "id": "27e06c40"
   },
   "outputs": [],
   "source": []
  },
  {
   "cell_type": "code",
   "execution_count": null,
   "id": "1a66d2f2",
   "metadata": {
    "id": "1a66d2f2"
   },
   "outputs": [],
   "source": [
    "from sklearn.linear_model import LogisticRegression"
   ]
  },
  {
   "cell_type": "code",
   "execution_count": null,
   "id": "14c6d323",
   "metadata": {
    "id": "14c6d323"
   },
   "outputs": [],
   "source": [
    "LogReg = LogisticRegression(max_iter=1000,class_weight=\"balanced\")"
   ]
  },
  {
   "cell_type": "code",
   "execution_count": null,
   "id": "a65c1299",
   "metadata": {
    "id": "a65c1299"
   },
   "outputs": [],
   "source": [
    "from sklearn.model_selection import cross_val_score"
   ]
  },
  {
   "cell_type": "code",
   "execution_count": null,
   "id": "247463df",
   "metadata": {
    "colab": {
     "base_uri": "https://localhost:8080/"
    },
    "id": "247463df",
    "outputId": "b0ffc9fb-227e-43a5-faff-d59b5779d097"
   },
   "outputs": [],
   "source": [
    "cross_val_score(estimator = LogReg,\n",
    "                cv=5,\n",
    "                X = X_smote,\n",
    "                y = y_smote,\n",
    "                scoring= \"f1\"\n",
    "\n",
    "       )"
   ]
  },
  {
   "cell_type": "code",
   "execution_count": null,
   "id": "b9f96a7e",
   "metadata": {
    "colab": {
     "base_uri": "https://localhost:8080/"
    },
    "id": "b9f96a7e",
    "outputId": "5dc07753-a0f3-4905-eb46-94ed1a923899"
   },
   "outputs": [],
   "source": [
    "cross_val_score(estimator = LogReg,\n",
    "                cv=5,\n",
    "                X = X_smote,\n",
    "                y = y_smote,\n",
    "                scoring= \"precision\"\n",
    "\n",
    "       )"
   ]
  },
  {
   "cell_type": "code",
   "execution_count": null,
   "id": "75a8178a",
   "metadata": {
    "colab": {
     "base_uri": "https://localhost:8080/"
    },
    "id": "75a8178a",
    "outputId": "e14549e1-059b-4b84-deb4-fe36a76da32d"
   },
   "outputs": [],
   "source": [
    "cross_val_score(estimator = LogReg,\n",
    "                cv=5,\n",
    "                X = X_smote,\n",
    "                y = y_smote,\n",
    "                scoring= \"accuracy\"\n",
    "\n",
    "       )"
   ]
  },
  {
   "cell_type": "code",
   "execution_count": null,
   "id": "b9244d6a",
   "metadata": {
    "id": "b9244d6a"
   },
   "outputs": [],
   "source": []
  },
  {
   "cell_type": "code",
   "execution_count": null,
   "id": "f1e65716",
   "metadata": {
    "colab": {
     "base_uri": "https://localhost:8080/"
    },
    "id": "f1e65716",
    "outputId": "3019b109-b23c-4ac8-b914-4785d5452f83"
   },
   "outputs": [],
   "source": [
    "cross_val_score(estimator = LogReg,\n",
    "                cv=5,\n",
    "                X = X_train,\n",
    "                y = y_train,\n",
    "                scoring= \"precision\"\n",
    "\n",
    "       )"
   ]
  },
  {
   "cell_type": "code",
   "execution_count": null,
   "id": "06dd81af",
   "metadata": {
    "id": "06dd81af"
   },
   "outputs": [],
   "source": []
  },
  {
   "cell_type": "code",
   "execution_count": null,
   "id": "6130aa89",
   "metadata": {
    "id": "6130aa89"
   },
   "outputs": [],
   "source": [
    "from sklearn.linear_model import LogisticRegression\n",
    "LogReg = LogisticRegression(max_iter=1000,class_weight=\"balanced\")"
   ]
  },
  {
   "cell_type": "code",
   "execution_count": null,
   "id": "20af7576",
   "metadata": {
    "colab": {
     "base_uri": "https://localhost:8080/",
     "height": 75
    },
    "id": "20af7576",
    "outputId": "b1ac9f34-ca1f-4038-8e07-48aa9c43c3f4",
    "scrolled": false
   },
   "outputs": [],
   "source": [
    "LogReg.fit(X= X_train ,y = y_train)"
   ]
  },
  {
   "cell_type": "code",
   "execution_count": null,
   "id": "77015172",
   "metadata": {
    "colab": {
     "base_uri": "https://localhost:8080/"
    },
    "id": "77015172",
    "outputId": "6404a8e3-3b51-4f4b-8b51-9e54ce4137c7"
   },
   "outputs": [],
   "source": [
    "LogReg.score(X_test,y_test)"
   ]
  },
  {
   "cell_type": "code",
   "execution_count": null,
   "id": "c91e9c38",
   "metadata": {
    "id": "c91e9c38"
   },
   "outputs": [],
   "source": []
  },
  {
   "cell_type": "code",
   "execution_count": null,
   "id": "ca3681cb",
   "metadata": {
    "colab": {
     "base_uri": "https://localhost:8080/"
    },
    "id": "ca3681cb",
    "outputId": "9f88a9f6-ee4f-4507-a71f-aa3254cf8a5a"
   },
   "outputs": [],
   "source": [
    "LogReg.coef_.round(2)"
   ]
  },
  {
   "cell_type": "code",
   "execution_count": null,
   "id": "8e616533",
   "metadata": {
    "colab": {
     "base_uri": "https://localhost:8080/"
    },
    "id": "8e616533",
    "outputId": "5eb7f30f-eb72-4d0b-b687-d1b3b73bdac3"
   },
   "outputs": [],
   "source": [
    "from sklearn.metrics  import confusion_matrix, f1_score, precision_score,recall_score\n",
    "print(confusion_matrix(y_test, LogReg.predict(X_test)))\n",
    "print(precision_score(y_test ,LogReg.predict(X_test)))\n",
    "print(recall_score(y_test ,LogReg.predict(X_test)))\n",
    "print(f1_score(y_test ,LogReg.predict(X_test)))\n",
    "\n"
   ]
  },
  {
   "cell_type": "code",
   "execution_count": null,
   "id": "594bbc1b",
   "metadata": {
    "id": "594bbc1b"
   },
   "outputs": [],
   "source": []
  },
  {
   "cell_type": "code",
   "execution_count": null,
   "id": "bab8d401",
   "metadata": {
    "colab": {
     "base_uri": "https://localhost:8080/"
    },
    "id": "bab8d401",
    "outputId": "57498ad1-5510-41c8-d333-16a28bfa99fd"
   },
   "outputs": [],
   "source": [
    "LogReg.coef_"
   ]
  },
  {
   "cell_type": "code",
   "execution_count": null,
   "id": "990d0789",
   "metadata": {
    "colab": {
     "base_uri": "https://localhost:8080/"
    },
    "id": "990d0789",
    "outputId": "d22658cd-bb6e-4583-b9ce-9c6ef7fc880d"
   },
   "outputs": [],
   "source": [
    "df.drop([\"loan_status\"], axis = 1).columns"
   ]
  },
  {
   "cell_type": "code",
   "execution_count": null,
   "id": "5d1b737a",
   "metadata": {
    "colab": {
     "base_uri": "https://localhost:8080/",
     "height": 614
    },
    "id": "5d1b737a",
    "outputId": "929bb6a2-ef00-4cd3-c8b4-1a6000003cae"
   },
   "outputs": [],
   "source": [
    "feature_importance = pd.DataFrame(index = df.drop([\"loan_status\"],\n",
    "                                                  axis = 1).columns,\n",
    "                                  data = LogReg.coef_.ravel()).reset_index()\n",
    "feature_importance"
   ]
  },
  {
   "cell_type": "code",
   "execution_count": null,
   "id": "5640edb2",
   "metadata": {
    "colab": {
     "base_uri": "https://localhost:8080/",
     "height": 1000
    },
    "id": "5640edb2",
    "outputId": "18126ff8-0bc8-4824-c940-fe2207de59ec",
    "scrolled": true
   },
   "outputs": [],
   "source": [
    "plt.figure(figsize=(10,15))\n",
    "sns.barplot(y = feature_importance[\"index\"],\n",
    "           x =  feature_importance[0])"
   ]
  },
  {
   "cell_type": "code",
   "execution_count": null,
   "id": "0b1ad51e",
   "metadata": {
    "colab": {
     "base_uri": "https://localhost:8080/"
    },
    "id": "0b1ad51e",
    "outputId": "0c6b530b-eb7f-4ca0-97a6-a83cf806218f"
   },
   "outputs": [],
   "source": [
    "LogReg.score(X_train,y_train)"
   ]
  },
  {
   "cell_type": "code",
   "execution_count": null,
   "id": "1406af60",
   "metadata": {
    "colab": {
     "base_uri": "https://localhost:8080/"
    },
    "id": "1406af60",
    "outputId": "236a4ad6-694c-4f08-e30d-2822615668ed"
   },
   "outputs": [],
   "source": [
    "LogReg.score(X_test,y_test)"
   ]
  },
  {
   "cell_type": "code",
   "execution_count": null,
   "id": "c2554d5d",
   "metadata": {
    "colab": {
     "base_uri": "https://localhost:8080/",
     "height": 1000
    },
    "id": "c2554d5d",
    "outputId": "95d66335-b927-426c-c486-f0da33aed2be"
   },
   "outputs": [],
   "source": [
    "plt.figure(figsize=(15,15))\n",
    "\n",
    "sns.heatmap(df.corr().round(2),annot=True,square=True)"
   ]
  },
  {
   "cell_type": "markdown",
   "id": "80f854ac",
   "metadata": {
    "id": "80f854ac"
   },
   "source": [
    "## Metrics :"
   ]
  },
  {
   "cell_type": "code",
   "execution_count": null,
   "id": "1747e6e5",
   "metadata": {
    "id": "1747e6e5"
   },
   "outputs": [],
   "source": []
  },
  {
   "cell_type": "code",
   "execution_count": null,
   "id": "aa3fb459",
   "metadata": {
    "colab": {
     "base_uri": "https://localhost:8080/"
    },
    "id": "aa3fb459",
    "outputId": "ec802b2b-270a-4972-89a3-52cc6b2de25c"
   },
   "outputs": [],
   "source": [
    "from sklearn.metrics  import confusion_matrix, f1_score, precision_score,recall_score\n",
    "confusion_matrix(y_test, LogReg.predict(X_test))\n",
    "\n"
   ]
  },
  {
   "cell_type": "code",
   "execution_count": null,
   "id": "8c838b6c",
   "metadata": {
    "colab": {
     "base_uri": "https://localhost:8080/"
    },
    "id": "8c838b6c",
    "outputId": "ea780f10-2d8e-4683-d957-f2c8f28f7330"
   },
   "outputs": [],
   "source": [
    "precision_score(y_test ,LogReg.predict(X_test))"
   ]
  },
  {
   "cell_type": "code",
   "execution_count": null,
   "id": "0dcc78db",
   "metadata": {
    "colab": {
     "base_uri": "https://localhost:8080/"
    },
    "id": "0dcc78db",
    "outputId": "49c26fb5-e402-4917-df9a-5857713469af"
   },
   "outputs": [],
   "source": [
    "recall_score(y_test ,LogReg.predict(X_test))"
   ]
  },
  {
   "cell_type": "code",
   "execution_count": null,
   "id": "10833a35",
   "metadata": {
    "id": "10833a35"
   },
   "outputs": [],
   "source": []
  },
  {
   "cell_type": "code",
   "execution_count": null,
   "id": "c7098982",
   "metadata": {
    "colab": {
     "base_uri": "https://localhost:8080/",
     "height": 143
    },
    "id": "c7098982",
    "outputId": "b4be9fcb-c5d5-4196-afbf-cc623fbc57fa"
   },
   "outputs": [],
   "source": [
    "pd.crosstab(y_test ,LogReg.predict(X_test))"
   ]
  },
  {
   "cell_type": "code",
   "execution_count": null,
   "id": "6421aa19",
   "metadata": {
    "id": "6421aa19"
   },
   "outputs": [],
   "source": []
  },
  {
   "cell_type": "code",
   "execution_count": null,
   "id": "242b4ae2",
   "metadata": {
    "colab": {
     "base_uri": "https://localhost:8080/"
    },
    "id": "242b4ae2",
    "outputId": "1931e1d9-2bca-42bc-e55b-b53a46273c83"
   },
   "outputs": [],
   "source": [
    "recall_score(y_train ,LogReg.predict(X_train))"
   ]
  },
  {
   "cell_type": "code",
   "execution_count": null,
   "id": "f7150f8e",
   "metadata": {
    "colab": {
     "base_uri": "https://localhost:8080/"
    },
    "id": "f7150f8e",
    "outputId": "ad98c4e3-a91d-4c11-db18-a6aa8047fad5"
   },
   "outputs": [],
   "source": [
    "recall_score(y_test ,LogReg.predict(X_test))"
   ]
  },
  {
   "cell_type": "code",
   "execution_count": null,
   "id": "0011c4ff",
   "metadata": {
    "colab": {
     "base_uri": "https://localhost:8080/"
    },
    "id": "0011c4ff",
    "outputId": "5f80f47c-c8b5-4374-9150-b36837f8496a"
   },
   "outputs": [],
   "source": [
    "f1_score(y_test ,LogReg.predict(X_test))"
   ]
  },
  {
   "cell_type": "code",
   "execution_count": null,
   "id": "ec80ab25",
   "metadata": {
    "colab": {
     "base_uri": "https://localhost:8080/"
    },
    "id": "ec80ab25",
    "outputId": "2054d879-d448-458b-edbd-8ca73f174581"
   },
   "outputs": [],
   "source": [
    "f1_score(y_train ,LogReg.predict(X_train))"
   ]
  },
  {
   "cell_type": "code",
   "execution_count": null,
   "id": "2880e274",
   "metadata": {
    "id": "2880e274"
   },
   "outputs": [],
   "source": [
    "from sklearn.metrics import ConfusionMatrixDisplay"
   ]
  },
  {
   "cell_type": "code",
   "execution_count": null,
   "id": "8e914db1",
   "metadata": {
    "id": "8e914db1"
   },
   "outputs": [],
   "source": [
    "from sklearn.metrics import fbeta_score"
   ]
  },
  {
   "cell_type": "code",
   "execution_count": null,
   "id": "b9cfb36a",
   "metadata": {
    "colab": {
     "base_uri": "https://localhost:8080/",
     "height": 449
    },
    "id": "b9cfb36a",
    "outputId": "bc91ea5d-b2ca-4257-a13e-0660875be06e"
   },
   "outputs": [],
   "source": [
    "cm_display  = ConfusionMatrixDisplay(confusion_matrix= confusion_matrix(y_test,\n",
    "                                                          LogReg.predict(X_test)),display_labels=[False,True])\n",
    "cm_display.plot()\n",
    "plt.show()"
   ]
  },
  {
   "cell_type": "code",
   "execution_count": null,
   "id": "d6d41fa6",
   "metadata": {
    "id": "d6d41fa6"
   },
   "outputs": [],
   "source": [
    "# fbeta_score"
   ]
  },
  {
   "cell_type": "code",
   "execution_count": null,
   "id": "5ba4f500",
   "metadata": {
    "colab": {
     "base_uri": "https://localhost:8080/",
     "height": 449
    },
    "id": "5ba4f500",
    "outputId": "ac9cc493-9f4b-41b5-b951-515ffb4e71d8"
   },
   "outputs": [],
   "source": [
    "cm_display  = ConfusionMatrixDisplay(confusion_matrix= confusion_matrix(y_train,\n",
    "                                                          LogReg.predict(X_train)),display_labels=[False,True])\n",
    "cm_display.plot()\n",
    "plt.show()"
   ]
  },
  {
   "cell_type": "code",
   "execution_count": null,
   "id": "f103e217",
   "metadata": {
    "id": "f103e217"
   },
   "outputs": [],
   "source": []
  },
  {
   "cell_type": "code",
   "execution_count": null,
   "id": "d2ab5c8b",
   "metadata": {
    "id": "d2ab5c8b"
   },
   "outputs": [],
   "source": [
    "from sklearn.tree import DecisionTreeClassifier"
   ]
  },
  {
   "cell_type": "code",
   "execution_count": null,
   "id": "332c8235",
   "metadata": {
    "id": "332c8235"
   },
   "outputs": [],
   "source": [
    "DecisionTreeClassifier = DecisionTreeClassifier(max_depth=5, splitter=\"best\",\n",
    "                                               criterion=\"entropy\",class_weight =\"balanced\")"
   ]
  },
  {
   "cell_type": "code",
   "execution_count": null,
   "id": "26a9e583",
   "metadata": {
    "colab": {
     "base_uri": "https://localhost:8080/",
     "height": 92
    },
    "id": "26a9e583",
    "outputId": "8a2fc188-b14a-46d3-9fc7-0a5d2e593998"
   },
   "outputs": [],
   "source": [
    "DecisionTreeClassifier.fit(X_train,y_train)"
   ]
  },
  {
   "cell_type": "code",
   "execution_count": null,
   "id": "559478c7",
   "metadata": {
    "colab": {
     "base_uri": "https://localhost:8080/"
    },
    "id": "559478c7",
    "outputId": "5e4ce04b-22a6-470f-ad3a-9b750f30f6f3"
   },
   "outputs": [],
   "source": [
    "DecisionTreeClassifier.score(X_test,y_test)"
   ]
  },
  {
   "cell_type": "code",
   "execution_count": null,
   "id": "90580056",
   "metadata": {
    "id": "90580056"
   },
   "outputs": [],
   "source": [
    "# DecisionTreeClassifier.score(X_smote,y_smote)"
   ]
  },
  {
   "cell_type": "code",
   "execution_count": null,
   "id": "2d54cb8c",
   "metadata": {
    "id": "2d54cb8c"
   },
   "outputs": [],
   "source": [
    "from sklearn.ensemble import RandomForestClassifier"
   ]
  },
  {
   "cell_type": "code",
   "execution_count": null,
   "id": "e7c54647",
   "metadata": {
    "id": "e7c54647"
   },
   "outputs": [],
   "source": [
    "RF = RandomForestClassifier(n_estimators=30,max_depth=10,class_weight=\"balanced\")"
   ]
  },
  {
   "cell_type": "code",
   "execution_count": null,
   "id": "e8501b41",
   "metadata": {
    "colab": {
     "base_uri": "https://localhost:8080/",
     "height": 75
    },
    "id": "e8501b41",
    "outputId": "4012b42c-904a-49c5-a94f-a0e390ad8bdc"
   },
   "outputs": [],
   "source": [
    "RF.fit(X_train,y_train)"
   ]
  },
  {
   "cell_type": "code",
   "execution_count": null,
   "id": "b75aebbe",
   "metadata": {
    "colab": {
     "base_uri": "https://localhost:8080/"
    },
    "id": "b75aebbe",
    "outputId": "86498c62-6eb9-4384-c6fe-b2acbd0c53e5"
   },
   "outputs": [],
   "source": [
    "RF.score(X_test,y_test)"
   ]
  },
  {
   "cell_type": "code",
   "execution_count": null,
   "id": "2e7e384f",
   "metadata": {
    "colab": {
     "base_uri": "https://localhost:8080/",
     "height": 614
    },
    "id": "2e7e384f",
    "outputId": "41467f5f-486b-4407-f5cd-70da578f23a9"
   },
   "outputs": [],
   "source": [
    "feature_importance = pd.DataFrame(index = df.drop([\"loan_status\"],\n",
    "                                                  axis = 1).columns,\n",
    "                                  data = RF.feature_importances_.ravel()).reset_index()\n",
    "feature_importance"
   ]
  },
  {
   "cell_type": "code",
   "execution_count": null,
   "id": "87b8ca8a",
   "metadata": {
    "colab": {
     "base_uri": "https://localhost:8080/",
     "height": 1000
    },
    "id": "87b8ca8a",
    "outputId": "89917648-43ba-4b2a-d67f-5a50ade336df",
    "scrolled": true
   },
   "outputs": [],
   "source": [
    "plt.figure(figsize=(10,15))\n",
    "sns.barplot(y = feature_importance[\"index\"],\n",
    "           x =  feature_importance[0])"
   ]
  },
  {
   "cell_type": "code",
   "execution_count": null,
   "id": "68e8bd68",
   "metadata": {
    "id": "68e8bd68"
   },
   "outputs": [],
   "source": []
  },
  {
   "cell_type": "code",
   "execution_count": null,
   "id": "782ccb53",
   "metadata": {
    "id": "782ccb53"
   },
   "outputs": [],
   "source": [
    "from sklearn.metrics import precision_recall_curve"
   ]
  },
  {
   "cell_type": "code",
   "execution_count": null,
   "id": "8efaef0b",
   "metadata": {
    "colab": {
     "base_uri": "https://localhost:8080/",
     "height": 449
    },
    "id": "8efaef0b",
    "outputId": "06442671-178c-4871-ac38-c7899aef5ccd"
   },
   "outputs": [],
   "source": [
    "def precision_recall_curve_plot(y_test, pred_proba_c1):\n",
    "    precisions, recalls, thresholds = precision_recall_curve(y_test, pred_proba_c1)\n",
    "\n",
    "    threshold_boundary = thresholds.shape[0]\n",
    "    # plot precision\n",
    "    plt.plot(thresholds, precisions[0:threshold_boundary], linestyle='--')\n",
    "    # plot recall\n",
    "    plt.plot(thresholds, recalls[0:threshold_boundary], label='recalls')\n",
    "\n",
    "    start, end = plt.xlim()\n",
    "    plt.xticks(np.round(np.arange(start, end, 0.1), 2))\n",
    "\n",
    "    plt.xlabel('Threshold Value'); plt.ylabel('Precision and Recall Value')\n",
    "    plt.legend(); plt.grid()\n",
    "    plt.show()\n",
    "\n",
    "precision_recall_curve_plot(y_test, LogReg.predict_proba(X_test)[:,1])\n"
   ]
  },
  {
   "cell_type": "code",
   "execution_count": null,
   "id": "96d57a53",
   "metadata": {
    "colab": {
     "base_uri": "https://localhost:8080/",
     "height": 449
    },
    "id": "96d57a53",
    "outputId": "391082ce-633c-4e2b-a762-0996e6898ed4"
   },
   "outputs": [],
   "source": [
    "def precision_recall_curve_plot(y_test, pred_proba_c1):\n",
    "    precisions, recalls, thresholds = precision_recall_curve(y_test, pred_proba_c1)\n",
    "\n",
    "    threshold_boundary = thresholds.shape[0]\n",
    "    # plot precision\n",
    "    plt.plot(thresholds, precisions[0:threshold_boundary], linestyle='--', label='precision')\n",
    "    # plot recall\n",
    "    plt.plot(thresholds, recalls[0:threshold_boundary], label='recalls')\n",
    "\n",
    "    start, end = plt.xlim()\n",
    "    plt.xticks(np.round(np.arange(start, end, 0.1), 2))\n",
    "\n",
    "    plt.xlabel('Threshold Value'); plt.ylabel('Precision and Recall Value')\n",
    "    plt.legend(); plt.grid()\n",
    "    plt.show()\n",
    "\n",
    "precision_recall_curve_plot(y_test, LogReg.predict_proba(X_test)[:,1])"
   ]
  },
  {
   "cell_type": "code",
   "execution_count": null,
   "id": "6169130b",
   "metadata": {
    "id": "6169130b"
   },
   "outputs": [],
   "source": [
    "from sklearn.metrics import roc_auc_score,roc_curve"
   ]
  },
  {
   "cell_type": "code",
   "execution_count": null,
   "id": "cfba9bec",
   "metadata": {
    "colab": {
     "base_uri": "https://localhost:8080/",
     "height": 472
    },
    "id": "cfba9bec",
    "outputId": "a1715be1-70eb-4b3d-9bb1-afeda0c6905a",
    "scrolled": true
   },
   "outputs": [],
   "source": [
    "logit_roc_auc = roc_auc_score(y_test, LogReg.predict(X_test))\n",
    "fpr, tpr, thresholds = roc_curve(y_test, LogReg.predict_proba(X_test)[:,1])\n",
    "plt.figure()\n",
    "plt.plot(fpr, tpr, label='Logistic Regression (area = %0.2f)' % logit_roc_auc)\n",
    "plt.plot([0, 1], [0, 1],'r--')\n",
    "plt.xlim([0.0, 1.0])\n",
    "plt.ylim([0.0, 1.05])\n",
    "plt.xlabel('False Positive Rate')\n",
    "plt.ylabel('True Positive Rate')\n",
    "plt.title('Receiver operating characteristic')\n",
    "plt.legend(loc=\"lower right\")\n",
    "plt.savefig('Log_ROC')\n",
    "plt.show()"
   ]
  },
  {
   "cell_type": "code",
   "execution_count": null,
   "id": "12344f4b",
   "metadata": {
    "colab": {
     "base_uri": "https://localhost:8080/"
    },
    "id": "12344f4b",
    "outputId": "7a766335-1816-481a-d72d-53b002dcc010"
   },
   "outputs": [],
   "source": [
    "LogReg.predict_proba(X_test)"
   ]
  },
  {
   "cell_type": "code",
   "execution_count": null,
   "id": "dd9eedb8",
   "metadata": {
    "colab": {
     "base_uri": "https://localhost:8080/",
     "height": 449
    },
    "id": "dd9eedb8",
    "outputId": "0e613374-d703-44ad-e226-4b3826721c4e"
   },
   "outputs": [],
   "source": [
    "precision_recall_curve_plot(y_test, RF.predict_proba(X_test)[:,1])\n"
   ]
  },
  {
   "cell_type": "code",
   "execution_count": null,
   "id": "5f737a42",
   "metadata": {
    "colab": {
     "base_uri": "https://localhost:8080/",
     "height": 449
    },
    "id": "5f737a42",
    "outputId": "036a9002-35f6-4725-e0e0-bb2f7d6cad69",
    "scrolled": true
   },
   "outputs": [],
   "source": [
    "precision_recall_curve_plot(y_test, DecisionTreeClassifier.predict_proba(X_test)[:,1])\n"
   ]
  },
  {
   "cell_type": "code",
   "execution_count": null,
   "id": "3b08ed88",
   "metadata": {
    "id": "3b08ed88"
   },
   "outputs": [],
   "source": []
  },
  {
   "cell_type": "code",
   "execution_count": null,
   "id": "a95bc108",
   "metadata": {
    "colab": {
     "base_uri": "https://localhost:8080/",
     "height": 75
    },
    "id": "a95bc108",
    "outputId": "d304ba6e-db61-4124-e1eb-0ba1b4e32ab0"
   },
   "outputs": [],
   "source": [
    "from sklearn.linear_model import LogisticRegression\n",
    "model = LogisticRegression(class_weight=\"balanced\")\n",
    "model.fit(X_train, y_train)"
   ]
  },
  {
   "cell_type": "code",
   "execution_count": null,
   "id": "54dc363e",
   "metadata": {
    "id": "54dc363e"
   },
   "outputs": [],
   "source": [
    "def custom_predict(X, threshold):\n",
    "    probs = model.predict_proba(X)\n",
    "    return (probs[:, 1] > threshold).astype(int)"
   ]
  },
  {
   "cell_type": "code",
   "execution_count": null,
   "id": "d45670b2",
   "metadata": {
    "id": "d45670b2"
   },
   "outputs": [],
   "source": [
    "new_preds = custom_predict(X=X_test, threshold=0.75)"
   ]
  },
  {
   "cell_type": "code",
   "execution_count": null,
   "id": "8393d98e",
   "metadata": {
    "colab": {
     "base_uri": "https://localhost:8080/"
    },
    "id": "8393d98e",
    "outputId": "554506c9-5498-4712-d2fd-99a26eff6382"
   },
   "outputs": [],
   "source": [
    "model.score(X_test,y_test)"
   ]
  },
  {
   "cell_type": "code",
   "execution_count": null,
   "id": "03cd434f",
   "metadata": {
    "colab": {
     "base_uri": "https://localhost:8080/"
    },
    "id": "03cd434f",
    "outputId": "16f5be88-67eb-4fd0-f36e-863d8347443f"
   },
   "outputs": [],
   "source": [
    "precision_score(y_test,new_preds)"
   ]
  },
  {
   "cell_type": "markdown",
   "id": "5ab292cb",
   "metadata": {
    "id": "5ab292cb"
   },
   "source": [
    "## Inferences and Report :\n",
    "\n",
    "- 396030 data points , 26 features , 1 label.\n",
    "\n",
    "\n",
    "- 80% belongs to the class 0 : which is loan fully paid.\n",
    "- 20% belongs to the class 1 : which were charged off.\n",
    "\n",
    "\n",
    "- Loan Amount distribution / media is slightly higher for Charged_off loanStatus.\n",
    "\n",
    "\n",
    "- Probability of CHarged_off status is higher in case of 60 month term.\n",
    "\n",
    "\n",
    "- Interest Rate mean and media is higher for Charged_off LoanStatus.\n",
    "\n",
    "\n",
    "\n",
    "\n",
    "- Probability of Charged_off LoanStatus is higher for Loan Grades are E ,F, G.\n",
    "- G grade has the highest probability of having defaulter.\n",
    "- Similar pattern is visible in sub_grades probability plot.\n",
    "\n",
    "\n",
    "\n",
    "- Employement Length has overall same probability of Loan_status as fully paid and defaulter.\n",
    "- That means Defaulters has no relation with their Emoployement length.\n",
    "\n",
    "\n",
    "\n",
    "- For those borrowers who have rental home, has higher probability of defaulters.\n",
    "- borrowers having their home mortgage and owns have lower probability of defaulter.\n",
    "\n",
    "\n",
    "\n",
    "- Annual income median is lightly higher for those who's loan status is as fully paid.\n",
    "\n",
    "\n",
    "- Somehow , verified income borrowers probability of defaulter is higher than those who are not verified by loan tap.\n",
    "\n",
    "\n",
    "\n",
    "- Most of the borrowers take loans for dept-consolidation and credit card payoffs.\n",
    "- the probability of defaulters is higher in the small_business owner borrowers.\n",
    "\n",
    "\n",
    "\n",
    "- debt-to-income ratio is higher for defaulters.\n",
    "\n",
    "\n",
    "- number of open credit lines in the borrowers credit file is same as for loan status as fully paid and defaulters.\n",
    "\n",
    "\n",
    "\n",
    "- Number of derogatory public records increases , the probability of borrowers declared as defaulters also increases\n",
    "- aspecially for those who have higher than 12 public_records.\n",
    "\n",
    "\n",
    "\n",
    "\n",
    "\n",
    "- Total credit revolving balance is almost same for both borrowers who had fully paid loan and declared defaulter\n",
    "- but Revolving line utilization rate is higher for defaulter borrowers.\n",
    "\n",
    "\n",
    "\n",
    "\n",
    "\n",
    "- Application type Direct-Pay has higher probability of defaulter borrowers than individual and joint.\n",
    "\n",
    "\n",
    "\n",
    "- Number of public record bankruptcies increasaes ,   higher the probability of defaulters.\n",
    "\n",
    "\n",
    "\n",
    "\n",
    "\n",
    "\n",
    "- Most important features/ data for prediction , as per Logistic Regression, Decision tree classifier and Random Forest  model are : Employee Title, Loan Grade and Sub-Grade, Interest rate and dept-to-income ratio.\n",
    "\n",
    "\n",
    "\n",
    "\n",
    "\n"
   ]
  },
  {
   "cell_type": "markdown",
   "id": "3dcb3fe5",
   "metadata": {
    "id": "3dcb3fe5"
   },
   "source": [
    "### Actionable Insights & Recommendations\n",
    "-  We should try to keep the precision higher as possible compare to recall , and keep the false positive low.\n",
    "- that will help not to missout the opportopportunity to finance more individuals and earn interest on it. This we can achieve by setting up the higher threshold.\n",
    "- Giving loans to those even having slightly higher probability of defaulter, we can maximise the earning , by this risk taking method.\n",
    "\n",
    "- and Since NPA is a real problem in the industry  , Company should more investigate and check for the proof of assets. Since it was observed in probability plot,  verified borrowers had higher probability of defaulters than non-varified.\n",
    "- Giving loans to those who have no mortgage house of any owned property have higher probability of defaulter , giving loan to this category borrowers can be a problem of NPA.\n"
   ]
  }
 ],
 "metadata": {
  "colab": {
   "provenance": []
  },
  "kernelspec": {
   "display_name": "Python 3 (ipykernel)",
   "language": "python",
   "name": "python3"
  },
  "language_info": {
   "codemirror_mode": {
    "name": "ipython",
    "version": 3
   },
   "file_extension": ".py",
   "mimetype": "text/x-python",
   "name": "python",
   "nbconvert_exporter": "python",
   "pygments_lexer": "ipython3",
   "version": "3.11.4"
  }
 },
 "nbformat": 4,
 "nbformat_minor": 5
}
