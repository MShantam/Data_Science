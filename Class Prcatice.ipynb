{
 "cells": [
  {
   "cell_type": "code",
   "execution_count": 1,
   "id": "014aa972",
   "metadata": {},
   "outputs": [],
   "source": [
    "import numpy as np\n",
    "import pandas as pd"
   ]
  },
  {
   "cell_type": "code",
   "execution_count": 2,
   "id": "493898d1",
   "metadata": {},
   "outputs": [],
   "source": [
    "import numpy as np\n",
    "data=np.loadtxt(\"C:/Users/Lenovo/Desktop/Jupyter Notebook/fitness.txt\",dtype=\"str\")\n"
   ]
  },
  {
   "cell_type": "markdown",
   "id": "abd1e388",
   "metadata": {},
   "source": [
    "# Numpy 3"
   ]
  },
  {
   "cell_type": "code",
   "execution_count": 3,
   "id": "ef456af8",
   "metadata": {},
   "outputs": [
    {
     "data": {
      "text/plain": [
       "array([['06-10-2017', '07-10-2017', '08-10-2017', '09-10-2017',\n",
       "        '10-10-2017', '11-10-2017', '12-10-2017', '13-10-2017',\n",
       "        '14-10-2017', '15-10-2017', '16-10-2017', '17-10-2017',\n",
       "        '18-10-2017', '19-10-2017', '20-10-2017', '21-10-2017',\n",
       "        '22-10-2017', '23-10-2017', '24-10-2017', '25-10-2017',\n",
       "        '26-10-2017', '27-10-2017', '28-10-2017', '29-10-2017',\n",
       "        '30-10-2017', '31-10-2017', '01-11-2017', '02-11-2017',\n",
       "        '03-11-2017', '04-11-2017', '05-11-2017', '06-11-2017',\n",
       "        '07-11-2017', '08-11-2017', '09-11-2017', '10-11-2017',\n",
       "        '11-11-2017', '12-11-2017', '13-11-2017', '14-11-2017',\n",
       "        '15-11-2017', '16-11-2017', '17-11-2017', '18-11-2017',\n",
       "        '19-11-2017', '20-11-2017', '21-11-2017', '22-11-2017',\n",
       "        '23-11-2017', '24-11-2017', '25-11-2017', '26-11-2017',\n",
       "        '27-11-2017', '28-11-2017', '29-11-2017', '30-11-2017',\n",
       "        '01-12-2017', '02-12-2017', '03-12-2017', '04-12-2017',\n",
       "        '05-12-2017', '06-12-2017', '07-12-2017', '08-12-2017',\n",
       "        '09-12-2017', '10-12-2017', '11-12-2017', '12-12-2017',\n",
       "        '13-12-2017', '14-12-2017', '15-12-2017', '16-12-2017',\n",
       "        '17-12-2017', '18-12-2017', '19-12-2017', '20-12-2017',\n",
       "        '21-12-2017', '22-12-2017', '23-12-2017', '24-12-2017',\n",
       "        '25-12-2017', '26-12-2017', '27-12-2017', '28-12-2017',\n",
       "        '29-12-2017', '30-12-2017', '31-12-2017', '01-01-2018',\n",
       "        '02-01-2018', '03-01-2018', '04-01-2018', '05-01-2018',\n",
       "        '06-01-2018', '07-01-2018', '08-01-2018', '09-01-2018'],\n",
       "       ['5464', '6041', '25', '5461', '6915', '4545', '4340', '1230',\n",
       "        '61', '1258', '3148', '4687', '4732', '3519', '1580', '2822',\n",
       "        '181', '3158', '4383', '3881', '4037', '202', '292', '330',\n",
       "        '2209', '4550', '4435', '4779', '1831', '2255', '539', '5464',\n",
       "        '6041', '4068', '4683', '4033', '6314', '614', '3149', '4005',\n",
       "        '4880', '4136', '705', '570', '269', '4275', '5999', '4421',\n",
       "        '6930', '5195', '546', '493', '995', '1163', '6676', '3608',\n",
       "        '774', '1421', '4064', '2725', '5934', '1867', '3721', '2374',\n",
       "        '2909', '1648', '799', '7102', '3941', '7422', '437', '1231',\n",
       "        '1696', '4921', '221', '6500', '3575', '4061', '651', '753',\n",
       "        '518', '5537', '4108', '5376', '3066', '177', '36', '299',\n",
       "        '1447', '2599', '702', '133', '153', '500', '2127', '2203'],\n",
       "       ['200', '100', '100', '100', '200', '100', '100', '100', '100',\n",
       "        '100', '100', '100', '300', '100', '100', '100', '100', '200',\n",
       "        '200', '200', '200', '200', '200', '300', '200', '300', '300',\n",
       "        '300', '300', '300', '300', '300', '200', '300', '300', '300',\n",
       "        '300', '300', '300', '300', '300', '300', '300', '200', '300',\n",
       "        '300', '300', '300', '300', '300', '300', '300', '300', '200',\n",
       "        '100', '300', '300', '300', '300', '300', '300', '300', '100',\n",
       "        '200', '200', '100', '100', '200', '200', '300', '200', '200',\n",
       "        '100', '200', '100', '200', '200', '100', '100', '100', '100',\n",
       "        '300', '200', '300', '200', '100', '100', '100', '200', '200',\n",
       "        '100', '100', '300', '200', '200', '300'],\n",
       "       ['181', '197', '0', '174', '223', '149', '140', '38', '1', '40',\n",
       "        '101', '152', '150', '113', '49', '86', '6', '99', '143', '125',\n",
       "        '129', '6', '9', '10', '72', '150', '141', '156', '57', '72',\n",
       "        '17', '181', '197', '131', '154', '137', '193', '19', '101',\n",
       "        '139', '164', '137', '22', '17', '9', '145', '192', '146', '234',\n",
       "        '167', '16', '17', '32', '35', '220', '116', '23', '44', '131',\n",
       "        '86', '194', '60', '121', '76', '93', '53', '25', '227', '125',\n",
       "        '243', '14', '39', '55', '158', '7', '213', '116', '129', '21',\n",
       "        '28', '16', '180', '138', '176', '99', '5', '1', '10', '47',\n",
       "        '84', '23', '4', '0', '0', '0', '0'],\n",
       "       ['5', '8', '5', '4', '5', '6', '6', '7', '5', '6', '8', '5', '6',\n",
       "        '7', '5', '6', '8', '5', '4', '5', '6', '8', '5', '6', '5', '8',\n",
       "        '5', '4', '5', '4', '5', '4', '3', '2', '9', '5', '6', '4', '5',\n",
       "        '8', '4', '5', '6', '5', '6', '5', '6', '5', '6', '5', '6', '7',\n",
       "        '6', '7', '6', '5', '6', '7', '8', '8', '7', '8', '5', '4', '3',\n",
       "        '3', '4', '5', '5', '5', '3', '4', '4', '5', '5', '5', '5', '5',\n",
       "        '5', '4', '3', '4', '5', '5', '4', '5', '3', '3', '3', '2', '3',\n",
       "        '2', '8', '5', '5', '5'],\n",
       "       ['0', '0', '0', '0', '500', '0', '0', '0', '0', '0', '0', '0',\n",
       "        '500', '0', '0', '0', '0', '0', '0', '0', '0', '0', '0', '0',\n",
       "        '0', '500', '0', '0', '0', '0', '500', '0', '0', '0', '0', '0',\n",
       "        '500', '500', '500', '500', '500', '500', '500', '500', '500',\n",
       "        '0', '0', '0', '0', '0', '0', '500', '500', '500', '500', '500',\n",
       "        '500', '500', '500', '500', '500', '500', '500', '0', '500',\n",
       "        '500', '0', '500', '500', '500', '500', '500', '0', '500', '500',\n",
       "        '500', '500', '0', '0', '0', '0', '500', '500', '500', '500',\n",
       "        '0', '0', '0', '0', '0', '0', '0', '0', '500', '0', '500'],\n",
       "       ['66', '66', '66', '66', '66', '66', '66', '66', '66', '65', '65',\n",
       "        '65', '65', '65', '65', '65', '65', '65', '64', '64', '64', '64',\n",
       "        '64', '64', '64', '64', '64', '64', '64', '64', '64', '64', '64',\n",
       "        '64', '64', '64', '64', '64', '64', '64', '64', '64', '64', '64',\n",
       "        '64', '64', '64', '64', '64', '64', '64', '64', '64', '64', '64',\n",
       "        '64', '64', '64', '64', '64', '64', '64', '64', '64', '64', '64',\n",
       "        '64', '64', '64', '64', '64', '64', '64', '64', '64', '64', '64',\n",
       "        '64', '64', '64', '64', '64', '64', '64', '64', '64', '64', '64',\n",
       "        '64', '64', '64', '64', '64', '64', '64', '64']], dtype='<U10')"
      ]
     },
     "execution_count": 3,
     "metadata": {},
     "output_type": "execute_result"
    }
   ],
   "source": [
    "data.T"
   ]
  },
  {
   "cell_type": "code",
   "execution_count": 4,
   "id": "75e0c9b4",
   "metadata": {},
   "outputs": [],
   "source": [
    "date,step_count,mood,calories_burned,hours_of_sleep,bool_of_active,weight_kg=data.T"
   ]
  },
  {
   "cell_type": "code",
   "execution_count": 5,
   "id": "1891262b",
   "metadata": {},
   "outputs": [
    {
     "data": {
      "text/plain": [
       "array(['5464', '6041', '25', '5461', '6915', '4545', '4340', '1230', '61',\n",
       "       '1258', '3148', '4687', '4732', '3519', '1580', '2822', '181',\n",
       "       '3158', '4383', '3881', '4037', '202', '292', '330', '2209',\n",
       "       '4550', '4435', '4779', '1831', '2255', '539', '5464', '6041',\n",
       "       '4068', '4683', '4033', '6314', '614', '3149', '4005', '4880',\n",
       "       '4136', '705', '570', '269', '4275', '5999', '4421', '6930',\n",
       "       '5195', '546', '493', '995', '1163', '6676', '3608', '774', '1421',\n",
       "       '4064', '2725', '5934', '1867', '3721', '2374', '2909', '1648',\n",
       "       '799', '7102', '3941', '7422', '437', '1231', '1696', '4921',\n",
       "       '221', '6500', '3575', '4061', '651', '753', '518', '5537', '4108',\n",
       "       '5376', '3066', '177', '36', '299', '1447', '2599', '702', '133',\n",
       "       '153', '500', '2127', '2203'], dtype='<U10')"
      ]
     },
     "execution_count": 5,
     "metadata": {},
     "output_type": "execute_result"
    }
   ],
   "source": [
    "step_count"
   ]
  },
  {
   "cell_type": "code",
   "execution_count": 6,
   "id": "e71bb90b",
   "metadata": {},
   "outputs": [
    {
     "data": {
      "text/plain": [
       "array([5464, 6041,   25, 5461, 6915, 4545, 4340, 1230,   61, 1258, 3148,\n",
       "       4687, 4732, 3519, 1580, 2822,  181, 3158, 4383, 3881, 4037,  202,\n",
       "        292,  330, 2209, 4550, 4435, 4779, 1831, 2255,  539, 5464, 6041,\n",
       "       4068, 4683, 4033, 6314,  614, 3149, 4005, 4880, 4136,  705,  570,\n",
       "        269, 4275, 5999, 4421, 6930, 5195,  546,  493,  995, 1163, 6676,\n",
       "       3608,  774, 1421, 4064, 2725, 5934, 1867, 3721, 2374, 2909, 1648,\n",
       "        799, 7102, 3941, 7422,  437, 1231, 1696, 4921,  221, 6500, 3575,\n",
       "       4061,  651,  753,  518, 5537, 4108, 5376, 3066,  177,   36,  299,\n",
       "       1447, 2599,  702,  133,  153,  500, 2127, 2203])"
      ]
     },
     "execution_count": 6,
     "metadata": {},
     "output_type": "execute_result"
    }
   ],
   "source": [
    "#To change data type\n",
    "step_count = np.array(step_count,dtype = \"int\")\n",
    "step_count"
   ]
  },
  {
   "cell_type": "code",
   "execution_count": 7,
   "id": "14cd035a",
   "metadata": {},
   "outputs": [
    {
     "data": {
      "text/plain": [
       "2935.9375"
      ]
     },
     "execution_count": 7,
     "metadata": {},
     "output_type": "execute_result"
    }
   ],
   "source": [
    "np.average(step_count)"
   ]
  },
  {
   "cell_type": "code",
   "execution_count": 8,
   "id": "4fcfc14d",
   "metadata": {},
   "outputs": [
    {
     "data": {
      "text/plain": [
       "array([66, 66, 66, 66, 66, 66, 66, 66, 66, 65, 65, 65, 65, 65, 65, 65, 65,\n",
       "       65, 64, 64, 64, 64, 64, 64, 64, 64, 64, 64, 64, 64, 64, 64, 64, 64,\n",
       "       64, 64, 64, 64, 64, 64, 64, 64, 64, 64, 64, 64, 64, 64, 64, 64, 64,\n",
       "       64, 64, 64, 64, 64, 64, 64, 64, 64, 64, 64, 64, 64, 64, 64, 64, 64,\n",
       "       64, 64, 64, 64, 64, 64, 64, 64, 64, 64, 64, 64, 64, 64, 64, 64, 64,\n",
       "       64, 64, 64, 64, 64, 64, 64, 64, 64, 64, 64])"
      ]
     },
     "execution_count": 8,
     "metadata": {},
     "output_type": "execute_result"
    }
   ],
   "source": [
    "mood = np.array(mood,dtype = \"int\")\n",
    "mood\n",
    "calories_burned = np.array(calories_burned,dtype = \"int\")\n",
    "calories_burned\n",
    "hours_of_sleep = np.array(hours_of_sleep,dtype = \"int\")\n",
    "hours_of_sleep\n",
    "weight_kg = np.array(weight_kg,dtype = \"int\")\n",
    "weight_kg"
   ]
  },
  {
   "cell_type": "code",
   "execution_count": 9,
   "id": "ca189af9",
   "metadata": {},
   "outputs": [
    {
     "data": {
      "text/plain": [
       "array([5, 8, 5, 4, 5, 6, 6, 7, 5, 6, 8, 5, 6, 7, 5, 6, 8, 5, 4, 5, 6, 8,\n",
       "       5, 6, 5, 8, 5, 4, 5, 4, 5, 4, 3, 2, 9, 5, 6, 4, 5, 8, 4, 5, 6, 5,\n",
       "       6, 5, 6, 5, 6, 5, 6, 7, 6, 7, 6, 5, 6, 7, 8, 8, 7, 8, 5, 4, 3, 3,\n",
       "       4, 5, 5, 5, 3, 4, 4, 5, 5, 5, 5, 5, 5, 4, 3, 4, 5, 5, 4, 5, 3, 3,\n",
       "       3, 2, 3, 2, 8, 5, 5, 5])"
      ]
     },
     "execution_count": 9,
     "metadata": {},
     "output_type": "execute_result"
    }
   ],
   "source": [
    "hours_of_sleep"
   ]
  },
  {
   "cell_type": "code",
   "execution_count": 10,
   "id": "c3a21a46",
   "metadata": {},
   "outputs": [
    {
     "data": {
      "text/plain": [
       "array(['Neutral', 'Sad', 'Sad', 'Sad', 'Neutral', 'Sad', 'Sad', 'Sad',\n",
       "       'Sad', 'Sad', 'Sad', 'Sad', 'Happy', 'Sad', 'Sad', 'Sad', 'Sad',\n",
       "       'Neutral', 'Neutral', 'Neutral', 'Neutral', 'Neutral', 'Neutral',\n",
       "       'Happy', 'Neutral', 'Happy', 'Happy', 'Happy', 'Happy', 'Happy',\n",
       "       'Happy', 'Happy', 'Neutral', 'Happy', 'Happy', 'Happy', 'Happy',\n",
       "       'Happy', 'Happy', 'Happy', 'Happy', 'Happy', 'Happy', 'Neutral',\n",
       "       'Happy', 'Happy', 'Happy', 'Happy', 'Happy', 'Happy', 'Happy',\n",
       "       'Happy', 'Happy', 'Neutral', 'Sad', 'Happy', 'Happy', 'Happy',\n",
       "       'Happy', 'Happy', 'Happy', 'Happy', 'Sad', 'Neutral', 'Neutral',\n",
       "       'Sad', 'Sad', 'Neutral', 'Neutral', 'Happy', 'Neutral', 'Neutral',\n",
       "       'Sad', 'Neutral', 'Sad', 'Neutral', 'Neutral', 'Sad', 'Sad', 'Sad',\n",
       "       'Sad', 'Happy', 'Neutral', 'Happy', 'Neutral', 'Sad', 'Sad', 'Sad',\n",
       "       'Neutral', 'Neutral', 'Sad', 'Sad', 'Happy', 'Neutral', 'Neutral',\n",
       "       'Happy'], dtype='<U10')"
      ]
     },
     "execution_count": 10,
     "metadata": {},
     "output_type": "execute_result"
    }
   ],
   "source": [
    "mood = data.T[2,:]\n",
    "\n",
    "mood[mood == \"100\"] = \"Sad\"\n",
    "mood[mood == \"200\"] = \"Neutral\"\n",
    "mood[mood == \"300\"] = \"Happy\"\n",
    "mood"
   ]
  },
  {
   "cell_type": "code",
   "execution_count": 11,
   "id": "a83f70e8",
   "metadata": {},
   "outputs": [
    {
     "data": {
      "text/plain": [
       "array(['Inactive', 'Inactive', 'Inactive', 'Inactive', 'Active',\n",
       "       'Inactive', 'Inactive', 'Inactive', 'Inactive', 'Inactive',\n",
       "       'Inactive', 'Inactive', 'Active', 'Inactive', 'Inactive',\n",
       "       'Inactive', 'Inactive', 'Inactive', 'Inactive', 'Inactive',\n",
       "       'Inactive', 'Inactive', 'Inactive', 'Inactive', 'Inactive',\n",
       "       'Active', 'Inactive', 'Inactive', 'Inactive', 'Inactive', 'Active',\n",
       "       'Inactive', 'Inactive', 'Inactive', 'Inactive', 'Inactive',\n",
       "       'Active', 'Active', 'Active', 'Active', 'Active', 'Active',\n",
       "       'Active', 'Active', 'Active', 'Inactive', 'Inactive', 'Inactive',\n",
       "       'Inactive', 'Inactive', 'Inactive', 'Active', 'Active', 'Active',\n",
       "       'Active', 'Active', 'Active', 'Active', 'Active', 'Active',\n",
       "       'Active', 'Active', 'Active', 'Inactive', 'Active', 'Active',\n",
       "       'Inactive', 'Active', 'Active', 'Active', 'Active', 'Active',\n",
       "       'Inactive', 'Active', 'Active', 'Active', 'Active', 'Inactive',\n",
       "       'Inactive', 'Inactive', 'Inactive', 'Active', 'Active', 'Active',\n",
       "       'Active', 'Inactive', 'Inactive', 'Inactive', 'Inactive',\n",
       "       'Inactive', 'Inactive', 'Inactive', 'Inactive', 'Active',\n",
       "       'Inactive', 'Active'], dtype='<U10')"
      ]
     },
     "execution_count": 11,
     "metadata": {},
     "output_type": "execute_result"
    }
   ],
   "source": [
    "bool_of_active[bool_of_active == \"0\"] = \"Inactive\"\n",
    "bool_of_active[bool_of_active == \"500\"] = \"Active\"\n",
    "bool_of_active"
   ]
  },
  {
   "cell_type": "code",
   "execution_count": 12,
   "id": "3228aecf",
   "metadata": {},
   "outputs": [
    {
     "data": {
      "text/plain": [
       "(array(['Happy', 'Neutral', 'Sad'], dtype='<U10'),\n",
       " array([40, 27, 29], dtype=int64))"
      ]
     },
     "execution_count": 12,
     "metadata": {},
     "output_type": "execute_result"
    }
   ],
   "source": [
    "np.unique(bool_of_active, return_counts = True )\n",
    "np.unique(mood, return_counts = True)"
   ]
  },
  {
   "cell_type": "code",
   "execution_count": 13,
   "id": "35fff2dd",
   "metadata": {},
   "outputs": [
    {
     "data": {
      "text/plain": [
       "'14-12-2017'"
      ]
     },
     "execution_count": 13,
     "metadata": {},
     "output_type": "execute_result"
    }
   ],
   "source": [
    "date[np.argmax(step_count)]"
   ]
  },
  {
   "cell_type": "code",
   "execution_count": 14,
   "id": "9ac94f8b",
   "metadata": {},
   "outputs": [
    {
     "data": {
      "text/plain": [
       "243"
      ]
     },
     "execution_count": 14,
     "metadata": {},
     "output_type": "execute_result"
    }
   ],
   "source": [
    "calories_burned[np.argmax(step_count)]"
   ]
  },
  {
   "cell_type": "code",
   "execution_count": 15,
   "id": "a0c10931",
   "metadata": {},
   "outputs": [
    {
     "data": {
      "text/plain": [
       "(array(['Happy', 'Neutral', 'Sad'], dtype='<U10'),\n",
       " array([22,  9,  7], dtype=int64))"
      ]
     },
     "execution_count": 15,
     "metadata": {},
     "output_type": "execute_result"
    }
   ],
   "source": [
    "np.unique(mood[step_count>4000], return_counts = True)"
   ]
  },
  {
   "cell_type": "code",
   "execution_count": 16,
   "id": "f91b54d1",
   "metadata": {},
   "outputs": [
    {
     "data": {
      "text/plain": [
       "(array(['Happy', 'Neutral', 'Sad'], dtype='<U10'),\n",
       " array([20, 24, 19], dtype=int64))"
      ]
     },
     "execution_count": 16,
     "metadata": {},
     "output_type": "execute_result"
    }
   ],
   "source": [
    "np.unique(mood[hours_of_sleep<np.mean(hours_of_sleep)], return_counts = True)"
   ]
  },
  {
   "cell_type": "code",
   "execution_count": 17,
   "id": "17e74b43",
   "metadata": {},
   "outputs": [
    {
     "data": {
      "text/plain": [
       "(array(['Active', 'Inactive'], dtype='<U10'), array([3, 9], dtype=int64))"
      ]
     },
     "execution_count": 17,
     "metadata": {},
     "output_type": "execute_result"
    }
   ],
   "source": [
    "np.unique(bool_of_active[hours_of_sleep<4], return_counts = True)"
   ]
  },
  {
   "cell_type": "code",
   "execution_count": 18,
   "id": "1a7ce5c6",
   "metadata": {},
   "outputs": [
    {
     "data": {
      "text/plain": [
       "array([ -3,   4,  27,  34,  -2,   0, -45, -11,   4,   0])"
      ]
     },
     "execution_count": 18,
     "metadata": {},
     "output_type": "execute_result"
    }
   ],
   "source": [
    "arr = np.array([-3,4,27,34,-2, 0, -45,-11,4, 0 ])\n",
    "arr"
   ]
  },
  {
   "cell_type": "code",
   "execution_count": 19,
   "id": "e7841845",
   "metadata": {},
   "outputs": [
    {
     "data": {
      "text/plain": [
       "array([-1,  1,  1,  1, -1,  1, -1, -1,  1,  1])"
      ]
     },
     "execution_count": 19,
     "metadata": {},
     "output_type": "execute_result"
    }
   ],
   "source": [
    "np.where(arr>= 0, 1, -1)"
   ]
  },
  {
   "cell_type": "code",
   "execution_count": 20,
   "id": "d7a3c479",
   "metadata": {},
   "outputs": [
    {
     "name": "stdout",
     "output_type": "stream",
     "text": [
      "[[ 0  1  2]\n",
      " [ 3  4  5]\n",
      " [ 6  7  8]\n",
      " [ 9 10 11]]\n",
      "[[ 0  1]\n",
      " [ 2  3]\n",
      " [ 4  5]\n",
      " [ 6  7]\n",
      " [ 8  9]\n",
      " [10 11]]\n"
     ]
    }
   ],
   "source": [
    "a = np.arange(0,12).reshape(4,3)\n",
    "b = np.arange(0,12).reshape(6,2)\n",
    "print(a)\n",
    "print(b)"
   ]
  },
  {
   "cell_type": "code",
   "execution_count": 21,
   "id": "3064ef0e",
   "metadata": {
    "scrolled": true
   },
   "outputs": [
    {
     "ename": "ValueError",
     "evalue": "shapes (4,3) and (6,2) not aligned: 3 (dim 1) != 6 (dim 0)",
     "output_type": "error",
     "traceback": [
      "\u001b[1;31m---------------------------------------------------------------------------\u001b[0m",
      "\u001b[1;31mValueError\u001b[0m                                Traceback (most recent call last)",
      "Input \u001b[1;32mIn [21]\u001b[0m, in \u001b[0;36m<cell line: 1>\u001b[1;34m()\u001b[0m\n\u001b[1;32m----> 1\u001b[0m \u001b[43mnp\u001b[49m\u001b[38;5;241;43m.\u001b[39;49m\u001b[43mdot\u001b[49m\u001b[43m(\u001b[49m\u001b[43ma\u001b[49m\u001b[43m,\u001b[49m\u001b[43mb\u001b[49m\u001b[43m)\u001b[49m\n",
      "File \u001b[1;32m<__array_function__ internals>:180\u001b[0m, in \u001b[0;36mdot\u001b[1;34m(*args, **kwargs)\u001b[0m\n",
      "\u001b[1;31mValueError\u001b[0m: shapes (4,3) and (6,2) not aligned: 3 (dim 1) != 6 (dim 0)"
     ]
    }
   ],
   "source": [
    "np.dot(a,b)"
   ]
  },
  {
   "cell_type": "markdown",
   "id": "e5ee324f",
   "metadata": {},
   "source": [
    "# Numpy 4"
   ]
  },
  {
   "cell_type": "code",
   "execution_count": null,
   "id": "e8ac427b",
   "metadata": {},
   "outputs": [],
   "source": [
    "import math as m\n",
    "import numpy as np\n",
    "function = np.vectorize()\n",
    "function([2,3,4])"
   ]
  },
  {
   "cell_type": "code",
   "execution_count": null,
   "id": "24a27084",
   "metadata": {},
   "outputs": [],
   "source": [
    "arr = [1,2,3]\n",
    "def cube(arr):\n",
    "    return arr**3\n",
    "function= np.vectorize(cube)\n",
    "function(arr)\n",
    "cube(arr)"
   ]
  },
  {
   "cell_type": "code",
   "execution_count": null,
   "id": "f3addcdb",
   "metadata": {},
   "outputs": [],
   "source": [
    "a = np.arange(0,12).reshape(4,3)\n",
    "a\n",
    "b = a.T\n",
    "a.flatten()"
   ]
  },
  {
   "cell_type": "code",
   "execution_count": null,
   "id": "47e573e6",
   "metadata": {},
   "outputs": [],
   "source": [
    "np.shares_memory(a,b)"
   ]
  },
  {
   "cell_type": "markdown",
   "id": "4029ea59",
   "metadata": {},
   "source": [
    "# Pandas -1"
   ]
  },
  {
   "cell_type": "code",
   "execution_count": null,
   "id": "aeee0c6b",
   "metadata": {},
   "outputs": [],
   "source": [
    "import pandas as pd"
   ]
  },
  {
   "cell_type": "code",
   "execution_count": null,
   "id": "efa670e9",
   "metadata": {},
   "outputs": [],
   "source": [
    "!pip install pandas"
   ]
  },
  {
   "cell_type": "code",
   "execution_count": null,
   "id": "4e8f41ed",
   "metadata": {},
   "outputs": [],
   "source": [
    "df = pd.read_csv(\"C:/Users/Lenovo/Desktop/Jupyter Notebook/gapminder.csv\")\n",
    "df"
   ]
  },
  {
   "cell_type": "code",
   "execution_count": null,
   "id": "10042a96",
   "metadata": {},
   "outputs": [],
   "source": [
    "df[[\"country\",\"year\"]]"
   ]
  },
  {
   "cell_type": "code",
   "execution_count": null,
   "id": "cbd6270d",
   "metadata": {},
   "outputs": [],
   "source": [
    "df.iloc[:20]"
   ]
  },
  {
   "cell_type": "code",
   "execution_count": null,
   "id": "14906481",
   "metadata": {},
   "outputs": [],
   "source": [
    "df1 = pd.DataFrame([[\"17\",\"Mayank\",\"95\"],[\"18\",\"Nishant\",\"96\"]],columns =[\"Roll no.\",\"Name\",\"Marks\"])\n",
    "df1"
   ]
  },
  {
   "cell_type": "code",
   "execution_count": null,
   "id": "ccda7bbe",
   "metadata": {},
   "outputs": [],
   "source": [
    "pd.DataFrame?"
   ]
  },
  {
   "cell_type": "code",
   "execution_count": null,
   "id": "888c018f",
   "metadata": {
    "scrolled": true
   },
   "outputs": [],
   "source": [
    "string = \"How much wood would a woodchuck chuck if a woodchuck could chuck \"\n",
    "freq = np.value_count(string)\n",
    "freq"
   ]
  },
  {
   "cell_type": "raw",
   "id": "6a5bc282",
   "metadata": {},
   "source": [
    "Pandas - 4\n",
    "😁1. Create groups based on col. ['director_name'].\n",
    "😁2. Extract [title, year]. \n",
    "😁3. define aggregate functions (which function to use on which column)."
   ]
  },
  {
   "cell_type": "code",
   "execution_count": null,
   "id": "fd380294",
   "metadata": {},
   "outputs": [],
   "source": [
    "df1 = pd.DataFrame([[\"17\",\"Mayank\",\"95\"],[\"18\",\"Nishant\",\"96\"]],columns =[\"Roll no.\",\"Name\",\"Marks\"])\n",
    "df1"
   ]
  },
  {
   "cell_type": "code",
   "execution_count": null,
   "id": "1a338f9d",
   "metadata": {},
   "outputs": [],
   "source": [
    "df2 = pd.DataFrame({\"Roll no.\":[\"17\",\"18\"],\"Name\":[\"Mayank\",\"Nishant\"],\"Marks\":[\"95\",\"96\"]})\n",
    "df2"
   ]
  },
  {
   "cell_type": "code",
   "execution_count": null,
   "id": "d59b42bd",
   "metadata": {},
   "outputs": [],
   "source": [
    "df.columns\n",
    "df.keys()"
   ]
  },
  {
   "cell_type": "code",
   "execution_count": null,
   "id": "342b772c",
   "metadata": {},
   "outputs": [],
   "source": [
    "df.values"
   ]
  },
  {
   "cell_type": "code",
   "execution_count": null,
   "id": "46f00051",
   "metadata": {},
   "outputs": [],
   "source": [
    "df[\"country\"].nunique()"
   ]
  },
  {
   "cell_type": "code",
   "execution_count": null,
   "id": "6e718437",
   "metadata": {},
   "outputs": [],
   "source": [
    "df.info?"
   ]
  },
  {
   "cell_type": "code",
   "execution_count": null,
   "id": "8f1de3c7",
   "metadata": {},
   "outputs": [],
   "source": [
    "df.describe()\n",
    "df"
   ]
  },
  {
   "cell_type": "code",
   "execution_count": null,
   "id": "eb1f056b",
   "metadata": {},
   "outputs": [],
   "source": [
    "df[\"continent\"].value_counts()\n"
   ]
  },
  {
   "cell_type": "code",
   "execution_count": null,
   "id": "17e87f79",
   "metadata": {},
   "outputs": [],
   "source": [
    "df.value_counts?"
   ]
  },
  {
   "cell_type": "code",
   "execution_count": null,
   "id": "fd6e6376",
   "metadata": {},
   "outputs": [],
   "source": [
    "df.rename(columns = {\"country\":\"Country\",\"population\":\"Population\"})"
   ]
  },
  {
   "cell_type": "code",
   "execution_count": null,
   "id": "0180bf34",
   "metadata": {},
   "outputs": [],
   "source": [
    "df[\"le/gdp\"] = df[\"life_exp\"] / df[\"gdp_cap\"]\n",
    "df"
   ]
  },
  {
   "cell_type": "code",
   "execution_count": null,
   "id": "b564a870",
   "metadata": {},
   "outputs": [],
   "source": [
    "df.index = [i for i in range(1,1705)]\n",
    "df"
   ]
  },
  {
   "cell_type": "code",
   "execution_count": null,
   "id": "080860c4",
   "metadata": {},
   "outputs": [],
   "source": [
    "df"
   ]
  },
  {
   "cell_type": "code",
   "execution_count": null,
   "id": "819e3798",
   "metadata": {},
   "outputs": [],
   "source": [
    "s = \"How much wood would a woodchuck chuck if a woodchuck could chuck\" \n",
    "df5 = pd.Series(s.split(\" \"))\n",
    "freq = df5.value_counts()\n",
    "freq\n",
    "freq.sort_index()\n",
    "df5.index"
   ]
  },
  {
   "cell_type": "code",
   "execution_count": null,
   "id": "90e1ccca",
   "metadata": {},
   "outputs": [],
   "source": [
    "pd.Series?"
   ]
  },
  {
   "cell_type": "code",
   "execution_count": null,
   "id": "88098a19",
   "metadata": {},
   "outputs": [],
   "source": [
    "df.set_index(\"population\")\n",
    "df.loc[\"continent\",:]"
   ]
  },
  {
   "cell_type": "code",
   "execution_count": null,
   "id": "4d36599e",
   "metadata": {},
   "outputs": [],
   "source": [
    "df.insert?"
   ]
  },
  {
   "cell_type": "markdown",
   "id": "6ccc4a03",
   "metadata": {},
   "source": [
    "# Pandas -3"
   ]
  },
  {
   "cell_type": "code",
   "execution_count": null,
   "id": "6bf3cc5d",
   "metadata": {},
   "outputs": [],
   "source": [
    "import pandas as pd\n",
    "df =pd.read_csv(\"C:/Users/Lenovo/Desktop/Jupyter Notebook/gapminder.csv\")"
   ]
  },
  {
   "cell_type": "code",
   "execution_count": null,
   "id": "d6bd6a52",
   "metadata": {},
   "outputs": [],
   "source": [
    "df"
   ]
  },
  {
   "cell_type": "code",
   "execution_count": null,
   "id": "d09b6a66",
   "metadata": {},
   "outputs": [],
   "source": [
    "df[\"Sum\"] = df[\"population\"]+df[\"year\"]+df[\"life_exp\"]"
   ]
  },
  {
   "cell_type": "code",
   "execution_count": null,
   "id": "85ecc972",
   "metadata": {},
   "outputs": [],
   "source": [
    "df"
   ]
  },
  {
   "cell_type": "code",
   "execution_count": null,
   "id": "fbaeb750",
   "metadata": {},
   "outputs": [],
   "source": [
    "df.head().sum()"
   ]
  },
  {
   "cell_type": "code",
   "execution_count": null,
   "id": "b83de04c",
   "metadata": {},
   "outputs": [],
   "source": [
    "dire = pd.read_csv(\"C:/Users/Lenovo/Desktop/Jupyter Notebook/directors.csv\",index_col= 0)\n",
    "movi = pd.read_csv(\"C:/Users/Lenovo/Desktop/Jupyter Notebook/movies.csv\")"
   ]
  },
  {
   "cell_type": "code",
   "execution_count": null,
   "id": "595ad267",
   "metadata": {},
   "outputs": [],
   "source": [
    "print(dire)\n",
    "movi"
   ]
  },
  {
   "cell_type": "code",
   "execution_count": null,
   "id": "a5e4f22f",
   "metadata": {},
   "outputs": [],
   "source": [
    "data = movi.merge(dire, left_on = \"director_id\",right_on = \"id\", how = 'inner')\n",
    "data"
   ]
  },
  {
   "cell_type": "markdown",
   "id": "d923e25c",
   "metadata": {},
   "source": [
    "# Panddas - 6"
   ]
  },
  {
   "cell_type": "code",
   "execution_count": null,
   "id": "4f571c04",
   "metadata": {},
   "outputs": [],
   "source": [
    "df = pd.read_csv(\"C:/Users/Lenovo/Desktop/Jupyter Notebook/Pfizer_1.csv\")\n",
    "df"
   ]
  },
  {
   "cell_type": "code",
   "execution_count": null,
   "id": "177d33b5",
   "metadata": {},
   "outputs": [],
   "source": []
  },
  {
   "cell_type": "code",
   "execution_count": null,
   "id": "805ff8a4",
   "metadata": {},
   "outputs": [],
   "source": [
    "df[[3]].isna()"
   ]
  },
  {
   "cell_type": "markdown",
   "id": "c69f98d2",
   "metadata": {},
   "source": [
    "# Data -2 ,seaborn"
   ]
  },
  {
   "cell_type": "code",
   "execution_count": null,
   "id": "fa030893",
   "metadata": {},
   "outputs": [],
   "source": [
    "import numpy as np\n",
    "import pandas as pd\n",
    "import matplotlib.pyplot as plt"
   ]
  },
  {
   "cell_type": "code",
   "execution_count": null,
   "id": "e7bfa962",
   "metadata": {},
   "outputs": [],
   "source": [
    "vals=[1,2,3,1,2,3,3,2,4,3,2,1,2,2,4,7]\n",
    "plt.hist(vals,bins=[2,3,5,7])\n",
    "plt.show()"
   ]
  },
  {
   "cell_type": "code",
   "execution_count": null,
   "id": "0ada4545",
   "metadata": {},
   "outputs": [],
   "source": [
    "vals=[1,2,3,1,2,3,3,2,4,3,2,1,2,2,4,7]\n",
    "n,bins,_ = plt.hist(vals,bins=4)\n",
    "plt.show()"
   ]
  },
  {
   "cell_type": "code",
   "execution_count": null,
   "id": "f0b3e61f",
   "metadata": {},
   "outputs": [],
   "source": [
    "print(n)\n",
    "print(bins)"
   ]
  },
  {
   "cell_type": "code",
   "execution_count": null,
   "id": "15473d18",
   "metadata": {},
   "outputs": [],
   "source": [
    "a=np.array([1,2,3,4,1,2,23,1,4,2,3,1,2,3,4])\n",
    "np.unique(a,return_counts=True)[1]"
   ]
  },
  {
   "cell_type": "code",
   "execution_count": null,
   "id": "795bd10c",
   "metadata": {},
   "outputs": [],
   "source": [
    "!pip install seaborn"
   ]
  },
  {
   "cell_type": "code",
   "execution_count": null,
   "id": "869e9a80",
   "metadata": {},
   "outputs": [],
   "source": [
    "import numpy as np\n",
    "import pandas as pd\n",
    "import matplotlib.pyplot as plt\n",
    "import seaborn as sns"
   ]
  },
  {
   "cell_type": "code",
   "execution_count": null,
   "id": "7eb3508e",
   "metadata": {},
   "outputs": [],
   "source": [
    "iris=sns.load_dataset(\"iris\")\n",
    "tips=sns.load_dataset(\"tips\")"
   ]
  },
  {
   "cell_type": "code",
   "execution_count": null,
   "id": "111930e4",
   "metadata": {},
   "outputs": [],
   "source": [
    "s1 = sns.pairplot(data=iris)"
   ]
  },
  {
   "cell_type": "code",
   "execution_count": null,
   "id": "015ce055",
   "metadata": {},
   "outputs": [],
   "source": [
    "s1[0]"
   ]
  },
  {
   "cell_type": "code",
   "execution_count": null,
   "id": "ec758c67",
   "metadata": {},
   "outputs": [],
   "source": [
    "constraint=df['cast'].apply(lambda x: str(x).split(', ')).tolist() df_new=pd.DataFrame(constraint,index=df['title']) df_new=df_new.stack() df_new=pd.DataFrame(df_new) df_new.reset_index(inplace=True) df_new=df_new[['title',0]] df_new.columns=['title','cast'] df_new[df_new['cast']=='Rupa Bhimani']\n",
    "Chat\n",
    "Bookmarks & Notes\n",
    "Lecture "
   ]
  },
  {
   "cell_type": "code",
   "execution_count": null,
   "id": "f12ebdf2",
   "metadata": {},
   "outputs": [],
   "source": [
    "#Types of Ratings\n",
    "df.head()\n",
    "df_Rating = df[\"Rating\"].fillna(df['Rating'].mode(), inplace=True)\n",
    "df_Rating"
   ]
  },
  {
   "cell_type": "code",
   "execution_count": null,
   "id": "cdc37965",
   "metadata": {},
   "outputs": [],
   "source": [
    "from scipy.stats import poisson"
   ]
  },
  {
   "cell_type": "code",
   "execution_count": null,
   "id": "fefc83e2",
   "metadata": {},
   "outputs": [],
   "source": [
    "poisson.pmf(k = 5, mu = 3)"
   ]
  },
  {
   "cell_type": "code",
   "execution_count": null,
   "id": "3e597053",
   "metadata": {},
   "outputs": [],
   "source": [
    "1-poisson.cdf(k = 6/2 , mu =74/8 )"
   ]
  },
  {
   "cell_type": "code",
   "execution_count": null,
   "id": "88a34247",
   "metadata": {},
   "outputs": [],
   "source": [
    "poisson.pmf(k =1 , mu = 2)"
   ]
  },
  {
   "cell_type": "code",
   "execution_count": null,
   "id": "0c097341",
   "metadata": {},
   "outputs": [],
   "source": [
    "poisson.pmf(k =0 , mu = 1)"
   ]
  },
  {
   "cell_type": "code",
   "execution_count": null,
   "id": "a32bf975",
   "metadata": {},
   "outputs": [],
   "source": [
    "x = np.arange(0,1,0.1)\n",
    "y = x**2\n",
    "plt.plot(x,y, color = 'r')\n",
    "plt.show()\n",
    "plt.xticks(np.arange(0,1,0.1))\n",
    "plt.yticks(np.arange(0,1,0.1))"
   ]
  },
  {
   "cell_type": "code",
   "execution_count": 23,
   "id": "616dee98",
   "metadata": {},
   "outputs": [
    {
     "data": {
      "text/html": [
       "<div>\n",
       "<style scoped>\n",
       "    .dataframe tbody tr th:only-of-type {\n",
       "        vertical-align: middle;\n",
       "    }\n",
       "\n",
       "    .dataframe tbody tr th {\n",
       "        vertical-align: top;\n",
       "    }\n",
       "\n",
       "    .dataframe thead th {\n",
       "        text-align: right;\n",
       "    }\n",
       "</style>\n",
       "<table border=\"1\" class=\"dataframe\">\n",
       "  <thead>\n",
       "    <tr style=\"text-align: right;\">\n",
       "      <th></th>\n",
       "      <th>Unnamed: 0</th>\n",
       "      <th>id</th>\n",
       "      <th>budget</th>\n",
       "      <th>popularity</th>\n",
       "      <th>revenue</th>\n",
       "      <th>title</th>\n",
       "      <th>vote_average</th>\n",
       "      <th>vote_count</th>\n",
       "      <th>director_id</th>\n",
       "      <th>year</th>\n",
       "      <th>month</th>\n",
       "      <th>day</th>\n",
       "    </tr>\n",
       "  </thead>\n",
       "  <tbody>\n",
       "    <tr>\n",
       "      <th>0</th>\n",
       "      <td>0</td>\n",
       "      <td>43597</td>\n",
       "      <td>237000000</td>\n",
       "      <td>150</td>\n",
       "      <td>2787965087</td>\n",
       "      <td>Avatar</td>\n",
       "      <td>7.2</td>\n",
       "      <td>11800</td>\n",
       "      <td>4762</td>\n",
       "      <td>2009</td>\n",
       "      <td>Dec</td>\n",
       "      <td>Thursday</td>\n",
       "    </tr>\n",
       "    <tr>\n",
       "      <th>1</th>\n",
       "      <td>1</td>\n",
       "      <td>43598</td>\n",
       "      <td>300000000</td>\n",
       "      <td>139</td>\n",
       "      <td>961000000</td>\n",
       "      <td>Pirates of the Caribbean: At World's End</td>\n",
       "      <td>6.9</td>\n",
       "      <td>4500</td>\n",
       "      <td>4763</td>\n",
       "      <td>2007</td>\n",
       "      <td>May</td>\n",
       "      <td>Saturday</td>\n",
       "    </tr>\n",
       "    <tr>\n",
       "      <th>2</th>\n",
       "      <td>2</td>\n",
       "      <td>43599</td>\n",
       "      <td>245000000</td>\n",
       "      <td>107</td>\n",
       "      <td>880674609</td>\n",
       "      <td>Spectre</td>\n",
       "      <td>6.3</td>\n",
       "      <td>4466</td>\n",
       "      <td>4764</td>\n",
       "      <td>2015</td>\n",
       "      <td>Oct</td>\n",
       "      <td>Monday</td>\n",
       "    </tr>\n",
       "    <tr>\n",
       "      <th>3</th>\n",
       "      <td>3</td>\n",
       "      <td>43600</td>\n",
       "      <td>250000000</td>\n",
       "      <td>112</td>\n",
       "      <td>1084939099</td>\n",
       "      <td>The Dark Knight Rises</td>\n",
       "      <td>7.6</td>\n",
       "      <td>9106</td>\n",
       "      <td>4765</td>\n",
       "      <td>2012</td>\n",
       "      <td>Jul</td>\n",
       "      <td>Monday</td>\n",
       "    </tr>\n",
       "    <tr>\n",
       "      <th>4</th>\n",
       "      <td>5</td>\n",
       "      <td>43602</td>\n",
       "      <td>258000000</td>\n",
       "      <td>115</td>\n",
       "      <td>890871626</td>\n",
       "      <td>Spider-Man 3</td>\n",
       "      <td>5.9</td>\n",
       "      <td>3576</td>\n",
       "      <td>4767</td>\n",
       "      <td>2007</td>\n",
       "      <td>May</td>\n",
       "      <td>Tuesday</td>\n",
       "    </tr>\n",
       "    <tr>\n",
       "      <th>...</th>\n",
       "      <td>...</td>\n",
       "      <td>...</td>\n",
       "      <td>...</td>\n",
       "      <td>...</td>\n",
       "      <td>...</td>\n",
       "      <td>...</td>\n",
       "      <td>...</td>\n",
       "      <td>...</td>\n",
       "      <td>...</td>\n",
       "      <td>...</td>\n",
       "      <td>...</td>\n",
       "      <td>...</td>\n",
       "    </tr>\n",
       "    <tr>\n",
       "      <th>1460</th>\n",
       "      <td>4736</td>\n",
       "      <td>48363</td>\n",
       "      <td>0</td>\n",
       "      <td>3</td>\n",
       "      <td>321952</td>\n",
       "      <td>The Last Waltz</td>\n",
       "      <td>7.9</td>\n",
       "      <td>64</td>\n",
       "      <td>4809</td>\n",
       "      <td>1978</td>\n",
       "      <td>May</td>\n",
       "      <td>Monday</td>\n",
       "    </tr>\n",
       "    <tr>\n",
       "      <th>1461</th>\n",
       "      <td>4743</td>\n",
       "      <td>48370</td>\n",
       "      <td>27000</td>\n",
       "      <td>19</td>\n",
       "      <td>3151130</td>\n",
       "      <td>Clerks</td>\n",
       "      <td>7.4</td>\n",
       "      <td>755</td>\n",
       "      <td>5369</td>\n",
       "      <td>1994</td>\n",
       "      <td>Sep</td>\n",
       "      <td>Tuesday</td>\n",
       "    </tr>\n",
       "    <tr>\n",
       "      <th>1462</th>\n",
       "      <td>4748</td>\n",
       "      <td>48375</td>\n",
       "      <td>0</td>\n",
       "      <td>7</td>\n",
       "      <td>0</td>\n",
       "      <td>Rampage</td>\n",
       "      <td>6.0</td>\n",
       "      <td>131</td>\n",
       "      <td>5148</td>\n",
       "      <td>2009</td>\n",
       "      <td>Aug</td>\n",
       "      <td>Friday</td>\n",
       "    </tr>\n",
       "    <tr>\n",
       "      <th>1463</th>\n",
       "      <td>4749</td>\n",
       "      <td>48376</td>\n",
       "      <td>0</td>\n",
       "      <td>3</td>\n",
       "      <td>0</td>\n",
       "      <td>Slacker</td>\n",
       "      <td>6.4</td>\n",
       "      <td>77</td>\n",
       "      <td>5535</td>\n",
       "      <td>1990</td>\n",
       "      <td>Jul</td>\n",
       "      <td>Friday</td>\n",
       "    </tr>\n",
       "    <tr>\n",
       "      <th>1464</th>\n",
       "      <td>4768</td>\n",
       "      <td>48395</td>\n",
       "      <td>220000</td>\n",
       "      <td>14</td>\n",
       "      <td>2040920</td>\n",
       "      <td>El Mariachi</td>\n",
       "      <td>6.6</td>\n",
       "      <td>238</td>\n",
       "      <td>5097</td>\n",
       "      <td>1992</td>\n",
       "      <td>Sep</td>\n",
       "      <td>Friday</td>\n",
       "    </tr>\n",
       "  </tbody>\n",
       "</table>\n",
       "<p>1465 rows × 12 columns</p>\n",
       "</div>"
      ],
      "text/plain": [
       "      Unnamed: 0     id     budget  popularity     revenue  \\\n",
       "0              0  43597  237000000         150  2787965087   \n",
       "1              1  43598  300000000         139   961000000   \n",
       "2              2  43599  245000000         107   880674609   \n",
       "3              3  43600  250000000         112  1084939099   \n",
       "4              5  43602  258000000         115   890871626   \n",
       "...          ...    ...        ...         ...         ...   \n",
       "1460        4736  48363          0           3      321952   \n",
       "1461        4743  48370      27000          19     3151130   \n",
       "1462        4748  48375          0           7           0   \n",
       "1463        4749  48376          0           3           0   \n",
       "1464        4768  48395     220000          14     2040920   \n",
       "\n",
       "                                         title  vote_average  vote_count  \\\n",
       "0                                       Avatar           7.2       11800   \n",
       "1     Pirates of the Caribbean: At World's End           6.9        4500   \n",
       "2                                      Spectre           6.3        4466   \n",
       "3                        The Dark Knight Rises           7.6        9106   \n",
       "4                                 Spider-Man 3           5.9        3576   \n",
       "...                                        ...           ...         ...   \n",
       "1460                            The Last Waltz           7.9          64   \n",
       "1461                                    Clerks           7.4         755   \n",
       "1462                                   Rampage           6.0         131   \n",
       "1463                                   Slacker           6.4          77   \n",
       "1464                               El Mariachi           6.6         238   \n",
       "\n",
       "      director_id  year month       day  \n",
       "0            4762  2009   Dec  Thursday  \n",
       "1            4763  2007   May  Saturday  \n",
       "2            4764  2015   Oct    Monday  \n",
       "3            4765  2012   Jul    Monday  \n",
       "4            4767  2007   May   Tuesday  \n",
       "...           ...   ...   ...       ...  \n",
       "1460         4809  1978   May    Monday  \n",
       "1461         5369  1994   Sep   Tuesday  \n",
       "1462         5148  2009   Aug    Friday  \n",
       "1463         5535  1990   Jul    Friday  \n",
       "1464         5097  1992   Sep    Friday  \n",
       "\n",
       "[1465 rows x 12 columns]"
      ]
     },
     "execution_count": 23,
     "metadata": {},
     "output_type": "execute_result"
    }
   ],
   "source": [
    "df_check = pd.read_csv(\"movies.csv\")\n",
    "df_check"
   ]
  },
  {
   "cell_type": "code",
   "execution_count": null,
   "id": "5adc8dee",
   "metadata": {},
   "outputs": [],
   "source": []
  },
  {
   "cell_type": "code",
   "execution_count": null,
   "id": "56924c85",
   "metadata": {},
   "outputs": [],
   "source": []
  },
  {
   "cell_type": "code",
   "execution_count": null,
   "id": "3bdfe9e3",
   "metadata": {},
   "outputs": [],
   "source": []
  },
  {
   "cell_type": "code",
   "execution_count": null,
   "id": "4e30f58a",
   "metadata": {},
   "outputs": [],
   "source": []
  }
 ],
 "metadata": {
  "kernelspec": {
   "display_name": "Python 3 (ipykernel)",
   "language": "python",
   "name": "python3"
  },
  "language_info": {
   "codemirror_mode": {
    "name": "ipython",
    "version": 3
   },
   "file_extension": ".py",
   "mimetype": "text/x-python",
   "name": "python",
   "nbconvert_exporter": "python",
   "pygments_lexer": "ipython3",
   "version": "3.11.4"
  }
 },
 "nbformat": 4,
 "nbformat_minor": 5
}
