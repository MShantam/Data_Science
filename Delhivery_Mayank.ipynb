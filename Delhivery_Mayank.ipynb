{
 "cells": [
  {
   "cell_type": "markdown",
   "id": "8QggO7QBfRR8",
   "metadata": {
    "id": "8QggO7QBfRR8"
   },
   "source": [
    "# Problem Statement:"
   ]
  },
  {
   "cell_type": "markdown",
   "id": "1ea567ec",
   "metadata": {
    "id": "1ea567ec"
   },
   "source": [
    "\n",
    "# About Delhivery : \n",
    "\n",
    "- Delhivery is the largest and fastest-growing fully integrated player in India by revenue in Fiscal 2021. They aim to build the operating system for commerce, through a combination of world-class infrastructure, logistics operations of the highest quality, and cutting-edge engineering and technology capabilities.\n",
    "\n",
    "\n",
    "- The Data team builds intelligence and capabilities using this data that helps them to widen the gap between the quality, efficiency, and profitability of their business versus their competitors.\n",
    "\n",
    "\n",
    "# Business Problem Statement  :\n",
    "\n",
    "\n",
    "- The company wants to understand and process the data coming out of data engineering pipelines:\n",
    "\n",
    ">• Clean, sanitize and manipulate data to get useful features out of raw fields\n",
    "\n",
    ">• Make sense out of the raw data and help the data science team to build forecasting models on it."
   ]
  },
  {
   "cell_type": "markdown",
   "id": "N7OgKF7KfWD_",
   "metadata": {
    "id": "N7OgKF7KfWD_"
   },
   "source": [
    "# Importing Libraries:"
   ]
  },
  {
   "cell_type": "code",
   "execution_count": 360,
   "id": "906a9b54",
   "metadata": {
    "id": "906a9b54"
   },
   "outputs": [],
   "source": [
    "import pandas as pd\n",
    "import numpy as np\n",
    "import seaborn as sns\n",
    "import matplotlib.pyplot as plt\n",
    "%matplotlib inline\n",
    "from matplotlib import figure\n",
    "import warnings\n",
    "warnings.filterwarnings('ignore')\n",
    "from scipy.stats import norm\n",
    "from scipy.stats import t\n",
    "from scipy import stats"
   ]
  },
  {
   "cell_type": "code",
   "execution_count": 361,
   "id": "15ef6660",
   "metadata": {
    "id": "15ef6660"
   },
   "outputs": [],
   "source": [
    "pd.set_option('display.max_columns', None)"
   ]
  },
  {
   "cell_type": "code",
   "execution_count": 362,
   "id": "e3f15ae5",
   "metadata": {
    "id": "e3f15ae5"
   },
   "outputs": [],
   "source": [
    "df = pd.read_csv(\"https://d2beiqkhq929f0.cloudfront.net/public_assets/assets/000/001/551/original/delhivery_data.csv?1642751181\")"
   ]
  },
  {
   "cell_type": "markdown",
   "id": "9f492e24",
   "metadata": {
    "id": "9f492e24"
   },
   "source": [
    "#1.Basic data cleaning and exploration:"
   ]
  },
  {
   "cell_type": "code",
   "execution_count": 364,
   "id": "717cbf31",
   "metadata": {
    "colab": {
     "base_uri": "https://localhost:8080/",
     "height": 0
    },
    "id": "717cbf31",
    "outputId": "efcf181e-a511-47a6-ea17-598de8336f58"
   },
   "outputs": [
    {
     "data": {
      "text/plain": [
       "(144867, 24)"
      ]
     },
     "execution_count": 364,
     "metadata": {},
     "output_type": "execute_result"
    }
   ],
   "source": [
    "df.shape"
   ]
  },
  {
   "cell_type": "markdown",
   "id": "EJU6zpNef7hF",
   "metadata": {
    "id": "EJU6zpNef7hF"
   },
   "source": [
    "- 144,867 total records, 24 columns "
   ]
  },
  {
   "cell_type": "code",
   "execution_count": 365,
   "id": "57ec3515",
   "metadata": {
    "colab": {
     "base_uri": "https://localhost:8080/",
     "height": 0
    },
    "id": "57ec3515",
    "outputId": "e8c95817-ee91-4f78-8a10-68add30bb7ea"
   },
   "outputs": [
    {
     "name": "stdout",
     "output_type": "stream",
     "text": [
      "<class 'pandas.core.frame.DataFrame'>\n",
      "RangeIndex: 144867 entries, 0 to 144866\n",
      "Data columns (total 24 columns):\n",
      " #   Column                          Non-Null Count   Dtype  \n",
      "---  ------                          --------------   -----  \n",
      " 0   data                            144867 non-null  object \n",
      " 1   trip_creation_time              144867 non-null  object \n",
      " 2   route_schedule_uuid             144867 non-null  object \n",
      " 3   route_type                      144867 non-null  object \n",
      " 4   trip_uuid                       144867 non-null  object \n",
      " 5   source_center                   144867 non-null  object \n",
      " 6   source_name                     144574 non-null  object \n",
      " 7   destination_center              144867 non-null  object \n",
      " 8   destination_name                144606 non-null  object \n",
      " 9   od_start_time                   144867 non-null  object \n",
      " 10  od_end_time                     144867 non-null  object \n",
      " 11  start_scan_to_end_scan          144867 non-null  float64\n",
      " 12  is_cutoff                       144867 non-null  bool   \n",
      " 13  cutoff_factor                   144867 non-null  int64  \n",
      " 14  cutoff_timestamp                144867 non-null  object \n",
      " 15  actual_distance_to_destination  144867 non-null  float64\n",
      " 16  actual_time                     144867 non-null  float64\n",
      " 17  osrm_time                       144867 non-null  float64\n",
      " 18  osrm_distance                   144867 non-null  float64\n",
      " 19  factor                          144867 non-null  float64\n",
      " 20  segment_actual_time             144867 non-null  float64\n",
      " 21  segment_osrm_time               144867 non-null  float64\n",
      " 22  segment_osrm_distance           144867 non-null  float64\n",
      " 23  segment_factor                  144867 non-null  float64\n",
      "dtypes: bool(1), float64(10), int64(1), object(12)\n",
      "memory usage: 25.6+ MB\n"
     ]
    }
   ],
   "source": [
    "df.info()"
   ]
  },
  {
   "cell_type": "code",
   "execution_count": 366,
   "id": "3e0f9357",
   "metadata": {
    "colab": {
     "base_uri": "https://localhost:8080/",
     "height": 0
    },
    "id": "3e0f9357",
    "outputId": "c2b3c8ba-3950-456b-845e-5e1efe793cb1"
   },
   "outputs": [
    {
     "data": {
      "text/plain": [
       "data                                0\n",
       "segment_osrm_time                   0\n",
       "segment_actual_time                 0\n",
       "factor                              0\n",
       "osrm_distance                       0\n",
       "osrm_time                           0\n",
       "actual_time                         0\n",
       "actual_distance_to_destination      0\n",
       "cutoff_timestamp                    0\n",
       "cutoff_factor                       0\n",
       "is_cutoff                           0\n",
       "start_scan_to_end_scan              0\n",
       "od_end_time                         0\n",
       "od_start_time                       0\n",
       "destination_center                  0\n",
       "source_center                       0\n",
       "trip_uuid                           0\n",
       "route_type                          0\n",
       "route_schedule_uuid                 0\n",
       "trip_creation_time                  0\n",
       "segment_osrm_distance               0\n",
       "segment_factor                      0\n",
       "destination_name                  261\n",
       "source_name                       293\n",
       "dtype: int64"
      ]
     },
     "execution_count": 366,
     "metadata": {},
     "output_type": "execute_result"
    }
   ],
   "source": [
    "df.isna().sum().sort_values()"
   ]
  },
  {
   "cell_type": "markdown",
   "id": "Opojrh3Jfj5S",
   "metadata": {
    "id": "Opojrh3Jfj5S"
   },
   "source": [
    "- features : source_name and destination_name having few missing values"
   ]
  },
  {
   "cell_type": "markdown",
   "id": "d6ca3a45",
   "metadata": {
    "id": "d6ca3a45"
   },
   "source": [
    "## Changing data type for data and time related features : \n"
   ]
  },
  {
   "cell_type": "code",
   "execution_count": 367,
   "id": "69fdb2f4",
   "metadata": {
    "id": "69fdb2f4"
   },
   "outputs": [],
   "source": [
    "df[\"od_end_time\"] = pd.to_datetime(df[\"od_end_time\"])\n",
    "df[\"od_start_time\"] = pd.to_datetime(df[\"od_start_time\"])\n",
    "df[\"trip_creation_time\"] = pd.to_datetime(df[\"trip_creation_time\"])"
   ]
  },
  {
   "cell_type": "markdown",
   "id": "08dbfba8",
   "metadata": {
    "id": "08dbfba8"
   },
   "source": [
    "## Extracting Trip Creation Informations from Trip Creation time : "
   ]
  },
  {
   "cell_type": "code",
   "execution_count": 368,
   "id": "d968b228",
   "metadata": {
    "colab": {
     "base_uri": "https://localhost:8080/",
     "height": 0
    },
    "id": "d968b228",
    "outputId": "ee09b2d8-bff7-440f-ce9a-68391bc1ba31"
   },
   "outputs": [
    {
     "data": {
      "text/plain": [
       "September    127349\n",
       "October       17518\n",
       "Name: trip_creation_time, dtype: int64"
      ]
     },
     "execution_count": 368,
     "metadata": {},
     "output_type": "execute_result"
    }
   ],
   "source": [
    "df[\"trip_creation_time\"].dt.month_name().value_counts()"
   ]
  },
  {
   "cell_type": "code",
   "execution_count": 369,
   "id": "360d400e",
   "metadata": {
    "colab": {
     "base_uri": "https://localhost:8080/",
     "height": 0
    },
    "id": "360d400e",
    "outputId": "242c4a80-02fa-497b-e5a1-c183bc8ee5fa"
   },
   "outputs": [
    {
     "data": {
      "text/plain": [
       "2018    144867\n",
       "Name: trip_creation_time, dtype: int64"
      ]
     },
     "execution_count": 369,
     "metadata": {},
     "output_type": "execute_result"
    }
   ],
   "source": [
    "df[\"trip_creation_time\"].dt.year.value_counts()"
   ]
  },
  {
   "cell_type": "markdown",
   "id": "Z_gZM3qWhBgD",
   "metadata": {
    "id": "Z_gZM3qWhBgD"
   },
   "source": [
    "- delivery trip data is given from September and October 2018\n"
   ]
  },
  {
   "cell_type": "code",
   "execution_count": 370,
   "id": "79b5ccf2",
   "metadata": {
    "id": "79b5ccf2"
   },
   "outputs": [],
   "source": [
    "df[\"trip_creation_day\"] = (df[\"trip_creation_time\"].dt.day_name())\n",
    "df[\"trip_creation_month\"] = (df[\"trip_creation_time\"].dt.month_name())\n",
    "df[\"trip_creation_year\"] = (df[\"trip_creation_time\"].dt.year)"
   ]
  },
  {
   "cell_type": "code",
   "execution_count": 371,
   "id": "dabfd1ae",
   "metadata": {
    "colab": {
     "base_uri": "https://localhost:8080/",
     "height": 330
    },
    "id": "dabfd1ae",
    "outputId": "de69806c-af22-4a44-fd50-de2c7548eb22"
   },
   "outputs": [
    {
     "data": {
      "text/plain": [
       "<AxesSubplot: >"
      ]
     },
     "execution_count": 371,
     "metadata": {},
     "output_type": "execute_result"
    },
    {
     "data": {
      "image/png": "[encoded data removed]",
      "text/plain": [
       "<Figure size 640x480 with 1 Axes>"
      ]
     },
     "metadata": {},
     "output_type": "display_data"
    }
   ],
   "source": [
    "df[\"trip_creation_day\"].value_counts().plot(kind = \"bar\")"
   ]
  },
  {
   "cell_type": "code",
   "execution_count": 372,
   "id": "1266e14d",
   "metadata": {
    "colab": {
     "base_uri": "https://localhost:8080/",
     "height": 0
    },
    "id": "1266e14d",
    "outputId": "e6969cae-6fd6-4660-d10c-bab1f2ccc9ea"
   },
   "outputs": [
    {
     "data": {
      "text/plain": [
       "Wednesday    18.452788\n",
       "Thursday     14.137795\n",
       "Friday       13.972816\n",
       "Tuesday      13.778845\n",
       "Saturday     13.761588\n",
       "Monday       13.560714\n",
       "Sunday       12.335453\n",
       "Name: trip_creation_day, dtype: float64"
      ]
     },
     "execution_count": 372,
     "metadata": {},
     "output_type": "execute_result"
    }
   ],
   "source": [
    "df[\"trip_creation_day\"].value_counts(normalize=True)*100"
   ]
  },
  {
   "cell_type": "markdown",
   "id": "bvdUakEahaY3",
   "metadata": {
    "id": "bvdUakEahaY3"
   },
   "source": [
    "- wednesday seems to have relatively higher records of data compare to other days "
   ]
  },
  {
   "cell_type": "markdown",
   "id": "1D8yw7bsirm0",
   "metadata": {
    "id": "1D8yw7bsirm0"
   },
   "source": [
    "## There are two different kind of routes are there:"
   ]
  },
  {
   "cell_type": "code",
   "execution_count": 374,
   "id": "04d27a2e",
   "metadata": {
    "colab": {
     "base_uri": "https://localhost:8080/",
     "height": 0
    },
    "id": "04d27a2e",
    "outputId": "9e416781-03d0-491b-ea15-0312e1831507"
   },
   "outputs": [
    {
     "data": {
      "text/plain": [
       "Carting    8908\n",
       "FTL        5909\n",
       "Name: route_type, dtype: int64"
      ]
     },
     "execution_count": 374,
     "metadata": {},
     "output_type": "execute_result"
    }
   ],
   "source": [
    "df.groupby(\"trip_uuid\")[\"route_type\"].unique().reset_index()[\"route_type\"].apply(lambda x:x[0]).value_counts()"
   ]
  },
  {
   "cell_type": "code",
   "execution_count": 375,
   "id": "2794e54f",
   "metadata": {
    "colab": {
     "base_uri": "https://localhost:8080/",
     "height": 0
    },
    "id": "2794e54f",
    "outputId": "b51e5783-5d14-46ea-a801-806877f852d0"
   },
   "outputs": [
    {
     "data": {
      "text/plain": [
       "Carting    60.120132\n",
       "FTL        39.879868\n",
       "Name: route_type, dtype: float64"
      ]
     },
     "execution_count": 375,
     "metadata": {},
     "output_type": "execute_result"
    }
   ],
   "source": [
    "df.groupby(\"trip_uuid\")[\"route_type\"].unique().reset_index()[\"route_type\"].apply(lambda x:x[0]).value_counts(normalize = True)*100"
   ]
  },
  {
   "cell_type": "code",
   "execution_count": 376,
   "id": "46addeae",
   "metadata": {
    "colab": {
     "base_uri": "https://localhost:8080/",
     "height": 0
    },
    "id": "46addeae",
    "outputId": "dc30650c-7aa4-4cf2-fdd5-46b4cdd5a617"
   },
   "outputs": [
    {
     "data": {
      "text/plain": [
       "Carting    60.120132\n",
       "FTL        39.879868\n",
       "Name: route_type, dtype: float64"
      ]
     },
     "execution_count": 376,
     "metadata": {},
     "output_type": "execute_result"
    }
   ],
   "source": [
    "routeType_plot= (df.groupby(\"trip_uuid\")[\"route_type\"].unique().reset_index()[\"route_type\"].apply(lambda x:x[0]).value_counts(normalize = True)*100)\n",
    "routeType_plot"
   ]
  },
  {
   "cell_type": "markdown",
   "id": "12982469",
   "metadata": {
    "id": "12982469"
   },
   "source": [
    "## Undestanding Features and Feature Engineering  :\n",
    "\n"
   ]
  },
  {
   "cell_type": "markdown",
   "id": "68HjPMyL1P_b",
   "metadata": {
    "id": "68HjPMyL1P_b"
   },
   "source": [
    "## Analyzing records for one particular trip id : \n"
   ]
  },
  {
   "cell_type": "code",
   "execution_count": 378,
   "id": "11dce1e8",
   "metadata": {
    "colab": {
     "base_uri": "https://localhost:8080/",
     "height": 774
    },
    "id": "11dce1e8",
    "outputId": "d2e14eb3-2e80-4eba-95a7-926e4246d8dc"
   },
   "outputs": [
    {
     "data": {
      "text/html": [
       "<div>\n",
       "<style scoped>\n",
       "    .dataframe tbody tr th:only-of-type {\n",
       "        vertical-align: middle;\n",
       "    }\n",
       "\n",
       "    .dataframe tbody tr th {\n",
       "        vertical-align: top;\n",
       "    }\n",
       "\n",
       "    .dataframe thead th {\n",
       "        text-align: right;\n",
       "    }\n",
       "</style>\n",
       "<table border=\"1\" class=\"dataframe\">\n",
       "  <thead>\n",
       "    <tr style=\"text-align: right;\">\n",
       "      <th></th>\n",
       "      <th>data</th>\n",
       "      <th>trip_creation_time</th>\n",
       "      <th>route_schedule_uuid</th>\n",
       "      <th>route_type</th>\n",
       "      <th>trip_uuid</th>\n",
       "      <th>source_center</th>\n",
       "      <th>source_name</th>\n",
       "      <th>destination_center</th>\n",
       "      <th>destination_name</th>\n",
       "      <th>od_start_time</th>\n",
       "      <th>od_end_time</th>\n",
       "      <th>start_scan_to_end_scan</th>\n",
       "      <th>is_cutoff</th>\n",
       "      <th>cutoff_factor</th>\n",
       "      <th>cutoff_timestamp</th>\n",
       "      <th>actual_distance_to_destination</th>\n",
       "      <th>actual_time</th>\n",
       "      <th>osrm_time</th>\n",
       "      <th>osrm_distance</th>\n",
       "      <th>factor</th>\n",
       "      <th>segment_actual_time</th>\n",
       "      <th>segment_osrm_time</th>\n",
       "      <th>segment_osrm_distance</th>\n",
       "      <th>segment_factor</th>\n",
       "      <th>trip_creation_day</th>\n",
       "      <th>trip_creation_month</th>\n",
       "      <th>trip_creation_year</th>\n",
       "    </tr>\n",
       "  </thead>\n",
       "  <tbody>\n",
       "    <tr>\n",
       "      <th>0</th>\n",
       "      <td>training</td>\n",
       "      <td>2018-09-20 02:35:36.476840</td>\n",
       "      <td>thanos::sroute:eb7bfc78-b351-4c0e-a951-fa3d5c3...</td>\n",
       "      <td>Carting</td>\n",
       "      <td>trip-153741093647649320</td>\n",
       "      <td>IND388121AAA</td>\n",
       "      <td>Anand_VUNagar_DC (Gujarat)</td>\n",
       "      <td>IND388620AAB</td>\n",
       "      <td>Khambhat_MotvdDPP_D (Gujarat)</td>\n",
       "      <td>2018-09-20 03:21:32.418600</td>\n",
       "      <td>2018-09-20 04:47:45.236797</td>\n",
       "      <td>86.0</td>\n",
       "      <td>True</td>\n",
       "      <td>9</td>\n",
       "      <td>2018-09-20 04:27:55</td>\n",
       "      <td>10.435660</td>\n",
       "      <td>14.0</td>\n",
       "      <td>11.0</td>\n",
       "      <td>11.9653</td>\n",
       "      <td>1.272727</td>\n",
       "      <td>14.0</td>\n",
       "      <td>11.0</td>\n",
       "      <td>11.9653</td>\n",
       "      <td>1.272727</td>\n",
       "      <td>Thursday</td>\n",
       "      <td>September</td>\n",
       "      <td>2018</td>\n",
       "    </tr>\n",
       "    <tr>\n",
       "      <th>1</th>\n",
       "      <td>training</td>\n",
       "      <td>2018-09-20 02:35:36.476840</td>\n",
       "      <td>thanos::sroute:eb7bfc78-b351-4c0e-a951-fa3d5c3...</td>\n",
       "      <td>Carting</td>\n",
       "      <td>trip-153741093647649320</td>\n",
       "      <td>IND388121AAA</td>\n",
       "      <td>Anand_VUNagar_DC (Gujarat)</td>\n",
       "      <td>IND388620AAB</td>\n",
       "      <td>Khambhat_MotvdDPP_D (Gujarat)</td>\n",
       "      <td>2018-09-20 03:21:32.418600</td>\n",
       "      <td>2018-09-20 04:47:45.236797</td>\n",
       "      <td>86.0</td>\n",
       "      <td>True</td>\n",
       "      <td>18</td>\n",
       "      <td>2018-09-20 04:17:55</td>\n",
       "      <td>18.936842</td>\n",
       "      <td>24.0</td>\n",
       "      <td>20.0</td>\n",
       "      <td>21.7243</td>\n",
       "      <td>1.200000</td>\n",
       "      <td>10.0</td>\n",
       "      <td>9.0</td>\n",
       "      <td>9.7590</td>\n",
       "      <td>1.111111</td>\n",
       "      <td>Thursday</td>\n",
       "      <td>September</td>\n",
       "      <td>2018</td>\n",
       "    </tr>\n",
       "    <tr>\n",
       "      <th>2</th>\n",
       "      <td>training</td>\n",
       "      <td>2018-09-20 02:35:36.476840</td>\n",
       "      <td>thanos::sroute:eb7bfc78-b351-4c0e-a951-fa3d5c3...</td>\n",
       "      <td>Carting</td>\n",
       "      <td>trip-153741093647649320</td>\n",
       "      <td>IND388121AAA</td>\n",
       "      <td>Anand_VUNagar_DC (Gujarat)</td>\n",
       "      <td>IND388620AAB</td>\n",
       "      <td>Khambhat_MotvdDPP_D (Gujarat)</td>\n",
       "      <td>2018-09-20 03:21:32.418600</td>\n",
       "      <td>2018-09-20 04:47:45.236797</td>\n",
       "      <td>86.0</td>\n",
       "      <td>True</td>\n",
       "      <td>27</td>\n",
       "      <td>2018-09-20 04:01:19.505586</td>\n",
       "      <td>27.637279</td>\n",
       "      <td>40.0</td>\n",
       "      <td>28.0</td>\n",
       "      <td>32.5395</td>\n",
       "      <td>1.428571</td>\n",
       "      <td>16.0</td>\n",
       "      <td>7.0</td>\n",
       "      <td>10.8152</td>\n",
       "      <td>2.285714</td>\n",
       "      <td>Thursday</td>\n",
       "      <td>September</td>\n",
       "      <td>2018</td>\n",
       "    </tr>\n",
       "    <tr>\n",
       "      <th>3</th>\n",
       "      <td>training</td>\n",
       "      <td>2018-09-20 02:35:36.476840</td>\n",
       "      <td>thanos::sroute:eb7bfc78-b351-4c0e-a951-fa3d5c3...</td>\n",
       "      <td>Carting</td>\n",
       "      <td>trip-153741093647649320</td>\n",
       "      <td>IND388121AAA</td>\n",
       "      <td>Anand_VUNagar_DC (Gujarat)</td>\n",
       "      <td>IND388620AAB</td>\n",
       "      <td>Khambhat_MotvdDPP_D (Gujarat)</td>\n",
       "      <td>2018-09-20 03:21:32.418600</td>\n",
       "      <td>2018-09-20 04:47:45.236797</td>\n",
       "      <td>86.0</td>\n",
       "      <td>True</td>\n",
       "      <td>36</td>\n",
       "      <td>2018-09-20 03:39:57</td>\n",
       "      <td>36.118028</td>\n",
       "      <td>62.0</td>\n",
       "      <td>40.0</td>\n",
       "      <td>45.5620</td>\n",
       "      <td>1.550000</td>\n",
       "      <td>21.0</td>\n",
       "      <td>12.0</td>\n",
       "      <td>13.0224</td>\n",
       "      <td>1.750000</td>\n",
       "      <td>Thursday</td>\n",
       "      <td>September</td>\n",
       "      <td>2018</td>\n",
       "    </tr>\n",
       "    <tr>\n",
       "      <th>4</th>\n",
       "      <td>training</td>\n",
       "      <td>2018-09-20 02:35:36.476840</td>\n",
       "      <td>thanos::sroute:eb7bfc78-b351-4c0e-a951-fa3d5c3...</td>\n",
       "      <td>Carting</td>\n",
       "      <td>trip-153741093647649320</td>\n",
       "      <td>IND388121AAA</td>\n",
       "      <td>Anand_VUNagar_DC (Gujarat)</td>\n",
       "      <td>IND388620AAB</td>\n",
       "      <td>Khambhat_MotvdDPP_D (Gujarat)</td>\n",
       "      <td>2018-09-20 03:21:32.418600</td>\n",
       "      <td>2018-09-20 04:47:45.236797</td>\n",
       "      <td>86.0</td>\n",
       "      <td>False</td>\n",
       "      <td>39</td>\n",
       "      <td>2018-09-20 03:33:55</td>\n",
       "      <td>39.386040</td>\n",
       "      <td>68.0</td>\n",
       "      <td>44.0</td>\n",
       "      <td>54.2181</td>\n",
       "      <td>1.545455</td>\n",
       "      <td>6.0</td>\n",
       "      <td>5.0</td>\n",
       "      <td>3.9153</td>\n",
       "      <td>1.200000</td>\n",
       "      <td>Thursday</td>\n",
       "      <td>September</td>\n",
       "      <td>2018</td>\n",
       "    </tr>\n",
       "    <tr>\n",
       "      <th>5</th>\n",
       "      <td>training</td>\n",
       "      <td>2018-09-20 02:35:36.476840</td>\n",
       "      <td>thanos::sroute:eb7bfc78-b351-4c0e-a951-fa3d5c3...</td>\n",
       "      <td>Carting</td>\n",
       "      <td>trip-153741093647649320</td>\n",
       "      <td>IND388620AAB</td>\n",
       "      <td>Khambhat_MotvdDPP_D (Gujarat)</td>\n",
       "      <td>IND388320AAA</td>\n",
       "      <td>Anand_Vaghasi_IP (Gujarat)</td>\n",
       "      <td>2018-09-20 04:47:45.236797</td>\n",
       "      <td>2018-09-20 06:36:55.627764</td>\n",
       "      <td>109.0</td>\n",
       "      <td>True</td>\n",
       "      <td>9</td>\n",
       "      <td>2018-09-20 06:15:58</td>\n",
       "      <td>10.403038</td>\n",
       "      <td>15.0</td>\n",
       "      <td>11.0</td>\n",
       "      <td>12.1171</td>\n",
       "      <td>1.363636</td>\n",
       "      <td>15.0</td>\n",
       "      <td>11.0</td>\n",
       "      <td>12.1171</td>\n",
       "      <td>1.363636</td>\n",
       "      <td>Thursday</td>\n",
       "      <td>September</td>\n",
       "      <td>2018</td>\n",
       "    </tr>\n",
       "    <tr>\n",
       "      <th>6</th>\n",
       "      <td>training</td>\n",
       "      <td>2018-09-20 02:35:36.476840</td>\n",
       "      <td>thanos::sroute:eb7bfc78-b351-4c0e-a951-fa3d5c3...</td>\n",
       "      <td>Carting</td>\n",
       "      <td>trip-153741093647649320</td>\n",
       "      <td>IND388620AAB</td>\n",
       "      <td>Khambhat_MotvdDPP_D (Gujarat)</td>\n",
       "      <td>IND388320AAA</td>\n",
       "      <td>Anand_Vaghasi_IP (Gujarat)</td>\n",
       "      <td>2018-09-20 04:47:45.236797</td>\n",
       "      <td>2018-09-20 06:36:55.627764</td>\n",
       "      <td>109.0</td>\n",
       "      <td>True</td>\n",
       "      <td>18</td>\n",
       "      <td>2018-09-20 05:47:29</td>\n",
       "      <td>18.045481</td>\n",
       "      <td>44.0</td>\n",
       "      <td>17.0</td>\n",
       "      <td>21.2890</td>\n",
       "      <td>2.588235</td>\n",
       "      <td>28.0</td>\n",
       "      <td>6.0</td>\n",
       "      <td>9.1719</td>\n",
       "      <td>4.666667</td>\n",
       "      <td>Thursday</td>\n",
       "      <td>September</td>\n",
       "      <td>2018</td>\n",
       "    </tr>\n",
       "    <tr>\n",
       "      <th>7</th>\n",
       "      <td>training</td>\n",
       "      <td>2018-09-20 02:35:36.476840</td>\n",
       "      <td>thanos::sroute:eb7bfc78-b351-4c0e-a951-fa3d5c3...</td>\n",
       "      <td>Carting</td>\n",
       "      <td>trip-153741093647649320</td>\n",
       "      <td>IND388620AAB</td>\n",
       "      <td>Khambhat_MotvdDPP_D (Gujarat)</td>\n",
       "      <td>IND388320AAA</td>\n",
       "      <td>Anand_Vaghasi_IP (Gujarat)</td>\n",
       "      <td>2018-09-20 04:47:45.236797</td>\n",
       "      <td>2018-09-20 06:36:55.627764</td>\n",
       "      <td>109.0</td>\n",
       "      <td>True</td>\n",
       "      <td>27</td>\n",
       "      <td>2018-09-20 05:25:58</td>\n",
       "      <td>28.061896</td>\n",
       "      <td>65.0</td>\n",
       "      <td>29.0</td>\n",
       "      <td>35.8252</td>\n",
       "      <td>2.241379</td>\n",
       "      <td>21.0</td>\n",
       "      <td>11.0</td>\n",
       "      <td>14.5362</td>\n",
       "      <td>1.909091</td>\n",
       "      <td>Thursday</td>\n",
       "      <td>September</td>\n",
       "      <td>2018</td>\n",
       "    </tr>\n",
       "    <tr>\n",
       "      <th>8</th>\n",
       "      <td>training</td>\n",
       "      <td>2018-09-20 02:35:36.476840</td>\n",
       "      <td>thanos::sroute:eb7bfc78-b351-4c0e-a951-fa3d5c3...</td>\n",
       "      <td>Carting</td>\n",
       "      <td>trip-153741093647649320</td>\n",
       "      <td>IND388620AAB</td>\n",
       "      <td>Khambhat_MotvdDPP_D (Gujarat)</td>\n",
       "      <td>IND388320AAA</td>\n",
       "      <td>Anand_Vaghasi_IP (Gujarat)</td>\n",
       "      <td>2018-09-20 04:47:45.236797</td>\n",
       "      <td>2018-09-20 06:36:55.627764</td>\n",
       "      <td>109.0</td>\n",
       "      <td>True</td>\n",
       "      <td>36</td>\n",
       "      <td>2018-09-20 05:15:56</td>\n",
       "      <td>38.939167</td>\n",
       "      <td>76.0</td>\n",
       "      <td>39.0</td>\n",
       "      <td>47.1900</td>\n",
       "      <td>1.948718</td>\n",
       "      <td>10.0</td>\n",
       "      <td>10.0</td>\n",
       "      <td>11.3648</td>\n",
       "      <td>1.000000</td>\n",
       "      <td>Thursday</td>\n",
       "      <td>September</td>\n",
       "      <td>2018</td>\n",
       "    </tr>\n",
       "    <tr>\n",
       "      <th>9</th>\n",
       "      <td>training</td>\n",
       "      <td>2018-09-20 02:35:36.476840</td>\n",
       "      <td>thanos::sroute:eb7bfc78-b351-4c0e-a951-fa3d5c3...</td>\n",
       "      <td>Carting</td>\n",
       "      <td>trip-153741093647649320</td>\n",
       "      <td>IND388620AAB</td>\n",
       "      <td>Khambhat_MotvdDPP_D (Gujarat)</td>\n",
       "      <td>IND388320AAA</td>\n",
       "      <td>Anand_Vaghasi_IP (Gujarat)</td>\n",
       "      <td>2018-09-20 04:47:45.236797</td>\n",
       "      <td>2018-09-20 06:36:55.627764</td>\n",
       "      <td>109.0</td>\n",
       "      <td>False</td>\n",
       "      <td>43</td>\n",
       "      <td>2018-09-20 04:49:20</td>\n",
       "      <td>43.595802</td>\n",
       "      <td>102.0</td>\n",
       "      <td>45.0</td>\n",
       "      <td>53.2334</td>\n",
       "      <td>2.266667</td>\n",
       "      <td>26.0</td>\n",
       "      <td>6.0</td>\n",
       "      <td>6.0434</td>\n",
       "      <td>4.333333</td>\n",
       "      <td>Thursday</td>\n",
       "      <td>September</td>\n",
       "      <td>2018</td>\n",
       "    </tr>\n",
       "  </tbody>\n",
       "</table>\n",
       "</div>"
      ],
      "text/plain": [
       "       data         trip_creation_time  \\\n",
       "0  training 2018-09-20 02:35:36.476840   \n",
       "1  training 2018-09-20 02:35:36.476840   \n",
       "2  training 2018-09-20 02:35:36.476840   \n",
       "3  training 2018-09-20 02:35:36.476840   \n",
       "4  training 2018-09-20 02:35:36.476840   \n",
       "5  training 2018-09-20 02:35:36.476840   \n",
       "6  training 2018-09-20 02:35:36.476840   \n",
       "7  training 2018-09-20 02:35:36.476840   \n",
       "8  training 2018-09-20 02:35:36.476840   \n",
       "9  training 2018-09-20 02:35:36.476840   \n",
       "\n",
       "                                 route_schedule_uuid route_type  \\\n",
       "0  thanos::sroute:eb7bfc78-b351-4c0e-a951-fa3d5c3...    Carting   \n",
       "1  thanos::sroute:eb7bfc78-b351-4c0e-a951-fa3d5c3...    Carting   \n",
       "2  thanos::sroute:eb7bfc78-b351-4c0e-a951-fa3d5c3...    Carting   \n",
       "3  thanos::sroute:eb7bfc78-b351-4c0e-a951-fa3d5c3...    Carting   \n",
       "4  thanos::sroute:eb7bfc78-b351-4c0e-a951-fa3d5c3...    Carting   \n",
       "5  thanos::sroute:eb7bfc78-b351-4c0e-a951-fa3d5c3...    Carting   \n",
       "6  thanos::sroute:eb7bfc78-b351-4c0e-a951-fa3d5c3...    Carting   \n",
       "7  thanos::sroute:eb7bfc78-b351-4c0e-a951-fa3d5c3...    Carting   \n",
       "8  thanos::sroute:eb7bfc78-b351-4c0e-a951-fa3d5c3...    Carting   \n",
       "9  thanos::sroute:eb7bfc78-b351-4c0e-a951-fa3d5c3...    Carting   \n",
       "\n",
       "                 trip_uuid source_center                    source_name  \\\n",
       "0  trip-153741093647649320  IND388121AAA     Anand_VUNagar_DC (Gujarat)   \n",
       "1  trip-153741093647649320  IND388121AAA     Anand_VUNagar_DC (Gujarat)   \n",
       "2  trip-153741093647649320  IND388121AAA     Anand_VUNagar_DC (Gujarat)   \n",
       "3  trip-153741093647649320  IND388121AAA     Anand_VUNagar_DC (Gujarat)   \n",
       "4  trip-153741093647649320  IND388121AAA     Anand_VUNagar_DC (Gujarat)   \n",
       "5  trip-153741093647649320  IND388620AAB  Khambhat_MotvdDPP_D (Gujarat)   \n",
       "6  trip-153741093647649320  IND388620AAB  Khambhat_MotvdDPP_D (Gujarat)   \n",
       "7  trip-153741093647649320  IND388620AAB  Khambhat_MotvdDPP_D (Gujarat)   \n",
       "8  trip-153741093647649320  IND388620AAB  Khambhat_MotvdDPP_D (Gujarat)   \n",
       "9  trip-153741093647649320  IND388620AAB  Khambhat_MotvdDPP_D (Gujarat)   \n",
       "\n",
       "  destination_center               destination_name  \\\n",
       "0       IND388620AAB  Khambhat_MotvdDPP_D (Gujarat)   \n",
       "1       IND388620AAB  Khambhat_MotvdDPP_D (Gujarat)   \n",
       "2       IND388620AAB  Khambhat_MotvdDPP_D (Gujarat)   \n",
       "3       IND388620AAB  Khambhat_MotvdDPP_D (Gujarat)   \n",
       "4       IND388620AAB  Khambhat_MotvdDPP_D (Gujarat)   \n",
       "5       IND388320AAA     Anand_Vaghasi_IP (Gujarat)   \n",
       "6       IND388320AAA     Anand_Vaghasi_IP (Gujarat)   \n",
       "7       IND388320AAA     Anand_Vaghasi_IP (Gujarat)   \n",
       "8       IND388320AAA     Anand_Vaghasi_IP (Gujarat)   \n",
       "9       IND388320AAA     Anand_Vaghasi_IP (Gujarat)   \n",
       "\n",
       "               od_start_time                od_end_time  \\\n",
       "0 2018-09-20 03:21:32.418600 2018-09-20 04:47:45.236797   \n",
       "1 2018-09-20 03:21:32.418600 2018-09-20 04:47:45.236797   \n",
       "2 2018-09-20 03:21:32.418600 2018-09-20 04:47:45.236797   \n",
       "3 2018-09-20 03:21:32.418600 2018-09-20 04:47:45.236797   \n",
       "4 2018-09-20 03:21:32.418600 2018-09-20 04:47:45.236797   \n",
       "5 2018-09-20 04:47:45.236797 2018-09-20 06:36:55.627764   \n",
       "6 2018-09-20 04:47:45.236797 2018-09-20 06:36:55.627764   \n",
       "7 2018-09-20 04:47:45.236797 2018-09-20 06:36:55.627764   \n",
       "8 2018-09-20 04:47:45.236797 2018-09-20 06:36:55.627764   \n",
       "9 2018-09-20 04:47:45.236797 2018-09-20 06:36:55.627764   \n",
       "\n",
       "   start_scan_to_end_scan  is_cutoff  cutoff_factor  \\\n",
       "0                    86.0       True              9   \n",
       "1                    86.0       True             18   \n",
       "2                    86.0       True             27   \n",
       "3                    86.0       True             36   \n",
       "4                    86.0      False             39   \n",
       "5                   109.0       True              9   \n",
       "6                   109.0       True             18   \n",
       "7                   109.0       True             27   \n",
       "8                   109.0       True             36   \n",
       "9                   109.0      False             43   \n",
       "\n",
       "             cutoff_timestamp  actual_distance_to_destination  actual_time  \\\n",
       "0         2018-09-20 04:27:55                       10.435660         14.0   \n",
       "1         2018-09-20 04:17:55                       18.936842         24.0   \n",
       "2  2018-09-20 04:01:19.505586                       27.637279         40.0   \n",
       "3         2018-09-20 03:39:57                       36.118028         62.0   \n",
       "4         2018-09-20 03:33:55                       39.386040         68.0   \n",
       "5         2018-09-20 06:15:58                       10.403038         15.0   \n",
       "6         2018-09-20 05:47:29                       18.045481         44.0   \n",
       "7         2018-09-20 05:25:58                       28.061896         65.0   \n",
       "8         2018-09-20 05:15:56                       38.939167         76.0   \n",
       "9         2018-09-20 04:49:20                       43.595802        102.0   \n",
       "\n",
       "   osrm_time  osrm_distance    factor  segment_actual_time  segment_osrm_time  \\\n",
       "0       11.0        11.9653  1.272727                 14.0               11.0   \n",
       "1       20.0        21.7243  1.200000                 10.0                9.0   \n",
       "2       28.0        32.5395  1.428571                 16.0                7.0   \n",
       "3       40.0        45.5620  1.550000                 21.0               12.0   \n",
       "4       44.0        54.2181  1.545455                  6.0                5.0   \n",
       "5       11.0        12.1171  1.363636                 15.0               11.0   \n",
       "6       17.0        21.2890  2.588235                 28.0                6.0   \n",
       "7       29.0        35.8252  2.241379                 21.0               11.0   \n",
       "8       39.0        47.1900  1.948718                 10.0               10.0   \n",
       "9       45.0        53.2334  2.266667                 26.0                6.0   \n",
       "\n",
       "   segment_osrm_distance  segment_factor trip_creation_day  \\\n",
       "0                11.9653        1.272727          Thursday   \n",
       "1                 9.7590        1.111111          Thursday   \n",
       "2                10.8152        2.285714          Thursday   \n",
       "3                13.0224        1.750000          Thursday   \n",
       "4                 3.9153        1.200000          Thursday   \n",
       "5                12.1171        1.363636          Thursday   \n",
       "6                 9.1719        4.666667          Thursday   \n",
       "7                14.5362        1.909091          Thursday   \n",
       "8                11.3648        1.000000          Thursday   \n",
       "9                 6.0434        4.333333          Thursday   \n",
       "\n",
       "  trip_creation_month  trip_creation_year  \n",
       "0           September                2018  \n",
       "1           September                2018  \n",
       "2           September                2018  \n",
       "3           September                2018  \n",
       "4           September                2018  \n",
       "5           September                2018  \n",
       "6           September                2018  \n",
       "7           September                2018  \n",
       "8           September                2018  \n",
       "9           September                2018  "
      ]
     },
     "execution_count": 378,
     "metadata": {},
     "output_type": "execute_result"
    }
   ],
   "source": [
    "df[df[\"trip_uuid\"]==\"trip-153741093647649320\"]"
   ]
  },
  {
   "cell_type": "markdown",
   "id": "48f29772",
   "metadata": {
    "id": "48f29772"
   },
   "source": [
    "    from above one particular trip record , trip is segmented between different drop locations .\n",
    "\n",
    "    we can observe \n",
    "    trip is taking stops between mentioned source and destination centers(warehouses).\n",
    "    od-end-tiem and od-start-time are the time when the that particular trip was ended and started .\n",
    "\n",
    "    start-scan-to-end-scan is the time duration of trips are being scanned when start and end. \n",
    "    start-scan-to-end-scan time is given cummulative. which is not given per trip segments.\n",
    "\n",
    "\n",
    "    trip cut off False ,shows the record of trip when trip changes from one warehouse to another. between source to destination. \n",
    "\n",
    "\n",
    "    Actual-time given is the time to complete the entire delivery from source to destination (given cumulatively )\n",
    "\n",
    "\n",
    "\n",
    "\n",
    "    osrm -time is an open rourse routing engine time calculator which computes the shortest path between points in a given map and gives the time and osrm distance gives the shortest distance (given cumulatively )\n",
    "\n",
    "\n",
    "    Actual-distnace-to-destination is the actual distance between warehouses , given cummulative during the trip . \n",
    "    every time cutoff is False , distance count starts from begining. \n",
    "\n",
    "    Segmment actual time,  is the actual time taken between two stops in between trips. given per each segment (taken between subset of package delivery)\n",
    "\n",
    "    segment osrm time is the osrm segment time , taken between subset of package delivery\n",
    "\n"
   ]
  },
  {
   "cell_type": "markdown",
   "id": "80363552",
   "metadata": {
    "id": "80363552"
   },
   "source": [
    "#2.Build some features to prepare the data for actual analysis. Extract features from the below fields:\n",
    "\n"
   ]
  },
  {
   "cell_type": "markdown",
   "id": "vi-dzphR00D4",
   "metadata": {
    "id": "vi-dzphR00D4"
   },
   "source": [
    "### Extracting Features like city - place - code -state from source and destination name columns : "
   ]
  },
  {
   "cell_type": "code",
   "execution_count": 379,
   "id": "b0d19f52",
   "metadata": {
    "id": "b0d19f52"
   },
   "outputs": [],
   "source": [
    "df[\"source_city\"] = df[\"source_name\"].str.split(\" \",n=1,expand=True)[0].str.split(\"_\",n=1,expand=True)[0]\n",
    "df[\"source_state\"] = df[\"source_name\"].str.split(\" \",n=1,expand=True)[1].str.replace(\"(\",\"\").str.replace(\")\",\"\")\n",
    "\n",
    "df[\"destination_city\"] = df[\"destination_name\"].str.split(\" \",n=1,expand=True)[0].str.split(\"_\",n=1,expand=True)[0]\n",
    "df[\"destination_state\"] = df[\"destination_name\"].str.split(\" \",n=1,expand=True)[1].str.replace(\"(\",\"\").str.replace(\")\",\"\")\n"
   ]
  },
  {
   "cell_type": "code",
   "execution_count": 380,
   "id": "29aea0e1",
   "metadata": {
    "id": "29aea0e1"
   },
   "outputs": [],
   "source": [
    "df[\"source_place\"] = df[\"source_name\"].str.split(\"_\",n=2,expand=True)[1]\n",
    "df[\"destination_place\"] = df[\"destination_name\"].str.split(\"_\",n=2,expand=True)[1]"
   ]
  },
  {
   "cell_type": "code",
   "execution_count": 381,
   "id": "a30fe6e6",
   "metadata": {
    "id": "a30fe6e6"
   },
   "outputs": [],
   "source": [
    "df[\"source_pincode\"] = df[\"source_center\"].apply(lambda x : x[3:9] )\n",
    "df[\"destination_pincode\"] = df[\"destination_center\"].apply(lambda x : x[3:9] )"
   ]
  },
  {
   "cell_type": "markdown",
   "id": "dd018181",
   "metadata": {
    "id": "dd018181"
   },
   "source": [
    "\n",
    "####  Time_taken_btwn_odstart_and_od_end VS start_scan_to_end_scan : "
   ]
  },
  {
   "cell_type": "code",
   "execution_count": 383,
   "id": "64cd5221",
   "metadata": {
    "id": "64cd5221"
   },
   "outputs": [],
   "source": [
    "df[\"time_taken_btwn_odstart_and_od_end\"] = ((df[\"od_end_time\"]-df[\"od_start_time\"])/pd.Timedelta(1,unit=\"hour\"))"
   ]
  },
  {
   "cell_type": "markdown",
   "id": "3f657dab",
   "metadata": {
    "id": "3f657dab"
   },
   "source": [
    "#### Converting given time duration features into hours . \n",
    "    start_scan_to_end_scan\n",
    "    actual_time\n",
    "    osrm_time\n",
    "    segment_actual_time\n",
    "    segment_osrm_time\n",
    "    "
   ]
  },
  {
   "cell_type": "code",
   "execution_count": 384,
   "id": "128642db",
   "metadata": {
    "id": "128642db"
   },
   "outputs": [],
   "source": [
    "df[\"start_scan_to_end_scan\"] = df[\"start_scan_to_end_scan\"]/60\n",
    "df[\"actual_time\"] = df[\"actual_time\"]/60\n",
    "df[\"osrm_time\"] = df[\"osrm_time\"]/60\n",
    "df[\"segment_actual_time\"] = df[\"segment_actual_time\"]/60\n",
    "df[\"segment_osrm_time\"] = df[\"segment_osrm_time\"]/60\n"
   ]
  },
  {
   "cell_type": "markdown",
   "id": "35fa9c0c",
   "metadata": {
    "id": "35fa9c0c"
   },
   "source": [
    "# Aggregating Data : "
   ]
  },
  {
   "cell_type": "code",
   "execution_count": 402,
   "id": "71a77c63",
   "metadata": {
    "id": "71a77c63"
   },
   "outputs": [],
   "source": [
    "actual_time = data.groupby([\"trip_uuid\",\n",
    "              \"start_scan_to_end_scan\"])[\"actual_time\"].max().reset_index().groupby(\"trip_uuid\")[\"actual_time\"].sum().reset_index()\n",
    "segment_osrm_time = data[[\"trip_uuid\",\"segment_osrm_time\"]].groupby(\"trip_uuid\")[\"segment_osrm_time\"].sum().reset_index()\n",
    "segment_actual_time = data.groupby(\"trip_uuid\")[\"segment_actual_time\"].sum().reset_index()\n",
    "osrm_time = data.groupby([\"trip_uuid\",\n",
    "              \"start_scan_to_end_scan\"])[\"osrm_time\"].max().reset_index().groupby(\"trip_uuid\")[\"osrm_time\"].sum().reset_index()\n",
    "time_taken_btwn_odstart_and_od_end = data.groupby(\"trip_uuid\")[\"time_taken_btwn_odstart_and_od_end\"].unique().reset_index()\n",
    "\n",
    "time_taken_btwn_odstart_and_od_end[\"time_taken_btwn_odstart_and_od_end\"] = time_taken_btwn_odstart_and_od_end[\"time_taken_btwn_odstart_and_od_end\"].apply(sum)\n",
    "start_scan_to_end_scan = ((data.groupby(\"trip_uuid\")[\"start_scan_to_end_scan\"].unique())).reset_index()\n",
    "start_scan_to_end_scan[\"start_scan_to_end_scan\"] = start_scan_to_end_scan[\"start_scan_to_end_scan\"].apply(sum) \n",
    "\n",
    "osrm_distance = data.groupby([\"trip_uuid\",\n",
    "              \"start_scan_to_end_scan\"])[\"osrm_distance\"].max().reset_index().groupby(\"trip_uuid\")[\"osrm_distance\"].sum().reset_index()\n",
    "actual_distance_to_destination = data.groupby([\"trip_uuid\",\n",
    "              \"start_scan_to_end_scan\"])[\"actual_distance_to_destination\"].max().reset_index().groupby(\"trip_uuid\")[\"actual_distance_to_destination\"].sum().reset_index()\n",
    "segment_osrm_distance = data[[\"trip_uuid\",\n",
    "                              \"segment_osrm_distance\"]].groupby(\"trip_uuid\")[\"segment_osrm_distance\"].sum().reset_index()\n"
   ]
  },
  {
   "cell_type": "markdown",
   "id": "21a41c08",
   "metadata": {
    "id": "21a41c08"
   },
   "source": [
    "****"
   ]
  },
  {
   "cell_type": "markdown",
   "id": "QtyDxl3q08RP",
   "metadata": {
    "id": "QtyDxl3q08RP"
   },
   "source": [
    "#3.In-depth analysis and feature engineering:"
   ]
  },
  {
   "cell_type": "markdown",
   "id": "e861f07b",
   "metadata": {
    "id": "e861f07b"
   },
   "source": [
    "## Hypothesis Tests for time durations and distance related features : \n"
   ]
  },
  {
   "cell_type": "markdown",
   "id": "82efb412",
   "metadata": {
    "id": "82efb412"
   },
   "source": [
    "### Analysing TimeTaken Between OdStart to OdEnd time & StartScan to EndScan : "
   ]
  },
  {
   "cell_type": "markdown",
   "id": "45e2e598",
   "metadata": {
    "id": "45e2e598"
   },
   "source": [
    "> #### H0: Mean of time taken between start and end, trip time = Mean of start and end, scan time\n",
    "> #### Ha: Mean of time taken between start and end, trip time != Mean of start and end, scan time\n"
   ]
  },
  {
   "cell_type": "code",
   "execution_count": 403,
   "id": "d310004a",
   "metadata": {
    "colab": {
     "base_uri": "https://localhost:8080/",
     "height": 352
    },
    "id": "d310004a",
    "outputId": "9efde411-839f-4f8f-c501-2dbb32e483b5"
   },
   "outputs": [
    {
     "data": {
      "text/plain": [
       "<AxesSubplot: xlabel='start_scan_to_end_scan', ylabel='Density'>"
      ]
     },
     "execution_count": 403,
     "metadata": {},
     "output_type": "execute_result"
    },
    {
     "data": {
      "image/png": "[encoded data removed]",
      "text/plain": [
       "<Figure size 1500x500 with 2 Axes>"
      ]
     },
     "metadata": {},
     "output_type": "display_data"
    }
   ],
   "source": [
    "plt.figure(figsize=(15,5))\n",
    "plt.subplot(121)\n",
    "sns.distplot((time_taken_btwn_odstart_and_od_end[\"time_taken_btwn_odstart_and_od_end\"]))\n",
    "plt.subplot(122)\n",
    "sns.distplot((start_scan_to_end_scan[\"start_scan_to_end_scan\"]))"
   ]
  },
  {
   "cell_type": "code",
   "execution_count": 404,
   "id": "37179dee",
   "metadata": {
    "colab": {
     "base_uri": "https://localhost:8080/",
     "height": 0
    },
    "id": "37179dee",
    "outputId": "9ec7e31b-092d-4321-bf27-ef7b9c80df46"
   },
   "outputs": [
    {
     "data": {
      "text/plain": [
       "KstestResult(statistic=0.004184382803536474, pvalue=0.9994337058695081)"
      ]
     },
     "execution_count": 404,
     "metadata": {},
     "output_type": "execute_result"
    }
   ],
   "source": [
    "# KS-test : Checking the distributions how closely and equally they are : \n",
    "stats.ks_2samp(time_taken_btwn_odstart_and_od_end[\"time_taken_btwn_odstart_and_od_end\"], start_scan_to_end_scan[\"start_scan_to_end_scan\"])"
   ]
  },
  {
   "cell_type": "code",
   "execution_count": 405,
   "id": "h9ShVqdgGrJb",
   "metadata": {
    "colab": {
     "base_uri": "https://localhost:8080/",
     "height": 0
    },
    "id": "h9ShVqdgGrJb",
    "outputId": "e4bb64b2-261b-4f13-f25c-07f030ac98c6"
   },
   "outputs": [
    {
     "name": "stdout",
     "output_type": "stream",
     "text": [
      "Ttest_indResult(statistic=-6.13025093146916, pvalue=1.0543788619071279e-09)\n",
      "Ttest_indResult(statistic=-6.3527696643644616, pvalue=2.611464999798634e-10)\n",
      "Ttest_indResult(statistic=-4.759018622389678, pvalue=2.0848451906784816e-06)\n",
      "Ttest_indResult(statistic=-7.27375516000154, pvalue=4.99706559657236e-13)\n",
      "Ttest_indResult(statistic=-3.6693236342724114, pvalue=0.0002495645191259375)\n"
     ]
    }
   ],
   "source": [
    "for i in range(5):\n",
    "    print(stats.ttest_ind((actual_time[\"actual_time\"].sample(1000))\n",
    "                ,(time_taken_btwn_odstart_and_od_end[\"time_taken_btwn_odstart_and_od_end\"].sample(1000))))"
   ]
  },
  {
   "cell_type": "code",
   "execution_count": 406,
   "id": "pY1gFCb3Lhke",
   "metadata": {
    "colab": {
     "base_uri": "https://localhost:8080/",
     "height": 0
    },
    "id": "pY1gFCb3Lhke",
    "outputId": "541c4b14-5adb-4af1-a2f2-adcd84ea3e78"
   },
   "outputs": [
    {
     "name": "stdout",
     "output_type": "stream",
     "text": [
      "Reject H0\n"
     ]
    }
   ],
   "source": [
    "# You could use a two-sample t-test to test the hypothesis\n",
    "t, p = stats.ttest_ind((actual_time[\"actual_time\"].sample(1000))\n",
    "                ,(time_taken_btwn_odstart_and_od_end[\"time_taken_btwn_odstart_and_od_end\"].sample(1000)))\n",
    "\n",
    "# If p-value is less than 0.05, reject the null hypothesis\n",
    "if p < 0.05:\n",
    "    print(\"Reject H0\")\n",
    "else:\n",
    "    print(\"Fail to reject H0\")"
   ]
  },
  {
   "cell_type": "markdown",
   "id": "e4657fd9",
   "metadata": {
    "id": "e4657fd9"
   },
   "source": [
    "- from Kolmogorov–Smirnov test , p-value is 0.9943 , from which we can conclude tht both the distributions `(time_taken_btwn_odstart_and_od_end and start_scan_to_end_scan)` are closely similar.\n",
    "\n",
    "- from 2 sample t-test, we can also conclude that `average time_taken_btwn_odstart_and_od_end` for population is also equal to `average start_scan_to_end_scan` for population."
   ]
  },
  {
   "cell_type": "code",
   "execution_count": 407,
   "id": "2d477846",
   "metadata": {
    "colab": {
     "base_uri": "https://localhost:8080/",
     "height": 0
    },
    "id": "2d477846",
    "outputId": "adc8507e-4c4d-4fbc-b3ac-6ec34457fc0e"
   },
   "outputs": [
    {
     "data": {
      "text/plain": [
       "(8.861857235305113, 10.981665759990634)"
      ]
     },
     "execution_count": 407,
     "metadata": {},
     "output_type": "execute_result"
    }
   ],
   "source": [
    "# Also checking mean and standard deviation for Trip time: \n",
    "time_taken_btwn_odstart_and_od_end[\"time_taken_btwn_odstart_and_od_end\"].mean(),time_taken_btwn_odstart_and_od_end[\"time_taken_btwn_odstart_and_od_end\"].std()"
   ]
  },
  {
   "cell_type": "code",
   "execution_count": 408,
   "id": "3abcfd1c",
   "metadata": {
    "colab": {
     "base_uri": "https://localhost:8080/",
     "height": 0
    },
    "id": "3abcfd1c",
    "outputId": "2a2cae11-332d-4dd4-f209-af0903d0b8eb"
   },
   "outputs": [
    {
     "data": {
      "text/plain": [
       "(8.835777597804324, 10.976286391439693)"
      ]
     },
     "execution_count": 408,
     "metadata": {},
     "output_type": "execute_result"
    }
   ],
   "source": [
    "# Also checking mean and standard deviation for Scan time : \n",
    "start_scan_to_end_scan[\"start_scan_to_end_scan\"].mean(),start_scan_to_end_scan[\"start_scan_to_end_scan\"].std()"
   ]
  },
  {
   "cell_type": "markdown",
   "id": "cj9sDIE0nON4",
   "metadata": {
    "id": "cj9sDIE0nON4"
   },
   "source": [
    "- variance and mean both are closely similar for `trip start and end time` and `scan time`  "
   ]
  },
  {
   "cell_type": "code",
   "execution_count": 409,
   "id": "kPF_yBPfIKs4",
   "metadata": {
    "colab": {
     "base_uri": "https://localhost:8080/",
     "height": 280
    },
    "id": "kPF_yBPfIKs4",
    "outputId": "c3409433-a33d-44f2-8629-e2fd49b9069f"
   },
   "outputs": [
    {
     "data": {
      "image/png": "[encoded data removed]",
      "text/plain": [
       "<Figure size 640x480 with 1 Axes>"
      ]
     },
     "metadata": {},
     "output_type": "display_data"
    }
   ],
   "source": [
    "# Visual analysis\n",
    "# scatter plot to visualize the relationship between the two columns\n",
    "plt.scatter(time_taken_btwn_odstart_and_od_end[\"time_taken_btwn_odstart_and_od_end\"], start_scan_to_end_scan[\"start_scan_to_end_scan\"])\n",
    "plt.xlabel('time_taken_btwn_odstart_and_od_end')\n",
    "plt.ylabel('start_scan_to_end_scan')\n",
    "plt.show()"
   ]
  },
  {
   "cell_type": "markdown",
   "id": "64d28e9e",
   "metadata": {
    "id": "64d28e9e"
   },
   "source": [
    "## Analysing Actual Time taken to complete the delivery  &  start-scan-end-scan"
   ]
  },
  {
   "cell_type": "markdown",
   "id": "6ed223a6",
   "metadata": {
    "id": "6ed223a6"
   },
   "source": [
    "> #### H0: Mean of start and end scan time <=  Mean of Actual time taken to complete delivery \n",
    "> #### Ha: Mean of start and end scan time  > Mean of Actual time taken to complete delivery\n"
   ]
  },
  {
   "cell_type": "code",
   "execution_count": 410,
   "id": "33b06a38",
   "metadata": {
    "colab": {
     "base_uri": "https://localhost:8080/",
     "height": 352
    },
    "id": "33b06a38",
    "outputId": "b9f27aff-d3b9-44f3-9fde-da1acc0f57bc"
   },
   "outputs": [
    {
     "data": {
      "text/plain": [
       "<AxesSubplot: xlabel='start_scan_to_end_scan', ylabel='Density'>"
      ]
     },
     "execution_count": 410,
     "metadata": {},
     "output_type": "execute_result"
    },
    {
     "data": {
      "image/png": "[encoded data removed]",
      "text/plain": [
       "<Figure size 1500x500 with 2 Axes>"
      ]
     },
     "metadata": {},
     "output_type": "display_data"
    }
   ],
   "source": [
    "plt.figure(figsize=(15,5))\n",
    "plt.subplot(121)\n",
    "sns.distplot((actual_time[\"actual_time\"]))\n",
    "plt.subplot(122)\n",
    "sns.distplot((start_scan_to_end_scan[\"start_scan_to_end_scan\"]))"
   ]
  },
  {
   "cell_type": "code",
   "execution_count": 411,
   "id": "8f5876fb",
   "metadata": {
    "colab": {
     "base_uri": "https://localhost:8080/",
     "height": 0
    },
    "id": "8f5876fb",
    "outputId": "0a6dc94f-5ed1-46a2-9a87-4c3cf8125a93"
   },
   "outputs": [
    {
     "data": {
      "text/plain": [
       "KstestResult(statistic=0.27387460349598436, pvalue=0.0)"
      ]
     },
     "execution_count": 411,
     "metadata": {},
     "output_type": "execute_result"
    }
   ],
   "source": [
    "# KS-test : Checking the distributions how closely and equally they are\n",
    "stats.ks_2samp(actual_time[\"actual_time\"],start_scan_to_end_scan[\"start_scan_to_end_scan\"])"
   ]
  },
  {
   "cell_type": "code",
   "execution_count": 412,
   "id": "93a0a66c",
   "metadata": {
    "colab": {
     "base_uri": "https://localhost:8080/",
     "height": 0
    },
    "id": "93a0a66c",
    "outputId": "7b46a464-b8c4-4299-e387-87a7bffcee03"
   },
   "outputs": [
    {
     "name": "stdout",
     "output_type": "stream",
     "text": [
      "Ttest_indResult(statistic=-10.326967797817135, pvalue=4.288385585048058e-25)\n",
      "Ttest_indResult(statistic=-12.688138098347808, pvalue=1.0074497177490372e-36)\n",
      "Ttest_indResult(statistic=-11.052315143496797, pvalue=1.9929288943284576e-28)\n",
      "Ttest_indResult(statistic=-10.7314949636943, pvalue=6.30904552029196e-27)\n",
      "Ttest_indResult(statistic=-11.328429408667912, pvalue=9.434382197089143e-30)\n",
      "Ttest_indResult(statistic=-9.185331878545767, pvalue=2.7714317569816137e-20)\n",
      "Ttest_indResult(statistic=-9.669507871162713, pvalue=2.936361751225992e-22)\n"
     ]
    }
   ],
   "source": [
    "for i in range(7):\n",
    "    print(stats.ttest_ind((actual_time[\"actual_time\"].sample(3000))\n",
    "                ,(start_scan_to_end_scan[\"start_scan_to_end_scan\"].sample(3000)),alternative=\"less\"))"
   ]
  },
  {
   "cell_type": "code",
   "execution_count": 413,
   "id": "Lhzld1NgK3cz",
   "metadata": {
    "colab": {
     "base_uri": "https://localhost:8080/",
     "height": 0
    },
    "id": "Lhzld1NgK3cz",
    "outputId": "41525464-51a8-4ae3-df7e-43df83a9b920"
   },
   "outputs": [
    {
     "name": "stdout",
     "output_type": "stream",
     "text": [
      "Reject H0, average actual_time is less than population average start_scan_to_end_scan\n"
     ]
    }
   ],
   "source": [
    "# You could use a two-sample t-test to test the hypothesis\n",
    "t, p = stats.ttest_ind((actual_time[\"actual_time\"].sample(3000)), (start_scan_to_end_scan[\"start_scan_to_end_scan\"].sample(3000)),alternative=\"less\")\n",
    "\n",
    "# If p-value is less than 0.05, reject the null hypothesis\n",
    "if p < 0.05:\n",
    "    print(\"Reject H0, average actual_time is less than population average start_scan_to_end_scan\")\n",
    "else:\n",
    "    print(\"average actual_time is greater than or equal to population average start_scan_to_end_scan\")"
   ]
  },
  {
   "cell_type": "markdown",
   "id": "ffc5185e",
   "metadata": {
    "id": "ffc5185e"
   },
   "source": [
    "- from KS test for actual-time and start_scan_to_end_scan distributions are not same.\n",
    "\n",
    "- t test of population average actual_time is less than population average start_scan_to_end_scan."
   ]
  },
  {
   "cell_type": "code",
   "execution_count": 414,
   "id": "32a2ddd2",
   "metadata": {
    "colab": {
     "base_uri": "https://localhost:8080/",
     "height": 0
    },
    "id": "32a2ddd2",
    "outputId": "29d335e7-943b-4669-b1e7-9893ad4043e8"
   },
   "outputs": [
    {
     "data": {
      "text/plain": [
       "(5.945176711435065, 9.355547822973838)"
      ]
     },
     "execution_count": 414,
     "metadata": {},
     "output_type": "execute_result"
    }
   ],
   "source": [
    "actual_time[\"actual_time\"].mean(),actual_time[\"actual_time\"].std()"
   ]
  },
  {
   "cell_type": "code",
   "execution_count": 415,
   "id": "9035f4f9",
   "metadata": {
    "colab": {
     "base_uri": "https://localhost:8080/",
     "height": 0
    },
    "id": "9035f4f9",
    "outputId": "4ed20ef5-cdbf-4dd2-9166-dc25bb979721"
   },
   "outputs": [
    {
     "data": {
      "text/plain": [
       "(8.835777597804324, 10.976286391439693)"
      ]
     },
     "execution_count": 415,
     "metadata": {},
     "output_type": "execute_result"
    }
   ],
   "source": [
    "start_scan_to_end_scan[\"start_scan_to_end_scan\"].mean(),start_scan_to_end_scan[\"start_scan_to_end_scan\"].std()"
   ]
  },
  {
   "cell_type": "code",
   "execution_count": 416,
   "id": "UHo9jpoeKf91",
   "metadata": {
    "colab": {
     "base_uri": "https://localhost:8080/",
     "height": 279
    },
    "id": "UHo9jpoeKf91",
    "outputId": "e6c0a7d5-848d-4df4-a870-082b1ca4a393"
   },
   "outputs": [
    {
     "data": {
      "image/png": "[encoded data removed]",
      "text/plain": [
       "<Figure size 640x480 with 1 Axes>"
      ]
     },
     "metadata": {},
     "output_type": "display_data"
    }
   ],
   "source": [
    "# Visual analysis\n",
    "# scatter plot to visualize the relationship between the two columns\n",
    "plt.scatter(actual_time[\"actual_time\"],start_scan_to_end_scan[\"start_scan_to_end_scan\"])\n",
    "plt.xlabel('average time taken to complete delivery')\n",
    "plt.ylabel('average time taken to start and end scan')\n",
    "plt.show()"
   ]
  },
  {
   "cell_type": "markdown",
   "id": "f55a2ae0",
   "metadata": {
    "id": "f55a2ae0"
   },
   "source": [
    "## Analysing and Visulizing OSRM Estimated distance and Actual Distance between source and destination warehouse :"
   ]
  },
  {
   "cell_type": "markdown",
   "id": "a320b2a7",
   "metadata": {
    "id": "a320b2a7"
   },
   "source": [
    "> #### H0 : Mean OSRM distance <= Mean Actual distnace \n",
    "> #### Ha : Mean OSRM distance > Mean Actual distnace "
   ]
  },
  {
   "cell_type": "markdown",
   "id": "54b9bc18",
   "metadata": {
    "id": "54b9bc18"
   },
   "source": [
    "## After removing outliers from all numerical features :  "
   ]
  },
  {
   "cell_type": "code",
   "execution_count": 464,
   "id": "6eddc66c",
   "metadata": {
    "colab": {
     "base_uri": "https://localhost:8080/",
     "height": 869
    },
    "id": "6eddc66c",
    "outputId": "e3e86283-6e3f-4569-835b-d3327c8c177a"
   },
   "outputs": [
    {
     "data": {
      "text/html": [
       "<div>\n",
       "<style scoped>\n",
       "    .dataframe tbody tr th:only-of-type {\n",
       "        vertical-align: middle;\n",
       "    }\n",
       "\n",
       "    .dataframe tbody tr th {\n",
       "        vertical-align: top;\n",
       "    }\n",
       "\n",
       "    .dataframe thead th {\n",
       "        text-align: right;\n",
       "    }\n",
       "</style>\n",
       "<table border=\"1\" class=\"dataframe\">\n",
       "  <thead>\n",
       "    <tr style=\"text-align: right;\">\n",
       "      <th></th>\n",
       "      <th>trip_uuid</th>\n",
       "      <th>route_type</th>\n",
       "      <th>source_city</th>\n",
       "      <th>destination_city</th>\n",
       "      <th>source_city_state</th>\n",
       "      <th>destination_city_state</th>\n",
       "      <th>source_state</th>\n",
       "      <th>destination_state</th>\n",
       "      <th>segment_osrm_time</th>\n",
       "      <th>osrm_time</th>\n",
       "      <th>segment_actual_time</th>\n",
       "      <th>actual_time</th>\n",
       "      <th>time_taken_btwn_odstart_and_od_end</th>\n",
       "      <th>start_scan_to_end_scan</th>\n",
       "      <th>segment_osrm_distance</th>\n",
       "      <th>actual_distance_to_destination</th>\n",
       "      <th>osrm_distance</th>\n",
       "      <th>route_schedule_uuid</th>\n",
       "    </tr>\n",
       "  </thead>\n",
       "  <tbody>\n",
       "    <tr>\n",
       "      <th>0</th>\n",
       "      <td>trip-153671041653548748</td>\n",
       "      <td>FTL</td>\n",
       "      <td>Bhopal Kanpur</td>\n",
       "      <td>Kanpur Gurgaon</td>\n",
       "      <td>Bhopal Madhya Pradesh Kanpur Uttar Pradesh</td>\n",
       "      <td>Kanpur Uttar Pradesh Gurgaon Haryana</td>\n",
       "      <td>Madhya Pradesh Uttar Pradesh</td>\n",
       "      <td>Uttar Pradesh Haryana</td>\n",
       "      <td>16.800000</td>\n",
       "      <td>12.383333</td>\n",
       "      <td>25.800000</td>\n",
       "      <td>26.033333</td>\n",
       "      <td>37.668497</td>\n",
       "      <td>37.650000</td>\n",
       "      <td>1320.4733</td>\n",
       "      <td>824.732854</td>\n",
       "      <td>991.3523</td>\n",
       "      <td>thanos::sroute:d7c989ba-a29b-4a0b-b2f4-288cdc6...</td>\n",
       "    </tr>\n",
       "    <tr>\n",
       "      <th>1</th>\n",
       "      <td>trip-153671042288605164</td>\n",
       "      <td>Carting</td>\n",
       "      <td>Tumkur Doddablpur</td>\n",
       "      <td>Doddablpur Chikblapur</td>\n",
       "      <td>Tumkur Karnataka Doddablpur Karnataka</td>\n",
       "      <td>Doddablpur Karnataka Chikblapur Karnataka</td>\n",
       "      <td>Karnataka</td>\n",
       "      <td>Karnataka</td>\n",
       "      <td>1.083333</td>\n",
       "      <td>1.133333</td>\n",
       "      <td>2.350000</td>\n",
       "      <td>2.383333</td>\n",
       "      <td>3.026865</td>\n",
       "      <td>3.000000</td>\n",
       "      <td>84.1894</td>\n",
       "      <td>73.186911</td>\n",
       "      <td>85.1110</td>\n",
       "      <td>thanos::sroute:3a1b0ab2-bb0b-4c53-8c59-eb2a2c0...</td>\n",
       "    </tr>\n",
       "    <tr>\n",
       "      <th>3</th>\n",
       "      <td>trip-153671046011330457</td>\n",
       "      <td>Carting</td>\n",
       "      <td>Mumbai</td>\n",
       "      <td>Mumbai</td>\n",
       "      <td>Mumbai Hub Maharashtra</td>\n",
       "      <td>Mumbai Maharashtra</td>\n",
       "      <td>Hub Maharashtra</td>\n",
       "      <td>Maharashtra</td>\n",
       "      <td>0.266667</td>\n",
       "      <td>0.250000</td>\n",
       "      <td>0.983333</td>\n",
       "      <td>0.983333</td>\n",
       "      <td>1.674916</td>\n",
       "      <td>1.666667</td>\n",
       "      <td>19.8766</td>\n",
       "      <td>17.175274</td>\n",
       "      <td>19.6800</td>\n",
       "      <td>thanos::sroute:f0176492-a679-4597-8332-bbd1c7f...</td>\n",
       "    </tr>\n",
       "  </tbody>\n",
       "</table>\n",
       "</div>"
      ],
      "text/plain": [
       "                 trip_uuid route_type        source_city  \\\n",
       "0  trip-153671041653548748        FTL      Bhopal Kanpur   \n",
       "1  trip-153671042288605164    Carting  Tumkur Doddablpur   \n",
       "3  trip-153671046011330457    Carting             Mumbai   \n",
       "\n",
       "        destination_city                           source_city_state  \\\n",
       "0         Kanpur Gurgaon  Bhopal Madhya Pradesh Kanpur Uttar Pradesh   \n",
       "1  Doddablpur Chikblapur       Tumkur Karnataka Doddablpur Karnataka   \n",
       "3                 Mumbai                      Mumbai Hub Maharashtra   \n",
       "\n",
       "                      destination_city_state                  source_state  \\\n",
       "0       Kanpur Uttar Pradesh Gurgaon Haryana  Madhya Pradesh Uttar Pradesh   \n",
       "1  Doddablpur Karnataka Chikblapur Karnataka                     Karnataka   \n",
       "3                         Mumbai Maharashtra               Hub Maharashtra   \n",
       "\n",
       "       destination_state  segment_osrm_time  osrm_time  segment_actual_time  \\\n",
       "0  Uttar Pradesh Haryana          16.800000  12.383333            25.800000   \n",
       "1              Karnataka           1.083333   1.133333             2.350000   \n",
       "3            Maharashtra           0.266667   0.250000             0.983333   \n",
       "\n",
       "   actual_time  time_taken_btwn_odstart_and_od_end  start_scan_to_end_scan  \\\n",
       "0    26.033333                           37.668497               37.650000   \n",
       "1     2.383333                            3.026865                3.000000   \n",
       "3     0.983333                            1.674916                1.666667   \n",
       "\n",
       "   segment_osrm_distance  actual_distance_to_destination  osrm_distance  \\\n",
       "0              1320.4733                      824.732854       991.3523   \n",
       "1                84.1894                       73.186911        85.1110   \n",
       "3                19.8766                       17.175274        19.6800   \n",
       "\n",
       "                                 route_schedule_uuid  \n",
       "0  thanos::sroute:d7c989ba-a29b-4a0b-b2f4-288cdc6...  \n",
       "1  thanos::sroute:3a1b0ab2-bb0b-4c53-8c59-eb2a2c0...  \n",
       "3  thanos::sroute:f0176492-a679-4597-8332-bbd1c7f...  "
      ]
     },
     "execution_count": 464,
     "metadata": {},
     "output_type": "execute_result"
    }
   ],
   "source": [
    "trip_records_without_outliers = trip_records.loc[outlier_treatment_num[(np.abs(stats.zscore(outlier_treatment_num)) < 3).all(axis=1)].index]\n",
    "trip_records_without_outliers.head(3)"
   ]
  },
  {
   "cell_type": "code",
   "execution_count": 456,
   "id": "c90f4c0f",
   "metadata": {
    "id": "c90f4c0f"
   },
   "outputs": [],
   "source": [
    "trip_records_without_outliers = trip_records_without_outliers[['trip_uuid','route_type','source_city_state', 'destination_city_state','segment_osrm_time', 'osrm_time',\n",
    "       'segment_actual_time', 'actual_time',\n",
    "       'time_taken_btwn_odstart_and_od_end', 'start_scan_to_end_scan',\n",
    "       'segment_osrm_distance', 'actual_distance_to_destination',\n",
    "       'osrm_distance']]"
   ]
  },
  {
   "cell_type": "code",
   "execution_count": 465,
   "id": "a93e41cf",
   "metadata": {
    "colab": {
     "base_uri": "https://localhost:8080/",
     "height": 664
    },
    "id": "a93e41cf",
    "outputId": "dcf89440-5650-4d89-d3a2-01dde5e6550c"
   },
   "outputs": [
    {
     "data": {
      "image/png": "[encoded data removed]",
      "text/plain": [
       "<Figure size 800x600 with 2 Axes>"
      ]
     },
     "metadata": {},
     "output_type": "display_data"
    }
   ],
   "source": [
    "plt.figure(figsize = (8,6))\n",
    "plt.subplot(121)\n",
    "trip_records_without_outliers[['segment_osrm_time', 'osrm_time',\n",
    "       'segment_actual_time', 'actual_time',\n",
    "       'time_taken_btwn_odstart_and_od_end', 'start_scan_to_end_scan']].boxplot()\n",
    "plt.xticks(rotation =90)\n",
    "plt.subplot(122)\n",
    "trip_records_without_outliers[['segment_osrm_distance', 'actual_distance_to_destination',\n",
    "       'osrm_distance']].boxplot()\n",
    "plt.xticks(rotation =90)\n",
    "plt.show()"
   ]
  },
  {
   "cell_type": "code",
   "execution_count": 458,
   "id": "304fe8c5",
   "metadata": {},
   "outputs": [],
   "source": [
    "from sklearn.preprocessing import StandardScaler\n",
    "from sklearn.preprocessing import MinMaxScaler"
   ]
  },
  {
   "cell_type": "code",
   "execution_count": 459,
   "id": "1aee36ca",
   "metadata": {
    "colab": {
     "base_uri": "https://localhost:8080/",
     "height": 270
    },
    "id": "1aee36ca",
    "outputId": "b9df9f59-8c94-4115-cb89-68e35016d7cb"
   },
   "outputs": [
    {
     "data": {
      "text/html": [
       "<div>\n",
       "<style scoped>\n",
       "    .dataframe tbody tr th:only-of-type {\n",
       "        vertical-align: middle;\n",
       "    }\n",
       "\n",
       "    .dataframe tbody tr th {\n",
       "        vertical-align: top;\n",
       "    }\n",
       "\n",
       "    .dataframe thead th {\n",
       "        text-align: right;\n",
       "    }\n",
       "</style>\n",
       "<table border=\"1\" class=\"dataframe\">\n",
       "  <thead>\n",
       "    <tr style=\"text-align: right;\">\n",
       "      <th></th>\n",
       "      <th>segment_osrm_time</th>\n",
       "      <th>osrm_time</th>\n",
       "      <th>segment_actual_time</th>\n",
       "      <th>actual_time</th>\n",
       "      <th>time_taken_btwn_odstart_and_od_end</th>\n",
       "      <th>start_scan_to_end_scan</th>\n",
       "      <th>segment_osrm_distance</th>\n",
       "      <th>actual_distance_to_destination</th>\n",
       "      <th>osrm_distance</th>\n",
       "    </tr>\n",
       "  </thead>\n",
       "  <tbody>\n",
       "    <tr>\n",
       "      <th>0</th>\n",
       "      <td>-0.269133</td>\n",
       "      <td>-0.409683</td>\n",
       "      <td>-0.220225</td>\n",
       "      <td>-0.214843</td>\n",
       "      <td>-0.394178</td>\n",
       "      <td>-0.391956</td>\n",
       "      <td>-0.362747</td>\n",
       "      <td>-0.450888</td>\n",
       "      <td>-0.468190</td>\n",
       "    </tr>\n",
       "    <tr>\n",
       "      <th>1</th>\n",
       "      <td>-0.359785</td>\n",
       "      <td>-0.438916</td>\n",
       "      <td>-0.324535</td>\n",
       "      <td>-0.321822</td>\n",
       "      <td>-0.445632</td>\n",
       "      <td>-0.444397</td>\n",
       "      <td>-0.448864</td>\n",
       "      <td>-0.542288</td>\n",
       "      <td>-0.521446</td>\n",
       "    </tr>\n",
       "    <tr>\n",
       "      <th>2</th>\n",
       "      <td>-0.346835</td>\n",
       "      <td>-0.402374</td>\n",
       "      <td>-0.193306</td>\n",
       "      <td>-0.194785</td>\n",
       "      <td>-0.443566</td>\n",
       "      <td>-0.441900</td>\n",
       "      <td>-0.416136</td>\n",
       "      <td>-0.451494</td>\n",
       "      <td>-0.414618</td>\n",
       "    </tr>\n",
       "    <tr>\n",
       "      <th>3</th>\n",
       "      <td>-0.534615</td>\n",
       "      <td>-0.504692</td>\n",
       "      <td>-0.597087</td>\n",
       "      <td>-0.599297</td>\n",
       "      <td>-0.318061</td>\n",
       "      <td>-0.317039</td>\n",
       "      <td>-0.536543</td>\n",
       "      <td>-0.516196</td>\n",
       "      <td>-0.529763</td>\n",
       "    </tr>\n",
       "    <tr>\n",
       "      <th>4</th>\n",
       "      <td>-0.502239</td>\n",
       "      <td>-0.533926</td>\n",
       "      <td>-0.509601</td>\n",
       "      <td>-0.509034</td>\n",
       "      <td>-0.567441</td>\n",
       "      <td>-0.566761</td>\n",
       "      <td>-0.549293</td>\n",
       "      <td>-0.536356</td>\n",
       "      <td>-0.565995</td>\n",
       "    </tr>\n",
       "  </tbody>\n",
       "</table>\n",
       "</div>"
      ],
      "text/plain": [
       "   segment_osrm_time  osrm_time  segment_actual_time  actual_time  \\\n",
       "0          -0.269133  -0.409683            -0.220225    -0.214843   \n",
       "1          -0.359785  -0.438916            -0.324535    -0.321822   \n",
       "2          -0.346835  -0.402374            -0.193306    -0.194785   \n",
       "3          -0.534615  -0.504692            -0.597087    -0.599297   \n",
       "4          -0.502239  -0.533926            -0.509601    -0.509034   \n",
       "\n",
       "   time_taken_btwn_odstart_and_od_end  start_scan_to_end_scan  \\\n",
       "0                           -0.394178               -0.391956   \n",
       "1                           -0.445632               -0.444397   \n",
       "2                           -0.443566               -0.441900   \n",
       "3                           -0.318061               -0.317039   \n",
       "4                           -0.567441               -0.566761   \n",
       "\n",
       "   segment_osrm_distance  actual_distance_to_destination  osrm_distance  \n",
       "0              -0.362747                       -0.450888      -0.468190  \n",
       "1              -0.448864                       -0.542288      -0.521446  \n",
       "2              -0.416136                       -0.451494      -0.414618  \n",
       "3              -0.536543                       -0.516196      -0.529763  \n",
       "4              -0.549293                       -0.536356      -0.565995  "
      ]
     },
     "execution_count": 459,
     "metadata": {},
     "output_type": "execute_result"
    }
   ],
   "source": [
    "scaler = StandardScaler()\n",
    "std_data = scaler.fit_transform(encoded_data[['segment_osrm_time',\n",
    " 'osrm_time',\n",
    " 'segment_actual_time',\n",
    " 'actual_time',\n",
    " 'time_taken_btwn_odstart_and_od_end',\n",
    " 'start_scan_to_end_scan',\n",
    " 'segment_osrm_distance',\n",
    " 'actual_distance_to_destination',\n",
    " 'osrm_distance']])\n",
    "std_data = pd.DataFrame(std_data, columns=['segment_osrm_time',\n",
    " 'osrm_time',\n",
    " 'segment_actual_time',\n",
    " 'actual_time',\n",
    " 'time_taken_btwn_odstart_and_od_end',\n",
    " 'start_scan_to_end_scan',\n",
    " 'segment_osrm_distance',\n",
    " 'actual_distance_to_destination',\n",
    " 'osrm_distance'])\n",
    "std_data.head()"
   ]
  },
  {
   "cell_type": "code",
   "execution_count": 460,
   "id": "2f21eb84",
   "metadata": {
    "colab": {
     "base_uri": "https://localhost:8080/",
     "height": 270
    },
    "id": "2f21eb84",
    "outputId": "adc12a9f-477f-451e-d04d-8f9255b8f94c"
   },
   "outputs": [
    {
     "data": {
      "text/html": [
       "<div>\n",
       "<style scoped>\n",
       "    .dataframe tbody tr th:only-of-type {\n",
       "        vertical-align: middle;\n",
       "    }\n",
       "\n",
       "    .dataframe tbody tr th {\n",
       "        vertical-align: top;\n",
       "    }\n",
       "\n",
       "    .dataframe thead th {\n",
       "        text-align: right;\n",
       "    }\n",
       "</style>\n",
       "<table border=\"1\" class=\"dataframe\">\n",
       "  <thead>\n",
       "    <tr style=\"text-align: right;\">\n",
       "      <th></th>\n",
       "      <th>segment_osrm_time</th>\n",
       "      <th>osrm_time</th>\n",
       "      <th>segment_actual_time</th>\n",
       "      <th>actual_time</th>\n",
       "      <th>time_taken_btwn_odstart_and_od_end</th>\n",
       "      <th>start_scan_to_end_scan</th>\n",
       "      <th>segment_osrm_distance</th>\n",
       "      <th>actual_distance_to_destination</th>\n",
       "      <th>osrm_distance</th>\n",
       "    </tr>\n",
       "  </thead>\n",
       "  <tbody>\n",
       "    <tr>\n",
       "      <th>0</th>\n",
       "      <td>0.069369</td>\n",
       "      <td>0.059302</td>\n",
       "      <td>0.098113</td>\n",
       "      <td>0.098719</td>\n",
       "      <td>0.098792</td>\n",
       "      <td>0.098811</td>\n",
       "      <td>0.046420</td>\n",
       "      <td>0.031804</td>\n",
       "      <td>0.036747</td>\n",
       "    </tr>\n",
       "    <tr>\n",
       "      <th>1</th>\n",
       "      <td>0.056757</td>\n",
       "      <td>0.054651</td>\n",
       "      <td>0.081402</td>\n",
       "      <td>0.081644</td>\n",
       "      <td>0.090329</td>\n",
       "      <td>0.090201</td>\n",
       "      <td>0.034665</td>\n",
       "      <td>0.018854</td>\n",
       "      <td>0.028743</td>\n",
       "    </tr>\n",
       "    <tr>\n",
       "      <th>2</th>\n",
       "      <td>0.058559</td>\n",
       "      <td>0.060465</td>\n",
       "      <td>0.102426</td>\n",
       "      <td>0.101921</td>\n",
       "      <td>0.090669</td>\n",
       "      <td>0.090611</td>\n",
       "      <td>0.039132</td>\n",
       "      <td>0.031718</td>\n",
       "      <td>0.044799</td>\n",
       "    </tr>\n",
       "    <tr>\n",
       "      <th>3</th>\n",
       "      <td>0.032432</td>\n",
       "      <td>0.044186</td>\n",
       "      <td>0.037736</td>\n",
       "      <td>0.037353</td>\n",
       "      <td>0.111311</td>\n",
       "      <td>0.111111</td>\n",
       "      <td>0.022697</td>\n",
       "      <td>0.022551</td>\n",
       "      <td>0.027493</td>\n",
       "    </tr>\n",
       "    <tr>\n",
       "      <th>4</th>\n",
       "      <td>0.036937</td>\n",
       "      <td>0.039535</td>\n",
       "      <td>0.051752</td>\n",
       "      <td>0.051761</td>\n",
       "      <td>0.070296</td>\n",
       "      <td>0.070111</td>\n",
       "      <td>0.020957</td>\n",
       "      <td>0.019694</td>\n",
       "      <td>0.022047</td>\n",
       "    </tr>\n",
       "  </tbody>\n",
       "</table>\n",
       "</div>"
      ],
      "text/plain": [
       "   segment_osrm_time  osrm_time  segment_actual_time  actual_time  \\\n",
       "0           0.069369   0.059302             0.098113     0.098719   \n",
       "1           0.056757   0.054651             0.081402     0.081644   \n",
       "2           0.058559   0.060465             0.102426     0.101921   \n",
       "3           0.032432   0.044186             0.037736     0.037353   \n",
       "4           0.036937   0.039535             0.051752     0.051761   \n",
       "\n",
       "   time_taken_btwn_odstart_and_od_end  start_scan_to_end_scan  \\\n",
       "0                            0.098792                0.098811   \n",
       "1                            0.090329                0.090201   \n",
       "2                            0.090669                0.090611   \n",
       "3                            0.111311                0.111111   \n",
       "4                            0.070296                0.070111   \n",
       "\n",
       "   segment_osrm_distance  actual_distance_to_destination  osrm_distance  \n",
       "0               0.046420                        0.031804       0.036747  \n",
       "1               0.034665                        0.018854       0.028743  \n",
       "2               0.039132                        0.031718       0.044799  \n",
       "3               0.022697                        0.022551       0.027493  \n",
       "4               0.020957                        0.019694       0.022047  "
      ]
     },
     "execution_count": 460,
     "metadata": {},
     "output_type": "execute_result"
    }
   ],
   "source": [
    "scaler = MinMaxScaler()\n",
    "MinMax_data = scaler.fit_transform(encoded_data[['segment_osrm_time','osrm_time','segment_actual_time','actual_time',\n",
    " 'time_taken_btwn_odstart_and_od_end','start_scan_to_end_scan','segment_osrm_distance','actual_distance_to_destination',\n",
    " 'osrm_distance']])\n",
    "MinMax_data = pd.DataFrame(MinMax_data,columns=['segment_osrm_time',\n",
    " 'osrm_time','segment_actual_time','actual_time','time_taken_btwn_odstart_and_od_end','start_scan_to_end_scan',\n",
    " 'segment_osrm_distance','actual_distance_to_destination','osrm_distance'])\n",
    "MinMax_data.head()"
   ]
  },
  {
   "cell_type": "code",
   "execution_count": 466,
   "id": "871b6ba4",
   "metadata": {
    "colab": {
     "base_uri": "https://localhost:8080/",
     "height": 487
    },
    "id": "871b6ba4",
    "outputId": "4a86cc56-6a63-4a18-85bc-13ae8782fae2"
   },
   "outputs": [
    {
     "data": {
      "text/html": [
       "<div>\n",
       "<style scoped>\n",
       "    .dataframe tbody tr th:only-of-type {\n",
       "        vertical-align: middle;\n",
       "    }\n",
       "\n",
       "    .dataframe tbody tr th {\n",
       "        vertical-align: top;\n",
       "    }\n",
       "\n",
       "    .dataframe thead th {\n",
       "        text-align: right;\n",
       "    }\n",
       "</style>\n",
       "<table border=\"1\" class=\"dataframe\">\n",
       "  <thead>\n",
       "    <tr style=\"text-align: right;\">\n",
       "      <th></th>\n",
       "      <th>segment_osrm_time</th>\n",
       "      <th>osrm_time</th>\n",
       "      <th>segment_actual_time</th>\n",
       "      <th>actual_time</th>\n",
       "      <th>time_taken_btwn_odstart_and_od_end</th>\n",
       "      <th>start_scan_to_end_scan</th>\n",
       "      <th>segment_osrm_distance</th>\n",
       "      <th>actual_distance_to_destination</th>\n",
       "      <th>osrm_distance</th>\n",
       "    </tr>\n",
       "  </thead>\n",
       "  <tbody>\n",
       "    <tr>\n",
       "      <th>0</th>\n",
       "      <td>-0.269133</td>\n",
       "      <td>-0.409683</td>\n",
       "      <td>-0.220225</td>\n",
       "      <td>-0.214843</td>\n",
       "      <td>-0.394178</td>\n",
       "      <td>-0.391956</td>\n",
       "      <td>-0.362747</td>\n",
       "      <td>-0.450888</td>\n",
       "      <td>-0.468190</td>\n",
       "    </tr>\n",
       "    <tr>\n",
       "      <th>1</th>\n",
       "      <td>-0.359785</td>\n",
       "      <td>-0.438916</td>\n",
       "      <td>-0.324535</td>\n",
       "      <td>-0.321822</td>\n",
       "      <td>-0.445632</td>\n",
       "      <td>-0.444397</td>\n",
       "      <td>-0.448864</td>\n",
       "      <td>-0.542288</td>\n",
       "      <td>-0.521446</td>\n",
       "    </tr>\n",
       "    <tr>\n",
       "      <th>2</th>\n",
       "      <td>-0.346835</td>\n",
       "      <td>-0.402374</td>\n",
       "      <td>-0.193306</td>\n",
       "      <td>-0.194785</td>\n",
       "      <td>-0.443566</td>\n",
       "      <td>-0.441900</td>\n",
       "      <td>-0.416136</td>\n",
       "      <td>-0.451494</td>\n",
       "      <td>-0.414618</td>\n",
       "    </tr>\n",
       "  </tbody>\n",
       "</table>\n",
       "</div>"
      ],
      "text/plain": [
       "   segment_osrm_time  osrm_time  segment_actual_time  actual_time  \\\n",
       "0          -0.269133  -0.409683            -0.220225    -0.214843   \n",
       "1          -0.359785  -0.438916            -0.324535    -0.321822   \n",
       "2          -0.346835  -0.402374            -0.193306    -0.194785   \n",
       "\n",
       "   time_taken_btwn_odstart_and_od_end  start_scan_to_end_scan  \\\n",
       "0                           -0.394178               -0.391956   \n",
       "1                           -0.445632               -0.444397   \n",
       "2                           -0.443566               -0.441900   \n",
       "\n",
       "   segment_osrm_distance  actual_distance_to_destination  osrm_distance  \n",
       "0              -0.362747                       -0.450888      -0.468190  \n",
       "1              -0.448864                       -0.542288      -0.521446  \n",
       "2              -0.416136                       -0.451494      -0.414618  "
      ]
     },
     "execution_count": 466,
     "metadata": {},
     "output_type": "execute_result"
    }
   ],
   "source": [
    "std_data.head(3)"
   ]
  },
  {
   "cell_type": "markdown",
   "id": "ed7794a9",
   "metadata": {
    "id": "ed7794a9"
   },
   "source": [
    "# Route analysis : "
   ]
  },
  {
   "cell_type": "code",
   "execution_count": null,
   "id": "20b63942",
   "metadata": {
    "id": "20b63942"
   },
   "outputs": [],
   "source": [
    "A = data.groupby(\"route_schedule_uuid\")[\"route_type\"].unique().reset_index()\n",
    "B = data.groupby(\"route_schedule_uuid\")[\"destination_city\"].unique().reset_index()\n",
    "B.columns = [\"route_schedule_uuid\",\"destination_cities\"]\n",
    "C = data.groupby(\"route_schedule_uuid\")[\"source_city\"].unique().reset_index()\n",
    "C.columns = [\"route_schedule_uuid\",\"source_cities\"]\n",
    "D = data.groupby(\"route_schedule_uuid\")[\"source_state\"].unique().reset_index()\n",
    "D.columns = [\"route_schedule_uuid\",\"source_states\"]\n",
    "E = data.groupby(\"route_schedule_uuid\")[\"destination_state\"].unique().reset_index()\n",
    "E.columns = [\"route_schedule_uuid\",\"destination_states\"]\n",
    "F = data.groupby(\"route_schedule_uuid\")[[\"source_state\",\n",
    "                                         \"destination_state\"]].nunique().sort_values(by=\"source_state\",\n",
    "                                                                                     ascending=False).reset_index()\n",
    "F.columns = [\"route_schedule_uuid\",\"#source_states\"\n",
    "             ,\"#destination_states\"]\n",
    "G = trip_records.groupby(\"route_schedule_uuid\")[\"actual_distance_to_destination\"].mean().reset_index()\n",
    "G.columns = [\"route_schedule_uuid\",\"Average_Actual_distance_to_destination\"]\n",
    "H = trip_records[\"route_schedule_uuid\"].value_counts().reset_index()\n",
    "H.columns = [\"route_schedule_uuid\",\"Number_of_Trips\"]"
   ]
  },
  {
   "cell_type": "code",
   "execution_count": null,
   "id": "9ceb81b8",
   "metadata": {
    "id": "9ceb81b8"
   },
   "outputs": [],
   "source": [
    "I = data.groupby(\"route_schedule_uuid\")[[\"source_city\",\n",
    "                                         \"destination_city\"]].nunique().sort_values(by=\"source_city\",\n",
    "                                                                                     ascending=False).reset_index()\n",
    "I.columns = [\"route_schedule_uuid\",\"#source_cities\"\n",
    "             ,\"#destination_cities\"]"
   ]
  },
  {
   "cell_type": "code",
   "execution_count": null,
   "id": "794e7346",
   "metadata": {
    "id": "794e7346"
   },
   "outputs": [],
   "source": [
    "route_records = I.merge(H.merge(G.merge(F.merge(E.merge(D.merge(C.merge(A.merge(B,\n",
    "        on =\"route_schedule_uuid\",\n",
    "        how = \"outer\"),on =\"route_schedule_uuid\",\n",
    "        how = \"outer\"),\n",
    "       on =\"route_schedule_uuid\",\n",
    "        how = \"outer\"),\n",
    "       on =\"route_schedule_uuid\",\n",
    "        how = \"outer\"),\n",
    "       on =\"route_schedule_uuid\",\n",
    "        how = \"outer\"),\n",
    "       on =\"route_schedule_uuid\",\n",
    "        how = \"outer\"),\n",
    "       on =\"route_schedule_uuid\",\n",
    "        how = \"outer\"),on =\"route_schedule_uuid\",\n",
    "        how = \"outer\")"
   ]
  },
  {
   "cell_type": "markdown",
   "id": "ad10906f",
   "metadata": {
    "id": "ad10906f"
   },
   "source": [
    "##  Exploratory Data Analysis : ( getting some  insights from preprocessed data ) : "
   ]
  },
  {
   "cell_type": "markdown",
   "id": "081ea7aa",
   "metadata": {
    "id": "081ea7aa"
   },
   "source": [
    "# Busiest and Longest Routes : "
   ]
  },
  {
   "cell_type": "code",
   "execution_count": null,
   "id": "9b77a50d",
   "metadata": {
    "id": "9b77a50d"
   },
   "outputs": [],
   "source": [
    "Busiest_and_Longest_Routes  = route_records[(route_records[\"Average_Actual_distance_to_destination\"] > route_records[\"Average_Actual_distance_to_destination\"].quantile(0.75)) \n",
    "              & (route_records[\"Number_of_Trips\"] > route_records[\"Number_of_Trips\"].quantile(0.75))].sort_values(by=\"Average_Actual_distance_to_destination\"\n",
    "                                                                                                                  ,ascending=False)"
   ]
  },
  {
   "cell_type": "code",
   "execution_count": null,
   "id": "56b5034d",
   "metadata": {
    "colab": {
     "base_uri": "https://localhost:8080/",
     "height": 833
    },
    "id": "56b5034d",
    "outputId": "c1403b54-0a29-48e0-c63f-7c1149d9c444"
   },
   "outputs": [],
   "source": [
    "Busiest_and_Longest_Routes_top25 = Busiest_and_Longest_Routes[[\"source_cities\",\n",
    "                                                               \"destination_cities\",\n",
    "                                                               \"Number_of_Trips\",\n",
    "                                                               \"Average_Actual_distance_to_destination\"]].head(25)\n",
    "Busiest_and_Longest_Routes_top25"
   ]
  },
  {
   "cell_type": "markdown",
   "id": "d4e4a0ab",
   "metadata": {
    "id": "d4e4a0ab"
   },
   "source": [
    "> #### Above Table shows the souce to destination city routes having largest numbers of trip happening having large distnaces :\n",
    "    which are : Chandigarh TO Bengaluru\n",
    "                Gurgaon TO Bengaluru\n",
    "                Bengaluru TO Kolkata\n",
    "                Guwahati TO Delhi\n",
    "                Delhi  TO Kolkata\n",
    "                Chandigarh TO Gurgaon \n",
    "                Gurgaon TO Hydrabad\n",
    "                Benglore TO Ahmedabad\n",
    "                Surat TO Delhi\n",
    "                Gurgaon TO Ahmedabad"
   ]
  },
  {
   "cell_type": "code",
   "execution_count": null,
   "id": "dcc0038f",
   "metadata": {
    "id": "dcc0038f"
   },
   "outputs": [],
   "source": [
    "Busiest_and_Longest_Routes_top25[\"Route\"] = Busiest_and_Longest_Routes_top25[\"source_cities\"].str.split(\" \").apply(lambda x:x[0]) + \" TO \" + Busiest_and_Longest_Routes_top25[\"destination_cities\"].str.split(\" \").apply(lambda x:x[-1])"
   ]
  },
  {
   "cell_type": "code",
   "execution_count": null,
   "id": "fac10dc6",
   "metadata": {
    "id": "fac10dc6"
   },
   "outputs": [],
   "source": [
    "Busiest_and_Longest_Routes_top25.drop([\"source_cities\",\"destination_cities\"],axis = 1,inplace=True)\n"
   ]
  },
  {
   "cell_type": "code",
   "execution_count": null,
   "id": "088d201f",
   "metadata": {
    "colab": {
     "base_uri": "https://localhost:8080/",
     "height": 580
    },
    "id": "088d201f",
    "outputId": "ceee9072-9641-4035-d66a-9516348733db",
    "scrolled": false
   },
   "outputs": [],
   "source": [
    "plt.figure(figsize=(18,7))\n",
    "\n",
    "plt.subplot(121)\n",
    "plt.title(\"Number of trips per route\")\n",
    "sns.barplot(x=Busiest_and_Longest_Routes_top25[\"Route\"],\n",
    "           y = Busiest_and_Longest_Routes_top25[\"Number_of_Trips\"])\n",
    "plt.xticks(rotation = 90)\n",
    "plt.subplot(122)\n",
    "plt.title(\"Routes as per Distances between source and destination locations\")\n",
    "sns.barplot(x=Busiest_and_Longest_Routes_top25[\"Route\"],\n",
    "           y= Busiest_and_Longest_Routes_top25[\"Average_Actual_distance_to_destination\"])\n",
    "plt.xticks(rotation = 90)\n",
    "plt.show()"
   ]
  },
  {
   "cell_type": "markdown",
   "id": "7e33685f",
   "metadata": {
    "id": "7e33685f"
   },
   "source": [
    "## Routes : passing through maxinum number of cities : "
   ]
  },
  {
   "cell_type": "code",
   "execution_count": null,
   "id": "414cf842",
   "metadata": {
    "colab": {
     "base_uri": "https://localhost:8080/",
     "height": 833
    },
    "id": "414cf842",
    "outputId": "70dd961c-845b-46ce-9d29-20523c39ee7d"
   },
   "outputs": [],
   "source": [
    "route_records[[\"SouceToDestination_city\",\"Number_of_Trips\",\n",
    "               \"Average_Actual_distance_to_destination\",\n",
    "               \"#source_cities\",\n",
    "               \"#destination_cities\"]].sort_values(by=[\"#source_cities\",\n",
    "                                                       \"#destination_cities\",\n",
    "                                                       \"Number_of_Trips\"]\n",
    "                                                   ,ascending=False).head(25)"
   ]
  },
  {
   "cell_type": "markdown",
   "id": "0617b7ec",
   "metadata": {
    "id": "0617b7ec"
   },
   "source": [
    "### Top 20 warehouses with heavy traffic : "
   ]
  },
  {
   "cell_type": "code",
   "execution_count": null,
   "id": "2c34e197",
   "metadata": {
    "id": "2c34e197"
   },
   "outputs": [],
   "source": [
    "destination_traffic = data.groupby([\"destination_city_state\"])[\"trip_uuid\"].nunique().reset_index()\n",
    "source_traffic = data.groupby([\"source_city_state\"])[\"trip_uuid\"].nunique().reset_index()\n",
    "transactions = source_traffic.merge(destination_traffic,\n",
    "                               left_on=\"source_city_state\"\n",
    "                               ,right_on=\"destination_city_state\")\n",
    "transactions.columns = [\"source_city_state\",\"#Trips_s\",\"destination_city_state\",\"#Trips_d\"]\n",
    "transactions[\"TripsTraffic\"] = transactions[\"#Trips_s\"]+transactions[\"#Trips_d\"]\n",
    "transactions.drop([\"#Trips_s\",\"#Trips_d\",\"destination_city_state\"],axis = 1,inplace=True)\n",
    "transactions.columns = [\"Warehouse_City(Junction)\",\"TripsTraffic\"]"
   ]
  },
  {
   "cell_type": "code",
   "execution_count": null,
   "id": "a958bf00",
   "metadata": {
    "id": "a958bf00"
   },
   "outputs": [],
   "source": [
    "T = transactions.sort_values(by=[\"TripsTraffic\"],ascending=False).head(20)\n"
   ]
  },
  {
   "cell_type": "code",
   "execution_count": null,
   "id": "456df84e",
   "metadata": {
    "colab": {
     "base_uri": "https://localhost:8080/",
     "height": 513
    },
    "id": "456df84e",
    "outputId": "42bf8948-8e46-400f-90e7-50f020cd4336"
   },
   "outputs": [],
   "source": [
    "plt.figure(figsize=(11,8))\n",
    "sns.barplot(y = T[\"Warehouse_City(Junction)\"],\n",
    "           x = T[\"TripsTraffic\"])\n",
    "plt.title(\"Trips Traffic per Warehouse(for particular city)\")\n",
    "plt.show()"
   ]
  },
  {
   "cell_type": "markdown",
   "id": "96f52a4a",
   "metadata": {
    "id": "96f52a4a"
   },
   "source": [
    "> #### Top 20 Busiest Warehouse (junctions) as per trips traffic at the juction : are\n",
    " 'Bengaluru Karnataka',\n",
    " 'Gurgaon Haryana',\n",
    " 'Mumbai Maharashtra',\n",
    " 'Bhiwandi Maharashtra',\n",
    " 'Hyderabad Telangana',\n",
    " 'Delhi Delhi',\n",
    " 'Pune Maharashtra',\n",
    " 'Chandigarh Punjab',\n",
    " 'Chennai Tamil Nadu',\n",
    " 'Sonipat Haryana',\n",
    " 'Kolkata West Bengal',\n",
    " 'Ahmedabad Gujarat',\n",
    " 'MAA Tamil Nadu',\n",
    " 'Jaipur Rajasthan',\n",
    " 'Kanpur Uttar Pradesh',\n",
    " 'Surat Gujarat',\n",
    " 'Muzaffrpur Bihar',\n",
    " 'FBD Haryana',\n",
    " 'Bhopal Madhya Pradesh',\n",
    " 'Noida Uttar Pradesh'\n",
    "        "
   ]
  },
  {
   "cell_type": "code",
   "execution_count": null,
   "id": "9e9e083f",
   "metadata": {
    "colab": {
     "base_uri": "https://localhost:8080/",
     "height": 519
    },
    "id": "9e9e083f",
    "outputId": "98d81f75-625d-4f08-95be-54f7aeef42e1"
   },
   "outputs": [],
   "source": [
    "trip_records.groupby([\"source_state\",\"destination_state\"])[\"trip_uuid\"].count().sort_values(ascending=False).head(15).reset_index()"
   ]
  },
  {
   "cell_type": "markdown",
   "id": "6ed03c4b",
   "metadata": {
    "id": "6ed03c4b"
   },
   "source": [
    "# Inferences and Recommendations : "
   ]
  },
  {
   "cell_type": "markdown",
   "id": "c2ff282d",
   "metadata": {
    "id": "c2ff282d"
   },
   "source": [
    "## Insights and Observations : \n",
    "\n",
    "- 14817 different trips happened between source to destinations during 2018 , September and October.\n",
    "- 1504 delivery routes on which trips are happenig.\n",
    "- we have 1508 unique source centers and 1481 unique destination centers\n",
    "\n",
    "\n",
    "- From 14817 total different trips , we have  8908 (60%) of the trip-routes are Carting , which consists of small vehicles and 5909 (40%) of total trip-routes are FTL : which are Full Truck Load get to the destination sooner. as no other pickups or drop offs along the way .\n",
    "\n",
    "#### Hypothesis tests Results : \n",
    "  - from 2 sample t-test ,we can also conclude that \n",
    "  \n",
    "  - Average time_taken_btwn_odstart_and_od_end for population is equal to Average start_scan_to_end_scan for population.\n",
    "\n",
    "  - population average actual_time is less than population average start_scan_to_end_scan.\n",
    "\n",
    "  - population mean Actual time taken to complete delivery and population mean time_taken_btwn_od_start_and_od_end are also not same.\n",
    "\n",
    "  - Mean of actual time is higher than Mean of the OSRM estimated time for delivery\n",
    "\n",
    "  - Population average for Actual Time taken to complete delivery trip and segment actual time are same.\n",
    "\n",
    "  - Average of OSRM Time & segment-osrm-time for population is not same.\n",
    "  \n",
    "  - Population Mean osrm time is less than Population Mean segment osrm time.\n",
    "\n",
    "  - Average of OSRM distance for population is less than average of segment OSRM distance\n",
    "\n",
    "  - population OSRM estimated distance is higher than the actual distance from source to destination warehouse.\n",
    "\n",
    "\n",
    "\n",
    "#### From Exploratory Data Analysis\n",
    "\n",
    "\n",
    "- we can observe that Mumbai Maharashtra ,Delhi , Gurgaon(Haryana),Bengaluru Karnataka ,Hyderabad Telangana, Chennai Tamil Nadu, Ahmedabad-Gujarat, Pune Maharashtra, Chandigarh Chandigarh and Kolkata West Bengal are some cities have higest amount of trips happening states with in the city. \n",
    "- If we talk about , not having equal source and destination states , source and destination cities having higest number of trips in between are : Delhi TO Gurgao ,  Gurgaon  TO Bengaluru ,  Bhiwandi/Mumbai TO Pune Maharashtra ,    Sonipat TO    Gurgaon,Haryana\n",
    "- It is also been observed that lots of deliveries are happening to airpots  like : Chennai to MAA chennai international Airport , Pune to Pune Airport (PNQ),Kolkata to    CCU West Bengal Kolkata International Airport , Bengluru to BLR-Bengaluru International Airport etc. \n",
    "\n",
    "\n",
    "\n",
    "- From Bar charts , and calculated tables in analysis , we can observe that higest trips are happening is with in the particular cities, in terms of average distance between destinations , we can observe Guwahati to Mumbai , Benglore to Chandigarh ,Benglore to Delhi , Benglore to Gurgaon are the longest routes.\n",
    "\n",
    "- #### the souce to destination city routes having largest numbers of trip happening having large distnaces\n",
    "    - Guwahati TO Bhiwandi, Bengaluru TO Chandigarh, Bengaluru TO Delhi,Gurgaon TO MAA Chennai Airport,Bhiwandi TO Kolkata, Bengaluru TO Kolkata, Gurgaon TO Hyderabad, Gurgaon TO Kolkata\n",
    "\n",
    "\n",
    "#### the routes which covered multiple cities in between source and destination :\n",
    "- Most covered cities routes are : Guwahati TO LakhimpurN , Jaipur TO Tarnau , Guwahati TO Tura , Mangalore TO Udupi , Ajmer TO Raipur , Mainpuri TO Tilhar . which passes through  more than 8 cities.\n",
    "\n",
    "#### Routes which are busiest from source to destinations and states in which highest activities are noticed :\n",
    "- Delhi to Haryana is the busiest route, having more than 400 trips in between. Some of such busy routes are Haryana to Uttar Pradesh , Chandigarh to Punjab , Delhi to Uttar Pradesh . \n",
    "- Within the state , Maharashtra , Karnataka, Tamil Nadu, Haryana, Telangana, Gujarat , West Benglore and Uttar Pradesh are some states having above 1000 trips.\n",
    "\n",
    "\n",
    "#### From above chart are some warehouse having Maximum traffic and hence busiest junctions. \n",
    "- Bengaluru Karnataka, Gurgaon Haryana, Mumbai Maharashtra, Hyderabad Telangana, Delhi, Pune Maharashtra, Chandigarh Punjab, Chennai Tamil Nadu, Sonipat Haryana, Kolkata West Bengal, Ahmedabad Gujarat, MAA Tamil Nadu, Jaipur Rajasthan, Kanpur Uttar Pradesh, Surat Gujarat, Muzaffrpur Bihar, FBD Haryana, Bhopal Madhya Pradesh, Noida Uttar Pradesh.\n",
    "\n",
    "## Recommendations : \n",
    "\n",
    "- As per analysis, It is recommended to use Carting (small vehicles) for delivery with in the city in order to reduce the delivery time, and Heavy trucks for long distance trips or heavy load. based on this , we can optimize the delivery time as well as increase the revenue as per requirements. \n",
    "- Incresing the connectivity in tier 2 and tier 3 cities along with profession tie-ups with several e-commerce giants can increase the revenue as well as the reputation on connectivity across borders. \n",
    "- We can work on  optimizing the scanning time on both ends which is start scanning time and end scanning time so that the delivery time can be equated to the OSRM estimated delivery time.\n",
    "\n"
   ]
  }
 ],
 "metadata": {
  "colab": {
   "provenance": []
  },
  "kernelspec": {
   "display_name": "Python 3 (ipykernel)",
   "language": "python",
   "name": "python3"
  },
  "language_info": {
   "codemirror_mode": {
    "name": "ipython",
    "version": 3
   },
   "file_extension": ".py",
   "mimetype": "text/x-python",
   "name": "python",
   "nbconvert_exporter": "python",
   "pygments_lexer": "ipython3",
   "version": "3.9.7"
  }
 },
 "nbformat": 4,
 "nbformat_minor": 5
}
