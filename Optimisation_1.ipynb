{
 "cells": [
  {
   "cell_type": "code",
   "execution_count": 2,
   "id": "47dea640",
   "metadata": {},
   "outputs": [],
   "source": [
    "import numpy as np\n",
    "import matplotlib.pyplot as plt"
   ]
  },
  {
   "cell_type": "code",
   "execution_count": 3,
   "id": "3dc26cc8",
   "metadata": {},
   "outputs": [],
   "source": [
    "def f(x):\n",
    "    if x<3:\n",
    "        return 2\n",
    "    else:\n",
    "        return 5"
   ]
  },
  {
   "cell_type": "code",
   "execution_count": 27,
   "id": "7fa8cad0",
   "metadata": {},
   "outputs": [],
   "source": [
    "def f(x):\n",
    "    if x<3:\n",
    "        return 1/x\n",
    "    else:\n",
    "        return x+1"
   ]
  },
  {
   "cell_type": "code",
   "execution_count": 30,
   "id": "a1317710",
   "metadata": {},
   "outputs": [],
   "source": [
    "x_values = np.linspace(0.1, 7, num=50)\n",
    "y_values = [f(x) for x in x_values]"
   ]
  },
  {
   "cell_type": "code",
   "execution_count": 31,
   "id": "5034f3ff",
   "metadata": {},
   "outputs": [
    {
     "data": {
      "text/plain": [
       "[<matplotlib.lines.Line2D at 0x7fbdb8e4b9a0>]"
      ]
     },
     "execution_count": 31,
     "metadata": {},
     "output_type": "execute_result"
    },
    {
     "data": {
      "image/png": "[encoded data removed]",
      "text/plain": [
       "<Figure size 432x288 with 1 Axes>"
      ]
     },
     "metadata": {
      "needs_background": "light"
     },
     "output_type": "display_data"
    }
   ],
   "source": [
    "plt.plot(x_values, y_values)"
   ]
  },
  {
   "cell_type": "code",
   "execution_count": null,
   "id": "d97d510a",
   "metadata": {},
   "outputs": [],
   "source": []
  },
  {
   "cell_type": "code",
   "execution_count": 32,
   "id": "56f9e887",
   "metadata": {},
   "outputs": [],
   "source": [
    "def right_hand_limit(f, a):\n",
    "    # 4.01 , 4.009, 4.008, 4.007\n",
    "    x_values = np.linspace(a+0.01, a, num=10, endpoint=False, )\n",
    "    y_values = [f(x) for x in x_values]\n",
    "    return y_values"
   ]
  },
  {
   "cell_type": "code",
   "execution_count": 33,
   "id": "372f2ec3",
   "metadata": {},
   "outputs": [],
   "source": [
    "# a = 4\n",
    "# np.linspace(a+0.01, a, 10, endpoint=False )"
   ]
  },
  {
   "cell_type": "code",
   "execution_count": 34,
   "id": "840d6c48",
   "metadata": {},
   "outputs": [
    {
     "data": {
      "text/plain": [
       "[5.01,\n",
       " 5.0089999999999995,\n",
       " 5.008,\n",
       " 5.007,\n",
       " 5.006,\n",
       " 5.005,\n",
       " 5.004,\n",
       " 5.003,\n",
       " 5.002,\n",
       " 5.001]"
      ]
     },
     "execution_count": 34,
     "metadata": {},
     "output_type": "execute_result"
    }
   ],
   "source": [
    "a = 4\n",
    "right_hand_limit(f, a)"
   ]
  },
  {
   "cell_type": "code",
   "execution_count": 35,
   "id": "a653b297",
   "metadata": {},
   "outputs": [],
   "source": [
    "def left_hand_limit(f, a):\n",
    "    # 3.99 , 3.991, 3.992, 3.993\n",
    "    x_values = np.linspace(a-0.01, a, num=10, endpoint=False, )\n",
    "    y_values = [f(x) for x in x_values]\n",
    "    return y_values"
   ]
  },
  {
   "cell_type": "code",
   "execution_count": 36,
   "id": "7bdd9a96",
   "metadata": {},
   "outputs": [
    {
     "data": {
      "text/plain": [
       "[4.99,\n",
       " 4.991,\n",
       " 4.992,\n",
       " 4.993,\n",
       " 4.994,\n",
       " 4.995,\n",
       " 4.996,\n",
       " 4.997,\n",
       " 4.998,\n",
       " 4.9990000000000006]"
      ]
     },
     "execution_count": 36,
     "metadata": {},
     "output_type": "execute_result"
    }
   ],
   "source": [
    "a = 4\n",
    "left_hand_limit(f, a)"
   ]
  },
  {
   "cell_type": "code",
   "execution_count": 37,
   "id": "c21129dc",
   "metadata": {},
   "outputs": [
    {
     "data": {
      "text/plain": [
       "[4.01,\n",
       " 4.009,\n",
       " 4.008,\n",
       " 4.007,\n",
       " 4.006,\n",
       " 4.005,\n",
       " 4.004,\n",
       " 4.003,\n",
       " 4.002,\n",
       " 4.0009999999999994]"
      ]
     },
     "execution_count": 37,
     "metadata": {},
     "output_type": "execute_result"
    }
   ],
   "source": [
    "a = 3\n",
    "right_hand_limit(f, a)"
   ]
  },
  {
   "cell_type": "code",
   "execution_count": 38,
   "id": "52a75ea9",
   "metadata": {},
   "outputs": [
    {
     "data": {
      "text/plain": [
       "[0.33444816053511706,\n",
       " 0.33433634236041454,\n",
       " 0.3342245989304813,\n",
       " 0.33411293017039756,\n",
       " 0.334001336005344,\n",
       " 0.333889816360601,\n",
       " 0.33377837116154874,\n",
       " 0.33366700033366703,\n",
       " 0.333555703802535,\n",
       " 0.33344448149383127]"
      ]
     },
     "execution_count": 38,
     "metadata": {},
     "output_type": "execute_result"
    }
   ],
   "source": [
    "a = 3\n",
    "left_hand_limit(f, a)"
   ]
  },
  {
   "cell_type": "code",
   "execution_count": null,
   "id": "84f26d86",
   "metadata": {},
   "outputs": [],
   "source": [
    "."
   ]
  }
 ],
 "metadata": {
  "kernelspec": {
   "display_name": "Python 3",
   "language": "python",
   "name": "python3"
  },
  "language_info": {
   "codemirror_mode": {
    "name": "ipython",
    "version": 3
   },
   "file_extension": ".py",
   "mimetype": "text/x-python",
   "name": "python",
   "nbconvert_exporter": "python",
   "pygments_lexer": "ipython3",
   "version": "3.8.8"
  }
 },
 "nbformat": 4,
 "nbformat_minor": 5
}
